{
 "cells": [
  {
   "cell_type": "code",
   "execution_count": 1,
   "metadata": {},
   "outputs": [],
   "source": [
    "import numpy as np\n",
    "import pandas as pd\n",
    "from scipy.cluster import hierarchy as hc\n",
    "from scipy.spatial.distance import pdist, squareform\n",
    "\n",
    "from IPython.display import Javascript\n",
    "from string import Template\n",
    "\n",
    "from sklearn import datasets\n",
    "from sklearn.ensemble import GradientBoostingRegressor, GradientBoostingClassifier\n",
    "from sklearn.decomposition import PCA, KernelPCA\n",
    "from sklearn.cluster import OPTICS, FeatureAgglomeration\n",
    "from sklearn.preprocessing import StandardScaler\n",
    "from sklearn.impute import SimpleImputer\n",
    "from sklearn.metrics import silhouette_score\n",
    "\n",
    "import altair as alt\n",
    "alt.renderers.enable(\"default\")\n",
    "import plotly.graph_objects as go\n",
    "import plotly.figure_factory as ff\n",
    "import matplotlib.pyplot as plt"
   ]
  },
  {
   "cell_type": "code",
   "execution_count": 104,
   "metadata": {},
   "outputs": [
    {
     "data": {
      "text/plain": [
       "DataTransformerRegistry.enable('default')"
      ]
     },
     "execution_count": 104,
     "metadata": {},
     "output_type": "execute_result"
    }
   ],
   "source": [
    "alt.data_transformers.disable_max_rows()"
   ]
  },
  {
   "cell_type": "code",
   "execution_count": 2,
   "metadata": {},
   "outputs": [
    {
     "data": {
      "text/html": [
       "    <script src=\"https://d3js.org/d3.v5.min.js\"></script>\n"
      ],
      "text/plain": [
       "<IPython.core.display.HTML object>"
      ]
     },
     "metadata": {},
     "output_type": "display_data"
    }
   ],
   "source": [
    "%%HTML\n",
    "    <script src=\"https://d3js.org/d3.v5.min.js\"></script>"
   ]
  },
  {
   "cell_type": "code",
   "execution_count": 3,
   "metadata": {},
   "outputs": [
    {
     "data": {
      "application/javascript": [
       "    var script = document.createElement('script');\n",
       "    script.type = 'text/javascript';\n",
       "    script.src = '//d3js.org/d3.v5.min.js';\n",
       "    document.head.appendChild(script);\n",
       "    console.log(window.d3)\n"
      ],
      "text/plain": [
       "<IPython.core.display.Javascript object>"
      ]
     },
     "metadata": {},
     "output_type": "display_data"
    }
   ],
   "source": [
    "%%javascript\n",
    "    var script = document.createElement('script');\n",
    "    script.type = 'text/javascript';\n",
    "    script.src = '//d3js.org/d3.v5.min.js';\n",
    "    document.head.appendChild(script);\n",
    "    console.log(window.d3)"
   ]
  },
  {
   "cell_type": "code",
   "execution_count": 98,
   "metadata": {},
   "outputs": [],
   "source": [
    "crime_dataset = pd.read_csv(\"data/communities.csv\")\n",
    "crime_df = crime_dataset.drop([\"state\",\"county\",\"community\",\"communityname\",\"fold\"], axis=1)\n",
    "crime_df = crime_df.replace({\"?\":np.nan})\n",
    "imputer = SimpleImputer()\n",
    "crime_df = pd.DataFrame(imputer.fit_transform(crime_df), columns = crime_df.columns)"
   ]
  },
  {
   "cell_type": "code",
   "execution_count": 4,
   "metadata": {},
   "outputs": [],
   "source": [
    "auto_dataset = pd.read_csv(\"data/auto_mpg.csv\")\n",
    "auto_df = auto_dataset.drop(\"car name\", axis=1)\n",
    "auto_df = auto_df.replace({\"?\":np.nan})\n",
    "imputer = SimpleImputer()\n",
    "auto_df = pd.DataFrame(imputer.fit_transform(auto_df), columns = auto_df.columns)"
   ]
  },
  {
   "cell_type": "code",
   "execution_count": 6,
   "metadata": {},
   "outputs": [],
   "source": [
    "bike_dataset = pd.read_csv(\"data/bike.csv\")\n",
    "bike_df = bike_dataset.drop([\"instant\", \"casual\", \"registered\", \"workingday\", \"dteday\"], axis=1)\n",
    "\n",
    "#de-normalize data to produce human-readable features.\n",
    "#Original range info from http://archive.ics.uci.edu/ml/datasets/Bike+Sharing+Dataset\n",
    "bike_df[\"hum\"] = bike_df[\"hum\"].apply(lambda x: x*100.)\n",
    "bike_df[\"windspeed\"] = bike_df[\"windspeed\"].apply(lambda x: x*67.)\n",
    "#convert Celsius to Fahrenheit\n",
    "bike_df[\"temp\"] = bike_df[\"temp\"].apply(lambda x: (x*47. - 8)*9/5 +32)\n",
    "bike_df[\"atemp\"] = bike_df[\"atemp\"].apply(lambda x: (x*66. - 16)*9/5 + 32)\n",
    "\n",
    "bike_df = pd.get_dummies(bike_df, prefix=[\"weathersit\"], columns=[\"weathersit\"], drop_first = True)\n",
    "\n",
    "#rename features to make them interpretable for novice users\n",
    "bike_feature_names_dict = {\n",
    "    \"cnt\":\"Ridership\",\n",
    "    \"yr\":\"First or Second Year\", \n",
    "    \"season\":\"Season\", \n",
    "    \"mnth\": \"Month\",\n",
    "    \"hr\":\"Hour of Day\", \n",
    "    \"holiday\":\"Holiday\",\n",
    "    \"weekday\":\"Week Day\",\n",
    "    \"weathersit_2\":\"Misty Weather\",\n",
    "    \"weathersit_3\":\"Light Precipitation\",\n",
    "    \"weathersit_4\":\"Heavy Precipitation\",\n",
    "    \"temp\":\"Temperature (F)\",\n",
    "    \"atemp\":\"Feels Like (F)\",\n",
    "    \"hum\":\"Humidity\",\n",
    "    \"windspeed\":\"Wind Speed\"\n",
    "}\n",
    "bike_df = bike_df.rename(mapper=bike_feature_names_dict,axis=1) "
   ]
  },
  {
   "cell_type": "code",
   "execution_count": 7,
   "metadata": {},
   "outputs": [],
   "source": [
    "breast_cancer_columns = pd.read_table(\"data/breast_cancer_field_names.txt\", names=[\"features\"])[\"features\"].tolist()\n",
    "breast_cancer_dataset = pd.read_csv(\"data/breast_cancer.csv\", names=breast_cancer_columns)\n",
    "breast_cancer_df = breast_cancer_dataset.drop(\"ID\", axis=1)\n",
    "breast_cancer_df[\"diagnosis\"] = np.where(\n",
    "    breast_cancer_df[\"diagnosis\"] == \"M\",\n",
    "    1,\n",
    "    0\n",
    ")"
   ]
  },
  {
   "cell_type": "code",
   "execution_count": 8,
   "metadata": {},
   "outputs": [],
   "source": [
    "boston_dataset = datasets.load_boston()\n",
    "boston_df = pd.DataFrame(boston_dataset.data, columns = boston_dataset.feature_names)\n",
    "boston_df[\"Median_Home_Value\"] = boston_dataset.target*1000."
   ]
  },
  {
   "cell_type": "code",
   "execution_count": 9,
   "metadata": {},
   "outputs": [],
   "source": [
    "cancer_dataset = pd.read_csv(\"data/cervical_cancer.csv\")\n",
    "cancer_df = cancer_dataset.drop(\"Person\", axis=1)"
   ]
  },
  {
   "cell_type": "code",
   "execution_count": 10,
   "metadata": {},
   "outputs": [],
   "source": [
    "cancer_age_corrected_df = cancer_df.copy()\n",
    "cancer_age_corrected_df[\"Smokes (years)\"] = cancer_age_corrected_df[\"Smokes (years)\"]/cancer_age_corrected_df[\"Age\"]\n",
    "cancer_age_corrected_df[\"Hormonal Contraceptives (years)\"] = cancer_age_corrected_df[\"Hormonal Contraceptives (years)\"]/cancer_age_corrected_df[\"Age\"]\n",
    "cancer_age_corrected_df[\"IUD (years)\"] = cancer_age_corrected_df[\"IUD (years)\"]/cancer_age_corrected_df[\"Age\"]\n",
    "cancer_age_corrected_df[\"Num of pregnancies\"] = cancer_age_corrected_df[\"Num of pregnancies\"]/(cancer_age_corrected_df[\"Age\"])"
   ]
  },
  {
   "cell_type": "code",
   "execution_count": 218,
   "metadata": {},
   "outputs": [],
   "source": [
    "def visualize_feature_correlation(data, chart_type, target_name = None):\n",
    "    df = data.copy()\n",
    "    corr = np.round(df.corr(),2)\n",
    "    if target_name is not None:\n",
    "        target_corr = np.abs(corr.rename({target_name:\"target_corr\"}, axis=1)[\"target_corr\"])\n",
    "        df = df.drop(target_name, axis=1)\n",
    "        corr = corr.drop(target_name, axis=1).drop(target_name, axis=0)\n",
    "    feature_order = sorted(list(df.columns))\n",
    "    if chart_type == \"SPLOM\":\n",
    "        chart = alt.Chart(df).mark_circle().encode(\n",
    "            alt.X(alt.repeat(\"column\"), type='quantitative'),\n",
    "            alt.Y(alt.repeat(\"row\"), type='quantitative')\n",
    "        ).properties(\n",
    "            width=100,\n",
    "            height=100\n",
    "        ).repeat(\n",
    "            row=list(df.columns),\n",
    "            column=list(df.columns)\n",
    "        )\n",
    "        return chart\n",
    "    elif chart_type == \"dendrogram\":\n",
    "#     corr_condensed = hc.distance.squareform(1 - np.abs(cancer_df.corr()) ) # convert to condensed\n",
    "#     z = hc.linkage(corr_condensed, method='average')\n",
    "#     dendrogram_order = hc.dendrogram(z, labels=cancer_df.columns)[\"ivl\"]      \n",
    "        fig = ff.create_dendrogram(\n",
    "            1 - np.abs(corr), \n",
    "            labels = df.columns\n",
    "        )\n",
    "        fig.update_layout(width=800, height=500)\n",
    "        fig.show()\n",
    "    elif chart_type == \"punchcard\":\n",
    "        heatmap_data = corr.reset_index(drop = False).melt(id_vars=\"index\")\n",
    "        base = alt.Chart(\n",
    "            heatmap_data\n",
    "        ).encode(\n",
    "            x = alt.X(\"index\", sort = feature_order, axis=None),\n",
    "            y = alt.Y(\"variable\", sort = feature_order, axis=None)\n",
    "        ).transform_calculate(\n",
    "            abs_val = 'abs(datum.value)',\n",
    "            positive_corr = 'datum.value > 0'\n",
    "        ).transform_lookup(\n",
    "            lookup='index',\n",
    "            from_=alt.LookupData(\n",
    "                data=pd.DataFrame(feature_order).reset_index(drop=False).rename({\"index\":\"order_X\", 0:\"feature\"}, axis=1),\n",
    "                key='feature',\n",
    "                fields=['order_X']\n",
    "            )\n",
    "        ).transform_lookup(\n",
    "            lookup='variable',\n",
    "            from_=alt.LookupData(\n",
    "                data=pd.DataFrame(feature_order).reset_index(drop=False).rename({\"index\":\"order_Y\", 0:\"feature\"}, axis=1),\n",
    "                key='feature',\n",
    "                fields=['order_Y']\n",
    "            )\n",
    "        ).properties(\n",
    "            width = 700,\n",
    "            height = 500\n",
    "        )\n",
    "\n",
    "        circles = base.mark_circle().encode(\n",
    "            color = \"positive_corr:N\",\n",
    "            size = alt.condition(\n",
    "                \"datum.order_Y >= datum.order_X\",\n",
    "                alt.value(0),\n",
    "                alt.Size(\n",
    "                    \"abs_val:Q\", \n",
    "                    scale=alt.Scale(range=[0,2000], domain=[0,1])\n",
    "                )\n",
    "            )\n",
    "        )\n",
    "        text = base.mark_text(align=\"right\").encode(\n",
    "            text = \"index\",\n",
    "            opacity = alt.condition(\"datum.order_Y == datum.order_X\", alt.value(1), alt.value(0))\n",
    "        )\n",
    "        return (text+circles).resolve_scale(y = \"shared\", x=\"shared\")\n",
    "    elif chart_type == \"heatmap\":\n",
    "        heatmap_data = corr.reset_index(drop = False).melt(id_vars=\"index\")\n",
    "        base = alt.Chart(\n",
    "            heatmap_data\n",
    "        ).encode(\n",
    "            x = alt.X(\"index\", sort = feature_order, axis = alt.Axis(labelAngle=15)),\n",
    "            y = alt.Y(\"variable\", sort = feature_order)\n",
    "        ).transform_calculate(\n",
    "            abs_val = 'abs(datum.value)'\n",
    "        ).properties(\n",
    "            width = 700,\n",
    "            height = 500\n",
    "        )\n",
    "\n",
    "        rects = base.mark_rect().encode(\n",
    "            color = alt.Color(\"abs_val:Q\", scale=alt.Scale(domain=[0,1])),\n",
    "        )\n",
    "        text = base.mark_text(align=\"center\").encode(\n",
    "            text = \"value\",\n",
    "            color = alt.condition(\n",
    "                \"datum.value < .5\",\n",
    "                alt.value(\"black\"),\n",
    "                alt.value(\"white\")\n",
    "            )\n",
    "        )\n",
    "        return (rects+text).resolve_scale(y = \"shared\", x=\"shared\")\n",
    "    elif chart_type == \"clusters\":\n",
    "        \n",
    "        #compute PCA and store as X,Y coordinates for each feature\n",
    "        pca = PCA(n_components = 2)\n",
    "        pca.fit(np.abs(corr))\n",
    "        pca_coords = pd.DataFrame.from_dict(\n",
    "            dict(\n",
    "                zip(\n",
    "                    list(df.columns),\n",
    "                    pca.transform(np.abs(corr)).tolist()\n",
    "                )\n",
    "            ),\n",
    "            orient=\"index\"\n",
    "        ).reset_index().rename({0:\"X\", 1:\"Y\", \"index\":\"Feature\"}, axis=1)\n",
    "        \n",
    "        #get feature clusters via another method\n",
    "        scaler = StandardScaler()\n",
    "        feature_distances = squareform(pdist(scaler.fit_transform(df).T, \"euclidean\"))\n",
    "        silhouette_scores = []\n",
    "        for n_cluster in range(3,df.shape[1]):\n",
    "            corr_clusters = FeatureAgglomeration(n_clusters = n_cluster, affinity = \"precomputed\", linkage = \"average\").fit(feature_distances)\n",
    "            silhouette_scores.append(\n",
    "                (\n",
    "                    n_cluster,\n",
    "                    silhouette_score(feature_distances, corr_clusters.labels_, metric = \"precomputed\"),\n",
    "                    corr_clusters.labels_\n",
    "                )\n",
    "            )\n",
    "\n",
    "        silhouette_scores.sort(key = lambda x: x[1], reverse = True)\n",
    "        labels = silhouette_scores[0][2]\n",
    "        cluster_order_lookup_dict = {\n",
    "            x[0]: (-1 if x[1] == 1 else i+1) \n",
    "            for i,x\n",
    "            in enumerate(\n",
    "                sorted(\n",
    "                    list(\n",
    "                        zip(\n",
    "                            range(len(labels)),\n",
    "                            np.bincount(labels)\n",
    "                        )\n",
    "                    ), \n",
    "                    key=lambda x: x[1], reverse=True\n",
    "                )\n",
    "            )\n",
    "        }\n",
    "            \n",
    "        cluster_label_df = pd.DataFrame.from_dict(\n",
    "            dict(\n",
    "                list(\n",
    "                    zip(\n",
    "                        df.columns,\n",
    "                        map(cluster_order_lookup_dict.get, labels, labels)\n",
    "                    )\n",
    "                )\n",
    "            ),\n",
    "            orient=\"index\"\n",
    "        ).reset_index().rename({0:\"Cluster\", \"index\":\"Feature\"}, axis=1)\n",
    "        \n",
    "        cluster_label_df[\"cluster_size\"] = cluster_label_df.groupby(\"Cluster\").transform(\"count\")\n",
    "        \n",
    "#         pca_coords = pca_coords.set_index(\"Feature\").join(\n",
    "#             cluster_label_df\n",
    "#         )\n",
    "        \n",
    "        # set correlation with target, if using, which determines circle size\n",
    "        if target_name is not None:\n",
    "            pca_coords = pca_coords.join(\n",
    "                target_corr\n",
    "            ).reset_index()\n",
    "        else:\n",
    "            pca_coords = pca_coords.reset_index()\n",
    "            pca_coords[\"target_corr\"] = 1\n",
    "            \n",
    "        # get dataset for lines between features (if they have higher correlation than corr_threshold)\n",
    "        corr_lines = corr.reset_index(drop=False).rename({\"index\":\"Feature\"}, axis=1)\\\n",
    "            .melt(id_vars = [\"Feature\"], var_name = \"Feature_2\", value_name = \"corr\")\\\n",
    "            .query(\"Feature > Feature_2\")\n",
    "        \n",
    "        corr_lines[\"corr_abs\"] = np.abs(corr_lines[\"corr\"])\n",
    "        corr_selector_data = corr_lines.copy()\n",
    "        corr_selector_data[\"corr_abs\"] = np.floor((corr_selector_data[\"corr_abs\"]*10))/10\n",
    "        corr_selector_data = corr_selector_data.groupby(\"corr_abs\").size().reset_index().rename({0:\"Count\"}, axis = 1)\n",
    "        corr_lines_1 = pd.merge(\n",
    "            corr_lines, \n",
    "            pca_coords.loc[:,[\"Feature\", \"X\", \"Y\"]], \n",
    "            on = \"Feature\"\n",
    "        )\n",
    "        corr_lines_2 = pd.merge(\n",
    "            corr_lines, \n",
    "            pca_coords.set_index(\"Feature\").loc[:,[\"X\", \"Y\"]],\n",
    "            left_on = \"Feature_2\", right_index = True\n",
    "        )\n",
    "        corr_lines = corr_lines_1.append(corr_lines_2)\n",
    "        corr_lines[\"key\"] = corr_lines[\"Feature\"] + corr_lines[\"Feature_2\"]\n",
    "        \n",
    "        corr_line_selector = alt.selection_single(fields = [\"corr_abs\"], init = {\"corr_abs\":0.7})\n",
    "        cluster_selection = alt.selection_single(fields=[\"Cluster\"])\n",
    "\n",
    "        corr_bar_chart = alt.Chart(corr_selector_data).mark_bar().encode(\n",
    "            x = \"corr_abs:O\",\n",
    "            y = alt.Y(\"Count\", axis = alt.Axis(labelAngle = 0, title = \"Feature Pairs\", titleAngle=0)),\n",
    "            color = alt.condition(\n",
    "                alt.datum.corr_abs >= corr_line_selector.corr_abs, \n",
    "                alt.value(\"lightblue\"), \n",
    "                alt.value(\"lightgray\")\n",
    "            )\n",
    "        ).add_selection(\n",
    "            corr_line_selector\n",
    "        ).properties(\n",
    "            width = 800,\n",
    "            height = 100,\n",
    "            title = \"Select Correlation Threshold to Show Lines\"\n",
    "        )\n",
    "        \n",
    "        base = alt.layer().encode(\n",
    "            x = \"X\",\n",
    "            y = \"Y\",\n",
    "            color = alt.condition(\n",
    "                cluster_selection,\n",
    "                alt.Color(\"Cluster:N\", legend = None),\n",
    "                alt.value(\"lightgray\")\n",
    "            )\n",
    "        )\n",
    "        \n",
    "        base += alt.Chart(pca_coords).mark_circle().encode(\n",
    "            size = alt.Size(\"target_corr:Q\", scale=alt.Scale(domain = [0,1]), legend=None)\n",
    "        ).transform_lookup(\n",
    "            lookup='Feature',\n",
    "            from_=alt.LookupData(data=cluster_label_df, key='Feature',\n",
    "                                 fields=['cluster_size', 'Cluster'])            \n",
    "        )\n",
    "        \n",
    "        base += alt.Chart(pca_coords).mark_text(dx=20, dy = 10).encode(\n",
    "            text = \"Feature\",\n",
    "        ).transform_lookup(\n",
    "            lookup='Feature',\n",
    "            from_=alt.LookupData(data=cluster_label_df, key='Feature',\n",
    "                                 fields=['cluster_size', 'Cluster'])            \n",
    "        )\n",
    "        \n",
    "        base += alt.Chart(corr_lines).mark_line().encode(\n",
    "            detail = \"key\",\n",
    "            strokeWidth = alt.StrokeWidth(\"corr_abs\", scale = alt.Scale(domain = [0,1], range = [.3,3]))\n",
    "        ).transform_filter(\n",
    "            alt.datum.corr_abs >= corr_line_selector.corr_abs\n",
    "        ).transform_lookup(\n",
    "            lookup='Feature',\n",
    "            from_=alt.LookupData(data=cluster_label_df, key='Feature',\n",
    "                                 fields=['cluster_size', 'Cluster'])            \n",
    "        )\n",
    "        \n",
    "        base = base.properties(width = 800, height = 500).interactive()\n",
    "        \n",
    "        legend = alt.Chart(cluster_label_df).mark_bar().encode(\n",
    "            y = \"Cluster:N\",\n",
    "            x = \"cluster_size\",\n",
    "            color = alt.Color(\"Cluster:N\", legend=None),\n",
    "        ).add_selection(\n",
    "            cluster_selection\n",
    "        ).properties(\n",
    "            width = 150\n",
    "        )\n",
    "        \n",
    "        return (base & corr_bar_chart) | legend\n",
    "        \n",
    "    elif chart_type == \"force_layout\":\n",
    "        chart_data = {\n",
    "            \"nodes\": [{\"id\": x} for x in list(corr.index)],\n",
    "            \"links\": [\n",
    "                {\n",
    "                    \"source\": x[\"index\"],\n",
    "                    \"target\": x[\"variable\"],\n",
    "                    \"value\": abs(x[\"value\"])\n",
    "                }\n",
    "                for x in corr.reset_index(drop = False).melt(id_vars=\"index\").to_dict(\"records\")\n",
    "                if x[\"index\"] > x[\"variable\"] and abs(x[\"value\"])> 0.5\n",
    "            ]\n",
    "        }\n",
    "        d3_script = Template(\"\"\"\n",
    "\n",
    "        var margin = {top: 10, right: 30, bottom: 30, left: 30},\n",
    "            width = 960 - margin.left - margin.right,\n",
    "            height = 500 - margin.top - margin.bottom;\n",
    "\n",
    "          var data = $data\n",
    "          const links = data.links.map(d => Object.create(d));\n",
    "          const nodes = data.nodes.map(d => Object.create(d));\n",
    "\n",
    "          const simulation = d3.forceSimulation(nodes)\n",
    "              .force(\"link\", d3.forceLink(links).id(d => d.id).distance(100).strength(d => Math.pow(d.value,2)))\n",
    "              .force(\"charge\", d3.forceManyBody().strength(-50).distanceMax(350))\n",
    "              .force(\"center\", d3.forceCenter(width / 2, height / 2));\n",
    "\n",
    "        var svg = d3.select(element).append(\"svg\")\n",
    "            .attr(\"width\", width + margin.left + margin.right)\n",
    "            .attr(\"height\", height + margin.top + margin.bottom)\n",
    "          .append(\"g\")\n",
    "            .attr(\"transform\", \"translate(\" + margin.left + \",\" + margin.top + \")\");\n",
    "\n",
    "          const link_objects = svg.append(\"g\")\n",
    "              .attr(\"stroke\", \"#999\")\n",
    "              .attr(\"stroke-opacity\", 0.6)\n",
    "            .selectAll(\"line\")\n",
    "            .data(links)\n",
    "            .join(\"line\")\n",
    "              .attr(\"stroke-width\", d => Math.sqrt(d.value));\n",
    "\n",
    "          const node_objects = svg\n",
    "            .selectAll(\".node\")\n",
    "            .data(nodes)\n",
    "            .join(\"g\")\n",
    "              .attr(\"class\", \"node\")\n",
    "            \n",
    "          node_objects.append(\"circle\")\n",
    "            .attr(\"r\", 5)\n",
    "            .attr(\"fill\", \"blue\");\n",
    "            \n",
    "        \n",
    "          node_objects.append(\"text\")\n",
    "            .text(d => d.id);\n",
    "\n",
    "          simulation.on(\"tick\", () => {\n",
    "            link_objects\n",
    "                .attr(\"x1\", d => d.source.x)\n",
    "                .attr(\"y1\", d => d.source.y)\n",
    "                .attr(\"x2\", d => d.target.x)\n",
    "                .attr(\"y2\", d => d.target.y);\n",
    "\n",
    "            node_objects\n",
    "                .attr(\"cx\", d => d.x)\n",
    "                .attr(\"cy\", d => d.y);\n",
    "          });\n",
    "\n",
    "          //invalidation.then(() => simulation.stop());\n",
    "        \"\"\")\n",
    "\n",
    "        return Javascript(d3_script.substitute(data=chart_data))"
   ]
  },
  {
   "cell_type": "code",
   "execution_count": 222,
   "metadata": {},
   "outputs": [
    {
     "data": {
      "application/vnd.vegalite.v3+json": {
       "$schema": "https://vega.github.io/schema/vega-lite/v3.4.0.json",
       "config": {
        "mark": {
         "tooltip": null
        },
        "view": {
         "height": 300,
         "width": 400
        }
       },
       "datasets": {
        "data-766b395d38f026168cff9a5a35b63058": [
         {
          "Feature": "diagnosis",
          "X": -0.9095535161984573,
          "Y": -0.0894896434240214,
          "index": 0,
          "target_corr": 1
         },
         {
          "Feature": "radius_mean",
          "X": -1.3592497999392317,
          "Y": 0.4140212204878494,
          "index": 1,
          "target_corr": 1
         },
         {
          "Feature": "radius_sd_error",
          "X": 0.3661109483268539,
          "Y": 1.1085342092360235,
          "index": 2,
          "target_corr": 1
         },
         {
          "Feature": "radius_worst",
          "X": -1.3953436025725137,
          "Y": 0.2984042728004396,
          "index": 3,
          "target_corr": 1
         },
         {
          "Feature": "texture_mean",
          "X": -1.4035100375867833,
          "Y": 0.4377402076995952,
          "index": 4,
          "target_corr": 1
         },
         {
          "Feature": "texture_sd_error",
          "X": 0.8583312366444462,
          "Y": -0.4004096815007781,
          "index": 5,
          "target_corr": 1
         },
         {
          "Feature": "texture_worst",
          "X": -0.16624555022421336,
          "Y": -1.0937198829861112,
          "index": 6,
          "target_corr": 1
         },
         {
          "Feature": "perimeter_mean",
          "X": -0.718220715683882,
          "Y": -0.8593426871710538,
          "index": 7,
          "target_corr": 1
         },
         {
          "Feature": "perimeter_sd_error",
          "X": -1.134308231657087,
          "Y": -0.5785850486163312,
          "index": 8,
          "target_corr": 1
         },
         {
          "Feature": "perimeter_worst",
          "X": 0.9746277606808748,
          "Y": -0.28202734165354953,
          "index": 9,
          "target_corr": 1
         },
         {
          "Feature": "area_mean",
          "X": 1.356690788540196,
          "Y": -0.23651843320424767,
          "index": 10,
          "target_corr": 1
         },
         {
          "Feature": "area_sd_error",
          "X": -0.8964952742805722,
          "Y": 0.4806660726525604,
          "index": 11,
          "target_corr": 1
         },
         {
          "Feature": "area_worst",
          "X": 1.3846070448538799,
          "Y": 1.404672398683716,
          "index": 12,
          "target_corr": 1
         },
         {
          "Feature": "smoothness_mean",
          "X": -0.8758029524784953,
          "Y": 0.3734621694926181,
          "index": 13,
          "target_corr": 1
         },
         {
          "Feature": "smoothness_sd_error",
          "X": -1.0287701195014638,
          "Y": 0.5576434817945839,
          "index": 14,
          "target_corr": 1
         },
         {
          "Feature": "smoothness_worst",
          "X": 1.3420706314594673,
          "Y": 0.9724119900806828,
          "index": 15,
          "target_corr": 1
         },
         {
          "Feature": "compactness_mean",
          "X": 0.8555238709691172,
          "Y": -0.5862127017754521,
          "index": 16,
          "target_corr": 1
         },
         {
          "Feature": "compactness_sd_error",
          "X": 0.8712102630263099,
          "Y": -0.3494037604907286,
          "index": 17,
          "target_corr": 1
         },
         {
          "Feature": "compactness_worst",
          "X": 0.2876823959657003,
          "Y": -0.28965929059324086,
          "index": 18,
          "target_corr": 1
         },
         {
          "Feature": "concavity_mean",
          "X": 1.4802274110064482,
          "Y": 0.9423863485385834,
          "index": 19,
          "target_corr": 1
         },
         {
          "Feature": "concavity_sd_error",
          "X": 1.5999275290020805,
          "Y": -0.1287958445419005,
          "index": 20,
          "target_corr": 1
         },
         {
          "Feature": "concavity_worst",
          "X": -1.3978663256422363,
          "Y": 0.3010427285687964,
          "index": 21,
          "target_corr": 1
         },
         {
          "Feature": "concave_points_mean",
          "X": 0.43309910036905297,
          "Y": 0.9882464968652713,
          "index": 22,
          "target_corr": 1
         },
         {
          "Feature": "concave_points_sd_error",
          "X": -1.4305533463499376,
          "Y": 0.17763167675042257,
          "index": 23,
          "target_corr": 1
         },
         {
          "Feature": "concave_points_worst",
          "X": -1.3889029607897831,
          "Y": 0.3647607153838467,
          "index": 24,
          "target_corr": 1
         },
         {
          "Feature": "symmetry_mean",
          "X": 0.9586499014205722,
          "Y": -0.36173045459072645,
          "index": 25,
          "target_corr": 1
         },
         {
          "Feature": "symmetry_sd_error",
          "X": 0.12130439533483439,
          "Y": -0.9653280462750881,
          "index": 26,
          "target_corr": 1
         },
         {
          "Feature": "symmetry_worst",
          "X": -0.2441402884820551,
          "Y": -0.930804369599624,
          "index": 27,
          "target_corr": 1
         },
         {
          "Feature": "fractal_dimension_mean",
          "X": -0.8827594813905651,
          "Y": -0.7030792747522354,
          "index": 28,
          "target_corr": 1
         },
         {
          "Feature": "fractal_dimension_sd_error",
          "X": 0.9689000336230705,
          "Y": -0.1703094215612354,
          "index": 29,
          "target_corr": 1
         },
         {
          "Feature": "fractal_dimension_worst",
          "X": 1.3727588915543767,
          "Y": -0.7962081062986649,
          "index": 30,
          "target_corr": 1
         }
        ],
        "data-d0484ac232f829d457b2b12a3dc1ae4a": [
         {
          "Feature": "radius_mean",
          "Feature_2": "diagnosis",
          "X": -1.3592497999392317,
          "Y": 0.4140212204878494,
          "corr": 0.73,
          "corr_abs": 0.73,
          "key": "radius_meandiagnosis"
         },
         {
          "Feature": "radius_mean",
          "Feature_2": "perimeter_mean",
          "X": -1.3592497999392317,
          "Y": 0.4140212204878494,
          "corr": 0.68,
          "corr_abs": 0.68,
          "key": "radius_meanperimeter_mean"
         },
         {
          "Feature": "radius_mean",
          "Feature_2": "perimeter_sd_error",
          "X": -1.3592497999392317,
          "Y": 0.4140212204878494,
          "corr": 0.82,
          "corr_abs": 0.82,
          "key": "radius_meanperimeter_sd_error"
         },
         {
          "Feature": "radius_mean",
          "Feature_2": "perimeter_worst",
          "X": -1.3592497999392317,
          "Y": 0.4140212204878494,
          "corr": 0.15,
          "corr_abs": 0.15,
          "key": "radius_meanperimeter_worst"
         },
         {
          "Feature": "radius_mean",
          "Feature_2": "area_mean",
          "X": -1.3592497999392317,
          "Y": 0.4140212204878494,
          "corr": -0.31,
          "corr_abs": 0.31,
          "key": "radius_meanarea_mean"
         },
         {
          "Feature": "radius_mean",
          "Feature_2": "area_sd_error",
          "X": -1.3592497999392317,
          "Y": 0.4140212204878494,
          "corr": 0.68,
          "corr_abs": 0.68,
          "key": "radius_meanarea_sd_error"
         },
         {
          "Feature": "radius_mean",
          "Feature_2": "area_worst",
          "X": -1.3592497999392317,
          "Y": 0.4140212204878494,
          "corr": -0.1,
          "corr_abs": 0.1,
          "key": "radius_meanarea_worst"
         },
         {
          "Feature": "radius_mean",
          "Feature_2": "compactness_mean",
          "X": -1.3592497999392317,
          "Y": 0.4140212204878494,
          "corr": 0.21,
          "corr_abs": 0.21,
          "key": "radius_meancompactness_mean"
         },
         {
          "Feature": "radius_mean",
          "Feature_2": "compactness_sd_error",
          "X": -1.3592497999392317,
          "Y": 0.4140212204878494,
          "corr": 0.19,
          "corr_abs": 0.19,
          "key": "radius_meancompactness_sd_error"
         },
         {
          "Feature": "radius_mean",
          "Feature_2": "compactness_worst",
          "X": -1.3592497999392317,
          "Y": 0.4140212204878494,
          "corr": 0.38,
          "corr_abs": 0.38,
          "key": "radius_meancompactness_worst"
         },
         {
          "Feature": "radius_mean",
          "Feature_2": "concavity_mean",
          "X": -1.3592497999392317,
          "Y": 0.4140212204878494,
          "corr": -0.1,
          "corr_abs": 0.1,
          "key": "radius_meanconcavity_mean"
         },
         {
          "Feature": "radius_mean",
          "Feature_2": "concavity_sd_error",
          "X": -1.3592497999392317,
          "Y": 0.4140212204878494,
          "corr": -0.04,
          "corr_abs": 0.04,
          "key": "radius_meanconcavity_sd_error"
         },
         {
          "Feature": "radius_mean",
          "Feature_2": "concavity_worst",
          "X": -1.3592497999392317,
          "Y": 0.4140212204878494,
          "corr": 0.97,
          "corr_abs": 0.97,
          "key": "radius_meanconcavity_worst"
         },
         {
          "Feature": "radius_mean",
          "Feature_2": "concave_points_mean",
          "X": -1.3592497999392317,
          "Y": 0.4140212204878494,
          "corr": 0.3,
          "corr_abs": 0.3,
          "key": "radius_meanconcave_points_mean"
         },
         {
          "Feature": "radius_mean",
          "Feature_2": "concave_points_sd_error",
          "X": -1.3592497999392317,
          "Y": 0.4140212204878494,
          "corr": 0.97,
          "corr_abs": 0.97,
          "key": "radius_meanconcave_points_sd_error"
         },
         {
          "Feature": "radius_mean",
          "Feature_2": "concave_points_worst",
          "X": -1.3592497999392317,
          "Y": 0.4140212204878494,
          "corr": 0.94,
          "corr_abs": 0.94,
          "key": "radius_meanconcave_points_worst"
         },
         {
          "Feature": "radius_mean",
          "Feature_2": "fractal_dimension_mean",
          "X": -1.3592497999392317,
          "Y": 0.4140212204878494,
          "corr": 0.74,
          "corr_abs": 0.74,
          "key": "radius_meanfractal_dimension_mean"
         },
         {
          "Feature": "radius_mean",
          "Feature_2": "fractal_dimension_sd_error",
          "X": -1.3592497999392317,
          "Y": 0.4140212204878494,
          "corr": 0.16,
          "corr_abs": 0.16,
          "key": "radius_meanfractal_dimension_sd_error"
         },
         {
          "Feature": "radius_mean",
          "Feature_2": "fractal_dimension_worst",
          "X": -1.3592497999392317,
          "Y": 0.4140212204878494,
          "corr": 0.01,
          "corr_abs": 0.01,
          "key": "radius_meanfractal_dimension_worst"
         },
         {
          "Feature": "radius_sd_error",
          "Feature_2": "diagnosis",
          "X": 0.3661109483268539,
          "Y": 1.1085342092360235,
          "corr": 0.42,
          "corr_abs": 0.42,
          "key": "radius_sd_errordiagnosis"
         },
         {
          "Feature": "radius_sd_error",
          "Feature_2": "radius_mean",
          "X": 0.3661109483268539,
          "Y": 1.1085342092360235,
          "corr": 0.32,
          "corr_abs": 0.32,
          "key": "radius_sd_errorradius_mean"
         },
         {
          "Feature": "radius_sd_error",
          "Feature_2": "perimeter_mean",
          "X": 0.3661109483268539,
          "Y": 1.1085342092360235,
          "corr": 0.3,
          "corr_abs": 0.3,
          "key": "radius_sd_errorperimeter_mean"
         },
         {
          "Feature": "radius_sd_error",
          "Feature_2": "perimeter_sd_error",
          "X": 0.3661109483268539,
          "Y": 1.1085342092360235,
          "corr": 0.29,
          "corr_abs": 0.29,
          "key": "radius_sd_errorperimeter_sd_error"
         },
         {
          "Feature": "radius_sd_error",
          "Feature_2": "perimeter_worst",
          "X": 0.3661109483268539,
          "Y": 1.1085342092360235,
          "corr": 0.07,
          "corr_abs": 0.07,
          "key": "radius_sd_errorperimeter_worst"
         },
         {
          "Feature": "radius_sd_error",
          "Feature_2": "area_mean",
          "X": 0.3661109483268539,
          "Y": 1.1085342092360235,
          "corr": -0.08,
          "corr_abs": 0.08,
          "key": "radius_sd_errorarea_mean"
         },
         {
          "Feature": "radius_sd_error",
          "Feature_2": "area_sd_error",
          "X": 0.3661109483268539,
          "Y": 1.1085342092360235,
          "corr": 0.28,
          "corr_abs": 0.28,
          "key": "radius_sd_errorarea_sd_error"
         },
         {
          "Feature": "radius_sd_error",
          "Feature_2": "area_worst",
          "X": 0.3661109483268539,
          "Y": 1.1085342092360235,
          "corr": 0.39,
          "corr_abs": 0.39,
          "key": "radius_sd_errorarea_worst"
         },
         {
          "Feature": "radius_sd_error",
          "Feature_2": "compactness_mean",
          "X": 0.3661109483268539,
          "Y": 1.1085342092360235,
          "corr": 0.19,
          "corr_abs": 0.19,
          "key": "radius_sd_errorcompactness_mean"
         },
         {
          "Feature": "radius_sd_error",
          "Feature_2": "compactness_sd_error",
          "X": 0.3661109483268539,
          "Y": 1.1085342092360235,
          "corr": 0.14,
          "corr_abs": 0.14,
          "key": "radius_sd_errorcompactness_sd_error"
         },
         {
          "Feature": "radius_sd_error",
          "Feature_2": "compactness_worst",
          "X": 0.3661109483268539,
          "Y": 1.1085342092360235,
          "corr": 0.16,
          "corr_abs": 0.16,
          "key": "radius_sd_errorcompactness_worst"
         },
         {
          "Feature": "radius_sd_error",
          "Feature_2": "concavity_mean",
          "X": 0.3661109483268539,
          "Y": 1.1085342092360235,
          "corr": 0.01,
          "corr_abs": 0.01,
          "key": "radius_sd_errorconcavity_mean"
         },
         {
          "Feature": "radius_sd_error",
          "Feature_2": "concavity_sd_error",
          "X": 0.3661109483268539,
          "Y": 1.1085342092360235,
          "corr": 0.05,
          "corr_abs": 0.05,
          "key": "radius_sd_errorconcavity_sd_error"
         },
         {
          "Feature": "radius_sd_error",
          "Feature_2": "concavity_worst",
          "X": 0.3661109483268539,
          "Y": 1.1085342092360235,
          "corr": 0.35,
          "corr_abs": 0.35,
          "key": "radius_sd_errorconcavity_worst"
         },
         {
          "Feature": "radius_sd_error",
          "Feature_2": "concave_points_mean",
          "X": 0.3661109483268539,
          "Y": 1.1085342092360235,
          "corr": 0.91,
          "corr_abs": 0.91,
          "key": "radius_sd_errorconcave_points_mean"
         },
         {
          "Feature": "radius_sd_error",
          "Feature_2": "concave_points_sd_error",
          "X": 0.3661109483268539,
          "Y": 1.1085342092360235,
          "corr": 0.36,
          "corr_abs": 0.36,
          "key": "radius_sd_errorconcave_points_sd_error"
         },
         {
          "Feature": "radius_sd_error",
          "Feature_2": "concave_points_worst",
          "X": 0.3661109483268539,
          "Y": 1.1085342092360235,
          "corr": 0.34,
          "corr_abs": 0.34,
          "key": "radius_sd_errorconcave_points_worst"
         },
         {
          "Feature": "radius_sd_error",
          "Feature_2": "fractal_dimension_mean",
          "X": 0.3661109483268539,
          "Y": 1.1085342092360235,
          "corr": 0.3,
          "corr_abs": 0.3,
          "key": "radius_sd_errorfractal_dimension_mean"
         },
         {
          "Feature": "radius_sd_error",
          "Feature_2": "fractal_dimension_sd_error",
          "X": 0.3661109483268539,
          "Y": 1.1085342092360235,
          "corr": 0.11,
          "corr_abs": 0.11,
          "key": "radius_sd_errorfractal_dimension_sd_error"
         },
         {
          "Feature": "radius_sd_error",
          "Feature_2": "fractal_dimension_worst",
          "X": 0.3661109483268539,
          "Y": 1.1085342092360235,
          "corr": 0.12,
          "corr_abs": 0.12,
          "key": "radius_sd_errorfractal_dimension_worst"
         },
         {
          "Feature": "radius_worst",
          "Feature_2": "diagnosis",
          "X": -1.3953436025725137,
          "Y": 0.2984042728004396,
          "corr": 0.74,
          "corr_abs": 0.74,
          "key": "radius_worstdiagnosis"
         },
         {
          "Feature": "radius_worst",
          "Feature_2": "radius_mean",
          "X": -1.3953436025725137,
          "Y": 0.2984042728004396,
          "corr": 1,
          "corr_abs": 1,
          "key": "radius_worstradius_mean"
         },
         {
          "Feature": "radius_worst",
          "Feature_2": "radius_sd_error",
          "X": -1.3953436025725137,
          "Y": 0.2984042728004396,
          "corr": 0.33,
          "corr_abs": 0.33,
          "key": "radius_worstradius_sd_error"
         },
         {
          "Feature": "radius_worst",
          "Feature_2": "perimeter_mean",
          "X": -1.3953436025725137,
          "Y": 0.2984042728004396,
          "corr": 0.72,
          "corr_abs": 0.72,
          "key": "radius_worstperimeter_mean"
         },
         {
          "Feature": "radius_worst",
          "Feature_2": "perimeter_sd_error",
          "X": -1.3953436025725137,
          "Y": 0.2984042728004396,
          "corr": 0.85,
          "corr_abs": 0.85,
          "key": "radius_worstperimeter_sd_error"
         },
         {
          "Feature": "radius_worst",
          "Feature_2": "perimeter_worst",
          "X": -1.3953436025725137,
          "Y": 0.2984042728004396,
          "corr": 0.18,
          "corr_abs": 0.18,
          "key": "radius_worstperimeter_worst"
         },
         {
          "Feature": "radius_worst",
          "Feature_2": "area_mean",
          "X": -1.3953436025725137,
          "Y": 0.2984042728004396,
          "corr": -0.26,
          "corr_abs": 0.26,
          "key": "radius_worstarea_mean"
         },
         {
          "Feature": "radius_worst",
          "Feature_2": "area_sd_error",
          "X": -1.3953436025725137,
          "Y": 0.2984042728004396,
          "corr": 0.69,
          "corr_abs": 0.69,
          "key": "radius_worstarea_sd_error"
         },
         {
          "Feature": "radius_worst",
          "Feature_2": "area_worst",
          "X": -1.3953436025725137,
          "Y": 0.2984042728004396,
          "corr": -0.09,
          "corr_abs": 0.09,
          "key": "radius_worstarea_worst"
         },
         {
          "Feature": "radius_worst",
          "Feature_2": "compactness_mean",
          "X": -1.3953436025725137,
          "Y": 0.2984042728004396,
          "corr": 0.25,
          "corr_abs": 0.25,
          "key": "radius_worstcompactness_mean"
         },
         {
          "Feature": "radius_worst",
          "Feature_2": "compactness_sd_error",
          "X": -1.3953436025725137,
          "Y": 0.2984042728004396,
          "corr": 0.23,
          "corr_abs": 0.23,
          "key": "radius_worstcompactness_sd_error"
         },
         {
          "Feature": "radius_worst",
          "Feature_2": "compactness_worst",
          "X": -1.3953436025725137,
          "Y": 0.2984042728004396,
          "corr": 0.41,
          "corr_abs": 0.41,
          "key": "radius_worstcompactness_worst"
         },
         {
          "Feature": "radius_worst",
          "Feature_2": "concavity_mean",
          "X": -1.3953436025725137,
          "Y": 0.2984042728004396,
          "corr": -0.08,
          "corr_abs": 0.08,
          "key": "radius_worstconcavity_mean"
         },
         {
          "Feature": "radius_worst",
          "Feature_2": "concavity_sd_error",
          "X": -1.3953436025725137,
          "Y": 0.2984042728004396,
          "corr": -0.01,
          "corr_abs": 0.01,
          "key": "radius_worstconcavity_sd_error"
         },
         {
          "Feature": "radius_worst",
          "Feature_2": "concavity_worst",
          "X": -1.3953436025725137,
          "Y": 0.2984042728004396,
          "corr": 0.97,
          "corr_abs": 0.97,
          "key": "radius_worstconcavity_worst"
         },
         {
          "Feature": "radius_worst",
          "Feature_2": "concave_points_mean",
          "X": -1.3953436025725137,
          "Y": 0.2984042728004396,
          "corr": 0.3,
          "corr_abs": 0.3,
          "key": "radius_worstconcave_points_mean"
         },
         {
          "Feature": "radius_worst",
          "Feature_2": "concave_points_sd_error",
          "X": -1.3953436025725137,
          "Y": 0.2984042728004396,
          "corr": 0.97,
          "corr_abs": 0.97,
          "key": "radius_worstconcave_points_sd_error"
         },
         {
          "Feature": "radius_worst",
          "Feature_2": "concave_points_worst",
          "X": -1.3953436025725137,
          "Y": 0.2984042728004396,
          "corr": 0.94,
          "corr_abs": 0.94,
          "key": "radius_worstconcave_points_worst"
         },
         {
          "Feature": "radius_worst",
          "Feature_2": "fractal_dimension_mean",
          "X": -1.3953436025725137,
          "Y": 0.2984042728004396,
          "corr": 0.77,
          "corr_abs": 0.77,
          "key": "radius_worstfractal_dimension_mean"
         },
         {
          "Feature": "radius_worst",
          "Feature_2": "fractal_dimension_sd_error",
          "X": -1.3953436025725137,
          "Y": 0.2984042728004396,
          "corr": 0.19,
          "corr_abs": 0.19,
          "key": "radius_worstfractal_dimension_sd_error"
         },
         {
          "Feature": "radius_worst",
          "Feature_2": "fractal_dimension_worst",
          "X": -1.3953436025725137,
          "Y": 0.2984042728004396,
          "corr": 0.05,
          "corr_abs": 0.05,
          "key": "radius_worstfractal_dimension_worst"
         },
         {
          "Feature": "texture_mean",
          "Feature_2": "diagnosis",
          "X": -1.4035100375867833,
          "Y": 0.4377402076995952,
          "corr": 0.71,
          "corr_abs": 0.71,
          "key": "texture_meandiagnosis"
         },
         {
          "Feature": "texture_mean",
          "Feature_2": "radius_mean",
          "X": -1.4035100375867833,
          "Y": 0.4377402076995952,
          "corr": 0.99,
          "corr_abs": 0.99,
          "key": "texture_meanradius_mean"
         },
         {
          "Feature": "texture_mean",
          "Feature_2": "radius_sd_error",
          "X": -1.4035100375867833,
          "Y": 0.4377402076995952,
          "corr": 0.32,
          "corr_abs": 0.32,
          "key": "texture_meanradius_sd_error"
         },
         {
          "Feature": "texture_mean",
          "Feature_2": "radius_worst",
          "X": -1.4035100375867833,
          "Y": 0.4377402076995952,
          "corr": 0.99,
          "corr_abs": 0.99,
          "key": "texture_meanradius_worst"
         },
         {
          "Feature": "texture_mean",
          "Feature_2": "perimeter_mean",
          "X": -1.4035100375867833,
          "Y": 0.4377402076995952,
          "corr": 0.69,
          "corr_abs": 0.69,
          "key": "texture_meanperimeter_mean"
         },
         {
          "Feature": "texture_mean",
          "Feature_2": "perimeter_sd_error",
          "X": -1.4035100375867833,
          "Y": 0.4377402076995952,
          "corr": 0.82,
          "corr_abs": 0.82,
          "key": "texture_meanperimeter_sd_error"
         },
         {
          "Feature": "texture_mean",
          "Feature_2": "perimeter_worst",
          "X": -1.4035100375867833,
          "Y": 0.4377402076995952,
          "corr": 0.15,
          "corr_abs": 0.15,
          "key": "texture_meanperimeter_worst"
         },
         {
          "Feature": "texture_mean",
          "Feature_2": "area_mean",
          "X": -1.4035100375867833,
          "Y": 0.4377402076995952,
          "corr": -0.28,
          "corr_abs": 0.28,
          "key": "texture_meanarea_mean"
         },
         {
          "Feature": "texture_mean",
          "Feature_2": "area_sd_error",
          "X": -1.4035100375867833,
          "Y": 0.4377402076995952,
          "corr": 0.73,
          "corr_abs": 0.73,
          "key": "texture_meanarea_sd_error"
         },
         {
          "Feature": "texture_mean",
          "Feature_2": "area_worst",
          "X": -1.4035100375867833,
          "Y": 0.4377402076995952,
          "corr": -0.07,
          "corr_abs": 0.07,
          "key": "texture_meanarea_worst"
         },
         {
          "Feature": "texture_mean",
          "Feature_2": "smoothness_mean",
          "X": -1.4035100375867833,
          "Y": 0.4377402076995952,
          "corr": 0.73,
          "corr_abs": 0.73,
          "key": "texture_meansmoothness_mean"
         },
         {
          "Feature": "texture_mean",
          "Feature_2": "smoothness_sd_error",
          "X": -1.4035100375867833,
          "Y": 0.4377402076995952,
          "corr": 0.8,
          "corr_abs": 0.8,
          "key": "texture_meansmoothness_sd_error"
         },
         {
          "Feature": "texture_mean",
          "Feature_2": "smoothness_worst",
          "X": -1.4035100375867833,
          "Y": 0.4377402076995952,
          "corr": -0.17,
          "corr_abs": 0.17,
          "key": "texture_meansmoothness_worst"
         },
         {
          "Feature": "texture_mean",
          "Feature_2": "compactness_mean",
          "X": -1.4035100375867833,
          "Y": 0.4377402076995952,
          "corr": 0.21,
          "corr_abs": 0.21,
          "key": "texture_meancompactness_mean"
         },
         {
          "Feature": "texture_mean",
          "Feature_2": "compactness_sd_error",
          "X": -1.4035100375867833,
          "Y": 0.4377402076995952,
          "corr": 0.21,
          "corr_abs": 0.21,
          "key": "texture_meancompactness_sd_error"
         },
         {
          "Feature": "texture_mean",
          "Feature_2": "compactness_worst",
          "X": -1.4035100375867833,
          "Y": 0.4377402076995952,
          "corr": 0.37,
          "corr_abs": 0.37,
          "key": "texture_meancompactness_worst"
         },
         {
          "Feature": "texture_mean",
          "Feature_2": "concavity_mean",
          "X": -1.4035100375867833,
          "Y": 0.4377402076995952,
          "corr": -0.07,
          "corr_abs": 0.07,
          "key": "texture_meanconcavity_mean"
         },
         {
          "Feature": "texture_mean",
          "Feature_2": "concavity_sd_error",
          "X": -1.4035100375867833,
          "Y": 0.4377402076995952,
          "corr": -0.02,
          "corr_abs": 0.02,
          "key": "texture_meanconcavity_sd_error"
         },
         {
          "Feature": "texture_mean",
          "Feature_2": "concavity_worst",
          "X": -1.4035100375867833,
          "Y": 0.4377402076995952,
          "corr": 0.96,
          "corr_abs": 0.96,
          "key": "texture_meanconcavity_worst"
         },
         {
          "Feature": "texture_mean",
          "Feature_2": "concave_points_mean",
          "X": -1.4035100375867833,
          "Y": 0.4377402076995952,
          "corr": 0.29,
          "corr_abs": 0.29,
          "key": "texture_meanconcave_points_mean"
         },
         {
          "Feature": "texture_mean",
          "Feature_2": "concave_points_sd_error",
          "X": -1.4035100375867833,
          "Y": 0.4377402076995952,
          "corr": 0.96,
          "corr_abs": 0.96,
          "key": "texture_meanconcave_points_sd_error"
         },
         {
          "Feature": "texture_mean",
          "Feature_2": "concave_points_worst",
          "X": -1.4035100375867833,
          "Y": 0.4377402076995952,
          "corr": 0.96,
          "corr_abs": 0.96,
          "key": "texture_meanconcave_points_worst"
         },
         {
          "Feature": "texture_mean",
          "Feature_2": "symmetry_mean",
          "X": -1.4035100375867833,
          "Y": 0.4377402076995952,
          "corr": 0.12,
          "corr_abs": 0.12,
          "key": "texture_meansymmetry_mean"
         },
         {
          "Feature": "texture_mean",
          "Feature_2": "symmetry_sd_error",
          "X": -1.4035100375867833,
          "Y": 0.4377402076995952,
          "corr": 0.39,
          "corr_abs": 0.39,
          "key": "texture_meansymmetry_sd_error"
         },
         {
          "Feature": "texture_mean",
          "Feature_2": "symmetry_worst",
          "X": -1.4035100375867833,
          "Y": 0.4377402076995952,
          "corr": 0.51,
          "corr_abs": 0.51,
          "key": "texture_meansymmetry_worst"
         },
         {
          "Feature": "texture_mean",
          "Feature_2": "fractal_dimension_mean",
          "X": -1.4035100375867833,
          "Y": 0.4377402076995952,
          "corr": 0.72,
          "corr_abs": 0.72,
          "key": "texture_meanfractal_dimension_mean"
         },
         {
          "Feature": "texture_mean",
          "Feature_2": "fractal_dimension_sd_error",
          "X": -1.4035100375867833,
          "Y": 0.4377402076995952,
          "corr": 0.14,
          "corr_abs": 0.14,
          "key": "texture_meanfractal_dimension_sd_error"
         },
         {
          "Feature": "texture_mean",
          "Feature_2": "fractal_dimension_worst",
          "X": -1.4035100375867833,
          "Y": 0.4377402076995952,
          "corr": 0,
          "corr_abs": 0,
          "key": "texture_meanfractal_dimension_worst"
         },
         {
          "Feature": "texture_sd_error",
          "Feature_2": "diagnosis",
          "X": 0.8583312366444462,
          "Y": -0.4004096815007781,
          "corr": 0.36,
          "corr_abs": 0.36,
          "key": "texture_sd_errordiagnosis"
         },
         {
          "Feature": "texture_sd_error",
          "Feature_2": "radius_mean",
          "X": 0.8583312366444462,
          "Y": -0.4004096815007781,
          "corr": 0.17,
          "corr_abs": 0.17,
          "key": "texture_sd_errorradius_mean"
         },
         {
          "Feature": "texture_sd_error",
          "Feature_2": "radius_sd_error",
          "X": 0.8583312366444462,
          "Y": -0.4004096815007781,
          "corr": -0.02,
          "corr_abs": 0.02,
          "key": "texture_sd_errorradius_sd_error"
         },
         {
          "Feature": "texture_sd_error",
          "Feature_2": "radius_worst",
          "X": 0.8583312366444462,
          "Y": -0.4004096815007781,
          "corr": 0.21,
          "corr_abs": 0.21,
          "key": "texture_sd_errorradius_worst"
         },
         {
          "Feature": "texture_sd_error",
          "Feature_2": "texture_mean",
          "X": 0.8583312366444462,
          "Y": -0.4004096815007781,
          "corr": 0.18,
          "corr_abs": 0.18,
          "key": "texture_sd_errortexture_mean"
         },
         {
          "Feature": "texture_sd_error",
          "Feature_2": "perimeter_mean",
          "X": 0.8583312366444462,
          "Y": -0.4004096815007781,
          "corr": 0.52,
          "corr_abs": 0.52,
          "key": "texture_sd_errorperimeter_mean"
         },
         {
          "Feature": "texture_sd_error",
          "Feature_2": "perimeter_sd_error",
          "X": 0.8583312366444462,
          "Y": -0.4004096815007781,
          "corr": 0.55,
          "corr_abs": 0.55,
          "key": "texture_sd_errorperimeter_sd_error"
         },
         {
          "Feature": "texture_sd_error",
          "Feature_2": "perimeter_worst",
          "X": 0.8583312366444462,
          "Y": -0.4004096815007781,
          "corr": 0.56,
          "corr_abs": 0.56,
          "key": "texture_sd_errorperimeter_worst"
         },
         {
          "Feature": "texture_sd_error",
          "Feature_2": "area_mean",
          "X": 0.8583312366444462,
          "Y": -0.4004096815007781,
          "corr": 0.58,
          "corr_abs": 0.58,
          "key": "texture_sd_errorarea_mean"
         },
         {
          "Feature": "texture_sd_error",
          "Feature_2": "area_sd_error",
          "X": 0.8583312366444462,
          "Y": -0.4004096815007781,
          "corr": 0.3,
          "corr_abs": 0.3,
          "key": "texture_sd_errorarea_sd_error"
         },
         {
          "Feature": "texture_sd_error",
          "Feature_2": "area_worst",
          "X": 0.8583312366444462,
          "Y": -0.4004096815007781,
          "corr": 0.07,
          "corr_abs": 0.07,
          "key": "texture_sd_errorarea_worst"
         },
         {
          "Feature": "texture_sd_error",
          "Feature_2": "smoothness_mean",
          "X": 0.8583312366444462,
          "Y": -0.4004096815007781,
          "corr": 0.3,
          "corr_abs": 0.3,
          "key": "texture_sd_errorsmoothness_mean"
         },
         {
          "Feature": "texture_sd_error",
          "Feature_2": "smoothness_sd_error",
          "X": 0.8583312366444462,
          "Y": -0.4004096815007781,
          "corr": 0.25,
          "corr_abs": 0.25,
          "key": "texture_sd_errorsmoothness_sd_error"
         },
         {
          "Feature": "texture_sd_error",
          "Feature_2": "smoothness_worst",
          "X": 0.8583312366444462,
          "Y": -0.4004096815007781,
          "corr": 0.33,
          "corr_abs": 0.33,
          "key": "texture_sd_errorsmoothness_worst"
         },
         {
          "Feature": "texture_sd_error",
          "Feature_2": "compactness_mean",
          "X": 0.8583312366444462,
          "Y": -0.4004096815007781,
          "corr": 0.32,
          "corr_abs": 0.32,
          "key": "texture_sd_errorcompactness_mean"
         },
         {
          "Feature": "texture_sd_error",
          "Feature_2": "compactness_sd_error",
          "X": 0.8583312366444462,
          "Y": -0.4004096815007781,
          "corr": 0.25,
          "corr_abs": 0.25,
          "key": "texture_sd_errorcompactness_sd_error"
         },
         {
          "Feature": "texture_sd_error",
          "Feature_2": "compactness_worst",
          "X": 0.8583312366444462,
          "Y": -0.4004096815007781,
          "corr": 0.38,
          "corr_abs": 0.38,
          "key": "texture_sd_errorcompactness_worst"
         },
         {
          "Feature": "texture_sd_error",
          "Feature_2": "concavity_mean",
          "X": 0.8583312366444462,
          "Y": -0.4004096815007781,
          "corr": 0.2,
          "corr_abs": 0.2,
          "key": "texture_sd_errorconcavity_mean"
         },
         {
          "Feature": "texture_sd_error",
          "Feature_2": "concavity_sd_error",
          "X": 0.8583312366444462,
          "Y": -0.4004096815007781,
          "corr": 0.28,
          "corr_abs": 0.28,
          "key": "texture_sd_errorconcavity_sd_error"
         },
         {
          "Feature": "texture_sd_error",
          "Feature_2": "concavity_worst",
          "X": 0.8583312366444462,
          "Y": -0.4004096815007781,
          "corr": 0.21,
          "corr_abs": 0.21,
          "key": "texture_sd_errorconcavity_worst"
         },
         {
          "Feature": "texture_sd_error",
          "Feature_2": "concave_points_mean",
          "X": 0.8583312366444462,
          "Y": -0.4004096815007781,
          "corr": 0.04,
          "corr_abs": 0.04,
          "key": "texture_sd_errorconcave_points_mean"
         },
         {
          "Feature": "texture_sd_error",
          "Feature_2": "concave_points_sd_error",
          "X": 0.8583312366444462,
          "Y": -0.4004096815007781,
          "corr": 0.24,
          "corr_abs": 0.24,
          "key": "texture_sd_errorconcave_points_sd_error"
         },
         {
          "Feature": "texture_sd_error",
          "Feature_2": "concave_points_worst",
          "X": 0.8583312366444462,
          "Y": -0.4004096815007781,
          "corr": 0.21,
          "corr_abs": 0.21,
          "key": "texture_sd_errorconcave_points_worst"
         },
         {
          "Feature": "texture_sd_error",
          "Feature_2": "symmetry_mean",
          "X": 0.8583312366444462,
          "Y": -0.4004096815007781,
          "corr": 0.81,
          "corr_abs": 0.81,
          "key": "texture_sd_errorsymmetry_mean"
         },
         {
          "Feature": "texture_sd_error",
          "Feature_2": "symmetry_sd_error",
          "X": 0.8583312366444462,
          "Y": -0.4004096815007781,
          "corr": 0.47,
          "corr_abs": 0.47,
          "key": "texture_sd_errorsymmetry_sd_error"
         },
         {
          "Feature": "texture_sd_error",
          "Feature_2": "symmetry_worst",
          "X": 0.8583312366444462,
          "Y": -0.4004096815007781,
          "corr": 0.43,
          "corr_abs": 0.43,
          "key": "texture_sd_errorsymmetry_worst"
         },
         {
          "Feature": "texture_sd_error",
          "Feature_2": "fractal_dimension_mean",
          "X": 0.8583312366444462,
          "Y": -0.4004096815007781,
          "corr": 0.5,
          "corr_abs": 0.5,
          "key": "texture_sd_errorfractal_dimension_mean"
         },
         {
          "Feature": "texture_sd_error",
          "Feature_2": "fractal_dimension_sd_error",
          "X": 0.8583312366444462,
          "Y": -0.4004096815007781,
          "corr": 0.39,
          "corr_abs": 0.39,
          "key": "texture_sd_errorfractal_dimension_sd_error"
         },
         {
          "Feature": "texture_sd_error",
          "Feature_2": "fractal_dimension_worst",
          "X": 0.8583312366444462,
          "Y": -0.4004096815007781,
          "corr": 0.5,
          "corr_abs": 0.5,
          "key": "texture_sd_errorfractal_dimension_worst"
         },
         {
          "Feature": "texture_worst",
          "Feature_2": "diagnosis",
          "X": -0.16624555022421336,
          "Y": -1.0937198829861112,
          "corr": 0.6,
          "corr_abs": 0.6,
          "key": "texture_worstdiagnosis"
         },
         {
          "Feature": "texture_worst",
          "Feature_2": "radius_mean",
          "X": -0.16624555022421336,
          "Y": -1.0937198829861112,
          "corr": 0.51,
          "corr_abs": 0.51,
          "key": "texture_worstradius_mean"
         },
         {
          "Feature": "texture_worst",
          "Feature_2": "radius_sd_error",
          "X": -0.16624555022421336,
          "Y": -1.0937198829861112,
          "corr": 0.24,
          "corr_abs": 0.24,
          "key": "texture_worstradius_sd_error"
         },
         {
          "Feature": "texture_worst",
          "Feature_2": "radius_worst",
          "X": -0.16624555022421336,
          "Y": -1.0937198829861112,
          "corr": 0.56,
          "corr_abs": 0.56,
          "key": "texture_worstradius_worst"
         },
         {
          "Feature": "texture_worst",
          "Feature_2": "texture_mean",
          "X": -0.16624555022421336,
          "Y": -1.0937198829861112,
          "corr": 0.5,
          "corr_abs": 0.5,
          "key": "texture_worsttexture_mean"
         },
         {
          "Feature": "texture_worst",
          "Feature_2": "texture_sd_error",
          "X": -0.16624555022421336,
          "Y": -1.0937198829861112,
          "corr": 0.66,
          "corr_abs": 0.66,
          "key": "texture_worsttexture_sd_error"
         },
         {
          "Feature": "texture_worst",
          "Feature_2": "perimeter_mean",
          "X": -0.16624555022421336,
          "Y": -1.0937198829861112,
          "corr": 0.88,
          "corr_abs": 0.88,
          "key": "texture_worstperimeter_mean"
         },
         {
          "Feature": "texture_worst",
          "Feature_2": "perimeter_sd_error",
          "X": -0.16624555022421336,
          "Y": -1.0937198829861112,
          "corr": 0.83,
          "corr_abs": 0.83,
          "key": "texture_worstperimeter_sd_error"
         },
         {
          "Feature": "texture_worst",
          "Feature_2": "perimeter_worst",
          "X": -0.16624555022421336,
          "Y": -1.0937198829861112,
          "corr": 0.6,
          "corr_abs": 0.6,
          "key": "texture_worstperimeter_worst"
         },
         {
          "Feature": "texture_worst",
          "Feature_2": "area_mean",
          "X": -0.16624555022421336,
          "Y": -1.0937198829861112,
          "corr": 0.57,
          "corr_abs": 0.57,
          "key": "texture_worstarea_mean"
         },
         {
          "Feature": "texture_worst",
          "Feature_2": "area_sd_error",
          "X": -0.16624555022421336,
          "Y": -1.0937198829861112,
          "corr": 0.5,
          "corr_abs": 0.5,
          "key": "texture_worstarea_sd_error"
         },
         {
          "Feature": "texture_worst",
          "Feature_2": "area_worst",
          "X": -0.16624555022421336,
          "Y": -1.0937198829861112,
          "corr": 0.05,
          "corr_abs": 0.05,
          "key": "texture_worstarea_worst"
         },
         {
          "Feature": "texture_worst",
          "Feature_2": "smoothness_mean",
          "X": -0.16624555022421336,
          "Y": -1.0937198829861112,
          "corr": 0.55,
          "corr_abs": 0.55,
          "key": "texture_worstsmoothness_mean"
         },
         {
          "Feature": "texture_worst",
          "Feature_2": "smoothness_sd_error",
          "X": -0.16624555022421336,
          "Y": -1.0937198829861112,
          "corr": 0.46,
          "corr_abs": 0.46,
          "key": "texture_worstsmoothness_sd_error"
         },
         {
          "Feature": "texture_worst",
          "Feature_2": "smoothness_worst",
          "X": -0.16624555022421336,
          "Y": -1.0937198829861112,
          "corr": 0.14,
          "corr_abs": 0.14,
          "key": "texture_worstsmoothness_worst"
         },
         {
          "Feature": "texture_worst",
          "Feature_2": "compactness_mean",
          "X": -0.16624555022421336,
          "Y": -1.0937198829861112,
          "corr": 0.74,
          "corr_abs": 0.74,
          "key": "texture_worstcompactness_mean"
         },
         {
          "Feature": "texture_worst",
          "Feature_2": "compactness_sd_error",
          "X": -0.16624555022421336,
          "Y": -1.0937198829861112,
          "corr": 0.57,
          "corr_abs": 0.57,
          "key": "texture_worstcompactness_sd_error"
         },
         {
          "Feature": "texture_worst",
          "Feature_2": "compactness_worst",
          "X": -0.16624555022421336,
          "Y": -1.0937198829861112,
          "corr": 0.64,
          "corr_abs": 0.64,
          "key": "texture_worstcompactness_worst"
         },
         {
          "Feature": "texture_worst",
          "Feature_2": "concavity_mean",
          "X": -0.16624555022421336,
          "Y": -1.0937198829861112,
          "corr": 0.23,
          "corr_abs": 0.23,
          "key": "texture_worstconcavity_mean"
         },
         {
          "Feature": "texture_worst",
          "Feature_2": "concavity_sd_error",
          "X": -0.16624555022421336,
          "Y": -1.0937198829861112,
          "corr": 0.51,
          "corr_abs": 0.51,
          "key": "texture_worstconcavity_sd_error"
         },
         {
          "Feature": "texture_worst",
          "Feature_2": "concavity_worst",
          "X": -0.16624555022421336,
          "Y": -1.0937198829861112,
          "corr": 0.54,
          "corr_abs": 0.54,
          "key": "texture_worstconcavity_worst"
         },
         {
          "Feature": "texture_worst",
          "Feature_2": "concave_points_mean",
          "X": -0.16624555022421336,
          "Y": -1.0937198829861112,
          "corr": 0.25,
          "corr_abs": 0.25,
          "key": "texture_worstconcave_points_mean"
         },
         {
          "Feature": "texture_worst",
          "Feature_2": "concave_points_sd_error",
          "X": -0.16624555022421336,
          "Y": -1.0937198829861112,
          "corr": 0.59,
          "corr_abs": 0.59,
          "key": "texture_worstconcave_points_sd_error"
         },
         {
          "Feature": "texture_worst",
          "Feature_2": "concave_points_worst",
          "X": -0.16624555022421336,
          "Y": -1.0937198829861112,
          "corr": 0.51,
          "corr_abs": 0.51,
          "key": "texture_worstconcave_points_worst"
         },
         {
          "Feature": "texture_worst",
          "Feature_2": "symmetry_mean",
          "X": -0.16624555022421336,
          "Y": -1.0937198829861112,
          "corr": 0.57,
          "corr_abs": 0.57,
          "key": "texture_worstsymmetry_mean"
         },
         {
          "Feature": "texture_worst",
          "Feature_2": "symmetry_sd_error",
          "X": -0.16624555022421336,
          "Y": -1.0937198829861112,
          "corr": 0.87,
          "corr_abs": 0.87,
          "key": "texture_worstsymmetry_sd_error"
         },
         {
          "Feature": "texture_worst",
          "Feature_2": "symmetry_worst",
          "X": -0.16624555022421336,
          "Y": -1.0937198829861112,
          "corr": 0.82,
          "corr_abs": 0.82,
          "key": "texture_worstsymmetry_worst"
         },
         {
          "Feature": "texture_worst",
          "Feature_2": "fractal_dimension_mean",
          "X": -0.16624555022421336,
          "Y": -1.0937198829861112,
          "corr": 0.82,
          "corr_abs": 0.82,
          "key": "texture_worstfractal_dimension_mean"
         },
         {
          "Feature": "texture_worst",
          "Feature_2": "fractal_dimension_sd_error",
          "X": -0.16624555022421336,
          "Y": -1.0937198829861112,
          "corr": 0.51,
          "corr_abs": 0.51,
          "key": "texture_worstfractal_dimension_sd_error"
         },
         {
          "Feature": "texture_worst",
          "Feature_2": "fractal_dimension_worst",
          "X": -0.16624555022421336,
          "Y": -1.0937198829861112,
          "corr": 0.69,
          "corr_abs": 0.69,
          "key": "texture_worstfractal_dimension_worst"
         },
         {
          "Feature": "perimeter_mean",
          "Feature_2": "diagnosis",
          "X": -0.718220715683882,
          "Y": -0.8593426871710538,
          "corr": 0.7,
          "corr_abs": 0.7,
          "key": "perimeter_meandiagnosis"
         },
         {
          "Feature": "perimeter_mean",
          "Feature_2": "area_mean",
          "X": -0.718220715683882,
          "Y": -0.8593426871710538,
          "corr": 0.34,
          "corr_abs": 0.34,
          "key": "perimeter_meanarea_mean"
         },
         {
          "Feature": "perimeter_mean",
          "Feature_2": "area_sd_error",
          "X": -0.718220715683882,
          "Y": -0.8593426871710538,
          "corr": 0.63,
          "corr_abs": 0.63,
          "key": "perimeter_meanarea_sd_error"
         },
         {
          "Feature": "perimeter_mean",
          "Feature_2": "area_worst",
          "X": -0.718220715683882,
          "Y": -0.8593426871710538,
          "corr": 0.08,
          "corr_abs": 0.08,
          "key": "perimeter_meanarea_worst"
         },
         {
          "Feature": "perimeter_mean",
          "Feature_2": "compactness_mean",
          "X": -0.718220715683882,
          "Y": -0.8593426871710538,
          "corr": 0.67,
          "corr_abs": 0.67,
          "key": "perimeter_meancompactness_mean"
         },
         {
          "Feature": "perimeter_mean",
          "Feature_2": "compactness_sd_error",
          "X": -0.718220715683882,
          "Y": -0.8593426871710538,
          "corr": 0.69,
          "corr_abs": 0.69,
          "key": "perimeter_meancompactness_sd_error"
         },
         {
          "Feature": "perimeter_mean",
          "Feature_2": "compactness_worst",
          "X": -0.718220715683882,
          "Y": -0.8593426871710538,
          "corr": 0.68,
          "corr_abs": 0.68,
          "key": "perimeter_meancompactness_worst"
         },
         {
          "Feature": "perimeter_mean",
          "Feature_2": "concavity_mean",
          "X": -0.718220715683882,
          "Y": -0.8593426871710538,
          "corr": 0.18,
          "corr_abs": 0.18,
          "key": "perimeter_meanconcavity_mean"
         },
         {
          "Feature": "perimeter_mean",
          "Feature_2": "concavity_sd_error",
          "X": -0.718220715683882,
          "Y": -0.8593426871710538,
          "corr": 0.45,
          "corr_abs": 0.45,
          "key": "perimeter_meanconcavity_sd_error"
         },
         {
          "Feature": "perimeter_mean",
          "Feature_2": "concavity_worst",
          "X": -0.718220715683882,
          "Y": -0.8593426871710538,
          "corr": 0.69,
          "corr_abs": 0.69,
          "key": "perimeter_meanconcavity_worst"
         },
         {
          "Feature": "perimeter_mean",
          "Feature_2": "concave_points_mean",
          "X": -0.718220715683882,
          "Y": -0.8593426871710538,
          "corr": 0.3,
          "corr_abs": 0.3,
          "key": "perimeter_meanconcave_points_mean"
         },
         {
          "Feature": "perimeter_mean",
          "Feature_2": "concave_points_sd_error",
          "X": -0.718220715683882,
          "Y": -0.8593426871710538,
          "corr": 0.73,
          "corr_abs": 0.73,
          "key": "perimeter_meanconcave_points_sd_error"
         },
         {
          "Feature": "perimeter_mean",
          "Feature_2": "concave_points_worst",
          "X": -0.718220715683882,
          "Y": -0.8593426871710538,
          "corr": 0.68,
          "corr_abs": 0.68,
          "key": "perimeter_meanconcave_points_worst"
         },
         {
          "Feature": "perimeter_mean",
          "Feature_2": "fractal_dimension_mean",
          "X": -0.718220715683882,
          "Y": -0.8593426871710538,
          "corr": 0.86,
          "corr_abs": 0.86,
          "key": "perimeter_meanfractal_dimension_mean"
         },
         {
          "Feature": "perimeter_mean",
          "Feature_2": "fractal_dimension_sd_error",
          "X": -0.718220715683882,
          "Y": -0.8593426871710538,
          "corr": 0.41,
          "corr_abs": 0.41,
          "key": "perimeter_meanfractal_dimension_sd_error"
         },
         {
          "Feature": "perimeter_mean",
          "Feature_2": "fractal_dimension_worst",
          "X": -0.718220715683882,
          "Y": -0.8593426871710538,
          "corr": 0.51,
          "corr_abs": 0.51,
          "key": "perimeter_meanfractal_dimension_worst"
         },
         {
          "Feature": "perimeter_sd_error",
          "Feature_2": "diagnosis",
          "X": -1.134308231657087,
          "Y": -0.5785850486163312,
          "corr": 0.78,
          "corr_abs": 0.78,
          "key": "perimeter_sd_errordiagnosis"
         },
         {
          "Feature": "perimeter_sd_error",
          "Feature_2": "perimeter_mean",
          "X": -1.134308231657087,
          "Y": -0.5785850486163312,
          "corr": 0.92,
          "corr_abs": 0.92,
          "key": "perimeter_sd_errorperimeter_mean"
         },
         {
          "Feature": "perimeter_sd_error",
          "Feature_2": "area_mean",
          "X": -1.134308231657087,
          "Y": -0.5785850486163312,
          "corr": 0.17,
          "corr_abs": 0.17,
          "key": "perimeter_sd_errorarea_mean"
         },
         {
          "Feature": "perimeter_sd_error",
          "Feature_2": "area_sd_error",
          "X": -1.134308231657087,
          "Y": -0.5785850486163312,
          "corr": 0.7,
          "corr_abs": 0.7,
          "key": "perimeter_sd_errorarea_sd_error"
         },
         {
          "Feature": "perimeter_sd_error",
          "Feature_2": "area_worst",
          "X": -1.134308231657087,
          "Y": -0.5785850486163312,
          "corr": 0.02,
          "corr_abs": 0.02,
          "key": "perimeter_sd_errorarea_worst"
         },
         {
          "Feature": "perimeter_sd_error",
          "Feature_2": "compactness_mean",
          "X": -1.134308231657087,
          "Y": -0.5785850486163312,
          "corr": 0.49,
          "corr_abs": 0.49,
          "key": "perimeter_sd_errorcompactness_mean"
         },
         {
          "Feature": "perimeter_sd_error",
          "Feature_2": "compactness_sd_error",
          "X": -1.134308231657087,
          "Y": -0.5785850486163312,
          "corr": 0.44,
          "corr_abs": 0.44,
          "key": "perimeter_sd_errorcompactness_sd_error"
         },
         {
          "Feature": "perimeter_sd_error",
          "Feature_2": "compactness_worst",
          "X": -1.134308231657087,
          "Y": -0.5785850486163312,
          "corr": 0.62,
          "corr_abs": 0.62,
          "key": "perimeter_sd_errorcompactness_worst"
         },
         {
          "Feature": "perimeter_sd_error",
          "Feature_2": "concavity_mean",
          "X": -1.134308231657087,
          "Y": -0.5785850486163312,
          "corr": 0.1,
          "corr_abs": 0.1,
          "key": "perimeter_sd_errorconcavity_mean"
         },
         {
          "Feature": "perimeter_sd_error",
          "Feature_2": "concavity_sd_error",
          "X": -1.134308231657087,
          "Y": -0.5785850486163312,
          "corr": 0.26,
          "corr_abs": 0.26,
          "key": "perimeter_sd_errorconcavity_sd_error"
         },
         {
          "Feature": "perimeter_sd_error",
          "Feature_2": "concavity_worst",
          "X": -1.134308231657087,
          "Y": -0.5785850486163312,
          "corr": 0.83,
          "corr_abs": 0.83,
          "key": "perimeter_sd_errorconcavity_worst"
         },
         {
          "Feature": "perimeter_sd_error",
          "Feature_2": "concave_points_mean",
          "X": -1.134308231657087,
          "Y": -0.5785850486163312,
          "corr": 0.29,
          "corr_abs": 0.29,
          "key": "perimeter_sd_errorconcave_points_mean"
         },
         {
          "Feature": "perimeter_sd_error",
          "Feature_2": "concave_points_sd_error",
          "X": -1.134308231657087,
          "Y": -0.5785850486163312,
          "corr": 0.86,
          "corr_abs": 0.86,
          "key": "perimeter_sd_errorconcave_points_sd_error"
         },
         {
          "Feature": "perimeter_sd_error",
          "Feature_2": "concave_points_worst",
          "X": -1.134308231657087,
          "Y": -0.5785850486163312,
          "corr": 0.81,
          "corr_abs": 0.81,
          "key": "perimeter_sd_errorconcave_points_worst"
         },
         {
          "Feature": "perimeter_sd_error",
          "Feature_2": "fractal_dimension_mean",
          "X": -1.134308231657087,
          "Y": -0.5785850486163312,
          "corr": 0.91,
          "corr_abs": 0.91,
          "key": "perimeter_sd_errorfractal_dimension_mean"
         },
         {
          "Feature": "perimeter_sd_error",
          "Feature_2": "fractal_dimension_sd_error",
          "X": -1.134308231657087,
          "Y": -0.5785850486163312,
          "corr": 0.38,
          "corr_abs": 0.38,
          "key": "perimeter_sd_errorfractal_dimension_sd_error"
         },
         {
          "Feature": "perimeter_sd_error",
          "Feature_2": "fractal_dimension_worst",
          "X": -1.134308231657087,
          "Y": -0.5785850486163312,
          "corr": 0.37,
          "corr_abs": 0.37,
          "key": "perimeter_sd_errorfractal_dimension_worst"
         },
         {
          "Feature": "perimeter_worst",
          "Feature_2": "diagnosis",
          "X": 0.9746277606808748,
          "Y": -0.28202734165354953,
          "corr": 0.33,
          "corr_abs": 0.33,
          "key": "perimeter_worstdiagnosis"
         },
         {
          "Feature": "perimeter_worst",
          "Feature_2": "perimeter_mean",
          "X": 0.9746277606808748,
          "Y": -0.28202734165354953,
          "corr": 0.5,
          "corr_abs": 0.5,
          "key": "perimeter_worstperimeter_mean"
         },
         {
          "Feature": "perimeter_worst",
          "Feature_2": "perimeter_sd_error",
          "X": 0.9746277606808748,
          "Y": -0.28202734165354953,
          "corr": 0.46,
          "corr_abs": 0.46,
          "key": "perimeter_worstperimeter_sd_error"
         },
         {
          "Feature": "perimeter_worst",
          "Feature_2": "area_mean",
          "X": 0.9746277606808748,
          "Y": -0.28202734165354953,
          "corr": 0.48,
          "corr_abs": 0.48,
          "key": "perimeter_worstarea_mean"
         },
         {
          "Feature": "perimeter_worst",
          "Feature_2": "area_sd_error",
          "X": 0.9746277606808748,
          "Y": -0.28202734165354953,
          "corr": 0.3,
          "corr_abs": 0.3,
          "key": "perimeter_worstarea_sd_error"
         },
         {
          "Feature": "perimeter_worst",
          "Feature_2": "area_worst",
          "X": 0.9746277606808748,
          "Y": -0.28202734165354953,
          "corr": 0.13,
          "corr_abs": 0.13,
          "key": "perimeter_worstarea_worst"
         },
         {
          "Feature": "perimeter_worst",
          "Feature_2": "compactness_mean",
          "X": 0.9746277606808748,
          "Y": -0.28202734165354953,
          "corr": 0.42,
          "corr_abs": 0.42,
          "key": "perimeter_worstcompactness_mean"
         },
         {
          "Feature": "perimeter_worst",
          "Feature_2": "compactness_sd_error",
          "X": 0.9746277606808748,
          "Y": -0.28202734165354953,
          "corr": 0.34,
          "corr_abs": 0.34,
          "key": "perimeter_worstcompactness_sd_error"
         },
         {
          "Feature": "perimeter_worst",
          "Feature_2": "compactness_worst",
          "X": 0.9746277606808748,
          "Y": -0.28202734165354953,
          "corr": 0.39,
          "corr_abs": 0.39,
          "key": "perimeter_worstcompactness_worst"
         },
         {
          "Feature": "perimeter_worst",
          "Feature_2": "concavity_mean",
          "X": 0.9746277606808748,
          "Y": -0.28202734165354953,
          "corr": 0.45,
          "corr_abs": 0.45,
          "key": "perimeter_worstconcavity_mean"
         },
         {
          "Feature": "perimeter_worst",
          "Feature_2": "concavity_sd_error",
          "X": 0.9746277606808748,
          "Y": -0.28202734165354953,
          "corr": 0.33,
          "corr_abs": 0.33,
          "key": "perimeter_worstconcavity_sd_error"
         },
         {
          "Feature": "perimeter_worst",
          "Feature_2": "concavity_worst",
          "X": 0.9746277606808748,
          "Y": -0.28202734165354953,
          "corr": 0.19,
          "corr_abs": 0.19,
          "key": "perimeter_worstconcavity_worst"
         },
         {
          "Feature": "perimeter_worst",
          "Feature_2": "concave_points_mean",
          "X": 0.9746277606808748,
          "Y": -0.28202734165354953,
          "corr": 0.09,
          "corr_abs": 0.09,
          "key": "perimeter_worstconcave_points_mean"
         },
         {
          "Feature": "perimeter_worst",
          "Feature_2": "concave_points_sd_error",
          "X": 0.9746277606808748,
          "Y": -0.28202734165354953,
          "corr": 0.22,
          "corr_abs": 0.22,
          "key": "perimeter_worstconcave_points_sd_error"
         },
         {
          "Feature": "perimeter_worst",
          "Feature_2": "concave_points_worst",
          "X": 0.9746277606808748,
          "Y": -0.28202734165354953,
          "corr": 0.18,
          "corr_abs": 0.18,
          "key": "perimeter_worstconcave_points_worst"
         },
         {
          "Feature": "perimeter_worst",
          "Feature_2": "fractal_dimension_mean",
          "X": 0.9746277606808748,
          "Y": -0.28202734165354953,
          "corr": 0.43,
          "corr_abs": 0.43,
          "key": "perimeter_worstfractal_dimension_mean"
         },
         {
          "Feature": "perimeter_worst",
          "Feature_2": "fractal_dimension_sd_error",
          "X": 0.9746277606808748,
          "Y": -0.28202734165354953,
          "corr": 0.7,
          "corr_abs": 0.7,
          "key": "perimeter_worstfractal_dimension_sd_error"
         },
         {
          "Feature": "perimeter_worst",
          "Feature_2": "fractal_dimension_worst",
          "X": 0.9746277606808748,
          "Y": -0.28202734165354953,
          "corr": 0.44,
          "corr_abs": 0.44,
          "key": "perimeter_worstfractal_dimension_worst"
         },
         {
          "Feature": "smoothness_mean",
          "Feature_2": "diagnosis",
          "X": -0.8758029524784953,
          "Y": 0.3734621694926181,
          "corr": 0.56,
          "corr_abs": 0.56,
          "key": "smoothness_meandiagnosis"
         },
         {
          "Feature": "smoothness_mean",
          "Feature_2": "radius_mean",
          "X": -0.8758029524784953,
          "Y": 0.3734621694926181,
          "corr": 0.67,
          "corr_abs": 0.67,
          "key": "smoothness_meanradius_mean"
         },
         {
          "Feature": "smoothness_mean",
          "Feature_2": "radius_sd_error",
          "X": -0.8758029524784953,
          "Y": 0.3734621694926181,
          "corr": 0.28,
          "corr_abs": 0.28,
          "key": "smoothness_meanradius_sd_error"
         },
         {
          "Feature": "smoothness_mean",
          "Feature_2": "radius_worst",
          "X": -0.8758029524784953,
          "Y": 0.3734621694926181,
          "corr": 0.69,
          "corr_abs": 0.69,
          "key": "smoothness_meanradius_worst"
         },
         {
          "Feature": "smoothness_mean",
          "Feature_2": "perimeter_mean",
          "X": -0.8758029524784953,
          "Y": 0.3734621694926181,
          "corr": 0.66,
          "corr_abs": 0.66,
          "key": "smoothness_meanperimeter_mean"
         },
         {
          "Feature": "smoothness_mean",
          "Feature_2": "perimeter_sd_error",
          "X": -0.8758029524784953,
          "Y": 0.3734621694926181,
          "corr": 0.71,
          "corr_abs": 0.71,
          "key": "smoothness_meanperimeter_sd_error"
         },
         {
          "Feature": "smoothness_mean",
          "Feature_2": "perimeter_worst",
          "X": -0.8758029524784953,
          "Y": 0.3734621694926181,
          "corr": 0.31,
          "corr_abs": 0.31,
          "key": "smoothness_meanperimeter_worst"
         },
         {
          "Feature": "smoothness_mean",
          "Feature_2": "area_mean",
          "X": -0.8758029524784953,
          "Y": 0.3734621694926181,
          "corr": 0.04,
          "corr_abs": 0.04,
          "key": "smoothness_meanarea_mean"
         },
         {
          "Feature": "smoothness_mean",
          "Feature_2": "area_sd_error",
          "X": -0.8758029524784953,
          "Y": 0.3734621694926181,
          "corr": 0.97,
          "corr_abs": 0.97,
          "key": "smoothness_meanarea_sd_error"
         },
         {
          "Feature": "smoothness_mean",
          "Feature_2": "area_worst",
          "X": -0.8758029524784953,
          "Y": 0.3734621694926181,
          "corr": 0.22,
          "corr_abs": 0.22,
          "key": "smoothness_meanarea_worst"
         },
         {
          "Feature": "smoothness_mean",
          "Feature_2": "compactness_mean",
          "X": -0.8758029524784953,
          "Y": 0.3734621694926181,
          "corr": 0.42,
          "corr_abs": 0.42,
          "key": "smoothness_meancompactness_mean"
         },
         {
          "Feature": "smoothness_mean",
          "Feature_2": "compactness_sd_error",
          "X": -0.8758029524784953,
          "Y": 0.3734621694926181,
          "corr": 0.36,
          "corr_abs": 0.36,
          "key": "smoothness_meancompactness_sd_error"
         },
         {
          "Feature": "smoothness_mean",
          "Feature_2": "compactness_worst",
          "X": -0.8758029524784953,
          "Y": 0.3734621694926181,
          "corr": 0.56,
          "corr_abs": 0.56,
          "key": "smoothness_meancompactness_worst"
         },
         {
          "Feature": "smoothness_mean",
          "Feature_2": "concavity_mean",
          "X": -0.8758029524784953,
          "Y": 0.3734621694926181,
          "corr": 0.27,
          "corr_abs": 0.27,
          "key": "smoothness_meanconcavity_mean"
         },
         {
          "Feature": "smoothness_mean",
          "Feature_2": "concavity_sd_error",
          "X": -0.8758029524784953,
          "Y": 0.3734621694926181,
          "corr": 0.24,
          "corr_abs": 0.24,
          "key": "smoothness_meanconcavity_sd_error"
         },
         {
          "Feature": "smoothness_mean",
          "Feature_2": "concavity_worst",
          "X": -0.8758029524784953,
          "Y": 0.3734621694926181,
          "corr": 0.7,
          "corr_abs": 0.7,
          "key": "smoothness_meanconcavity_worst"
         },
         {
          "Feature": "smoothness_mean",
          "Feature_2": "concave_points_mean",
          "X": -0.8758029524784953,
          "Y": 0.3734621694926181,
          "corr": 0.2,
          "corr_abs": 0.2,
          "key": "smoothness_meanconcave_points_mean"
         },
         {
          "Feature": "smoothness_mean",
          "Feature_2": "concave_points_sd_error",
          "X": -0.8758029524784953,
          "Y": 0.3734621694926181,
          "corr": 0.72,
          "corr_abs": 0.72,
          "key": "smoothness_meanconcave_points_sd_error"
         },
         {
          "Feature": "smoothness_mean",
          "Feature_2": "concave_points_worst",
          "X": -0.8758029524784953,
          "Y": 0.3734621694926181,
          "corr": 0.73,
          "corr_abs": 0.73,
          "key": "smoothness_meanconcave_points_worst"
         },
         {
          "Feature": "smoothness_mean",
          "Feature_2": "fractal_dimension_mean",
          "X": -0.8758029524784953,
          "Y": 0.3734621694926181,
          "corr": 0.55,
          "corr_abs": 0.55,
          "key": "smoothness_meanfractal_dimension_mean"
         },
         {
          "Feature": "smoothness_mean",
          "Feature_2": "fractal_dimension_sd_error",
          "X": -0.8758029524784953,
          "Y": 0.3734621694926181,
          "corr": 0.11,
          "corr_abs": 0.11,
          "key": "smoothness_meanfractal_dimension_sd_error"
         },
         {
          "Feature": "smoothness_mean",
          "Feature_2": "fractal_dimension_worst",
          "X": -0.8758029524784953,
          "Y": 0.3734621694926181,
          "corr": 0.09,
          "corr_abs": 0.09,
          "key": "smoothness_meanfractal_dimension_worst"
         },
         {
          "Feature": "smoothness_sd_error",
          "Feature_2": "diagnosis",
          "X": -1.0287701195014638,
          "Y": 0.5576434817945839,
          "corr": 0.55,
          "corr_abs": 0.55,
          "key": "smoothness_sd_errordiagnosis"
         },
         {
          "Feature": "smoothness_sd_error",
          "Feature_2": "radius_mean",
          "X": -1.0287701195014638,
          "Y": 0.5576434817945839,
          "corr": 0.74,
          "corr_abs": 0.74,
          "key": "smoothness_sd_errorradius_mean"
         },
         {
          "Feature": "smoothness_sd_error",
          "Feature_2": "radius_sd_error",
          "X": -1.0287701195014638,
          "Y": 0.5576434817945839,
          "corr": 0.26,
          "corr_abs": 0.26,
          "key": "smoothness_sd_errorradius_sd_error"
         },
         {
          "Feature": "smoothness_sd_error",
          "Feature_2": "radius_worst",
          "X": -1.0287701195014638,
          "Y": 0.5576434817945839,
          "corr": 0.74,
          "corr_abs": 0.74,
          "key": "smoothness_sd_errorradius_worst"
         },
         {
          "Feature": "smoothness_sd_error",
          "Feature_2": "perimeter_mean",
          "X": -1.0287701195014638,
          "Y": 0.5576434817945839,
          "corr": 0.62,
          "corr_abs": 0.62,
          "key": "smoothness_sd_errorperimeter_mean"
         },
         {
          "Feature": "smoothness_sd_error",
          "Feature_2": "perimeter_sd_error",
          "X": -1.0287701195014638,
          "Y": 0.5576434817945839,
          "corr": 0.69,
          "corr_abs": 0.69,
          "key": "smoothness_sd_errorperimeter_sd_error"
         },
         {
          "Feature": "smoothness_sd_error",
          "Feature_2": "perimeter_worst",
          "X": -1.0287701195014638,
          "Y": 0.5576434817945839,
          "corr": 0.22,
          "corr_abs": 0.22,
          "key": "smoothness_sd_errorperimeter_worst"
         },
         {
          "Feature": "smoothness_sd_error",
          "Feature_2": "area_mean",
          "X": -1.0287701195014638,
          "Y": 0.5576434817945839,
          "corr": -0.09,
          "corr_abs": 0.09,
          "key": "smoothness_sd_errorarea_mean"
         },
         {
          "Feature": "smoothness_sd_error",
          "Feature_2": "area_sd_error",
          "X": -1.0287701195014638,
          "Y": 0.5576434817945839,
          "corr": 0.95,
          "corr_abs": 0.95,
          "key": "smoothness_sd_errorarea_sd_error"
         },
         {
          "Feature": "smoothness_sd_error",
          "Feature_2": "area_worst",
          "X": -1.0287701195014638,
          "Y": 0.5576434817945839,
          "corr": 0.11,
          "corr_abs": 0.11,
          "key": "smoothness_sd_errorarea_worst"
         },
         {
          "Feature": "smoothness_sd_error",
          "Feature_2": "smoothness_mean",
          "X": -1.0287701195014638,
          "Y": 0.5576434817945839,
          "corr": 0.94,
          "corr_abs": 0.94,
          "key": "smoothness_sd_errorsmoothness_mean"
         },
         {
          "Feature": "smoothness_sd_error",
          "Feature_2": "compactness_mean",
          "X": -1.0287701195014638,
          "Y": 0.5576434817945839,
          "corr": 0.28,
          "corr_abs": 0.28,
          "key": "smoothness_sd_errorcompactness_mean"
         },
         {
          "Feature": "smoothness_sd_error",
          "Feature_2": "compactness_sd_error",
          "X": -1.0287701195014638,
          "Y": 0.5576434817945839,
          "corr": 0.27,
          "corr_abs": 0.27,
          "key": "smoothness_sd_errorcompactness_sd_error"
         },
         {
          "Feature": "smoothness_sd_error",
          "Feature_2": "compactness_worst",
          "X": -1.0287701195014638,
          "Y": 0.5576434817945839,
          "corr": 0.42,
          "corr_abs": 0.42,
          "key": "smoothness_sd_errorcompactness_worst"
         },
         {
          "Feature": "smoothness_sd_error",
          "Feature_2": "concavity_mean",
          "X": -1.0287701195014638,
          "Y": 0.5576434817945839,
          "corr": 0.13,
          "corr_abs": 0.13,
          "key": "smoothness_sd_errorconcavity_mean"
         },
         {
          "Feature": "smoothness_sd_error",
          "Feature_2": "concavity_sd_error",
          "X": -1.0287701195014638,
          "Y": 0.5576434817945839,
          "corr": 0.13,
          "corr_abs": 0.13,
          "key": "smoothness_sd_errorconcavity_sd_error"
         },
         {
          "Feature": "smoothness_sd_error",
          "Feature_2": "concavity_worst",
          "X": -1.0287701195014638,
          "Y": 0.5576434817945839,
          "corr": 0.76,
          "corr_abs": 0.76,
          "key": "smoothness_sd_errorconcavity_worst"
         },
         {
          "Feature": "smoothness_sd_error",
          "Feature_2": "concave_points_mean",
          "X": -1.0287701195014638,
          "Y": 0.5576434817945839,
          "corr": 0.2,
          "corr_abs": 0.2,
          "key": "smoothness_sd_errorconcave_points_mean"
         },
         {
          "Feature": "smoothness_sd_error",
          "Feature_2": "concave_points_sd_error",
          "X": -1.0287701195014638,
          "Y": 0.5576434817945839,
          "corr": 0.76,
          "corr_abs": 0.76,
          "key": "smoothness_sd_errorconcave_points_sd_error"
         },
         {
          "Feature": "smoothness_sd_error",
          "Feature_2": "concave_points_worst",
          "X": -1.0287701195014638,
          "Y": 0.5576434817945839,
          "corr": 0.81,
          "corr_abs": 0.81,
          "key": "smoothness_sd_errorconcave_points_worst"
         },
         {
          "Feature": "smoothness_sd_error",
          "Feature_2": "fractal_dimension_mean",
          "X": -1.0287701195014638,
          "Y": 0.5576434817945839,
          "corr": 0.54,
          "corr_abs": 0.54,
          "key": "smoothness_sd_errorfractal_dimension_mean"
         },
         {
          "Feature": "smoothness_sd_error",
          "Feature_2": "fractal_dimension_sd_error",
          "X": -1.0287701195014638,
          "Y": 0.5576434817945839,
          "corr": 0.07,
          "corr_abs": 0.07,
          "key": "smoothness_sd_errorfractal_dimension_sd_error"
         },
         {
          "Feature": "smoothness_sd_error",
          "Feature_2": "fractal_dimension_worst",
          "X": -1.0287701195014638,
          "Y": 0.5576434817945839,
          "corr": 0.02,
          "corr_abs": 0.02,
          "key": "smoothness_sd_errorfractal_dimension_worst"
         },
         {
          "Feature": "smoothness_worst",
          "Feature_2": "diagnosis",
          "X": 1.3420706314594673,
          "Y": 0.9724119900806828,
          "corr": -0.07,
          "corr_abs": 0.07,
          "key": "smoothness_worstdiagnosis"
         },
         {
          "Feature": "smoothness_worst",
          "Feature_2": "radius_mean",
          "X": 1.3420706314594673,
          "Y": 0.9724119900806828,
          "corr": -0.22,
          "corr_abs": 0.22,
          "key": "smoothness_worstradius_mean"
         },
         {
          "Feature": "smoothness_worst",
          "Feature_2": "radius_sd_error",
          "X": 1.3420706314594673,
          "Y": 0.9724119900806828,
          "corr": 0.01,
          "corr_abs": 0.01,
          "key": "smoothness_worstradius_sd_error"
         },
         {
          "Feature": "smoothness_worst",
          "Feature_2": "radius_worst",
          "X": 1.3420706314594673,
          "Y": 0.9724119900806828,
          "corr": -0.2,
          "corr_abs": 0.2,
          "key": "smoothness_worstradius_worst"
         },
         {
          "Feature": "smoothness_worst",
          "Feature_2": "perimeter_mean",
          "X": 1.3420706314594673,
          "Y": 0.9724119900806828,
          "corr": 0.1,
          "corr_abs": 0.1,
          "key": "smoothness_worstperimeter_mean"
         },
         {
          "Feature": "smoothness_worst",
          "Feature_2": "perimeter_sd_error",
          "X": 1.3420706314594673,
          "Y": 0.9724119900806828,
          "corr": 0.03,
          "corr_abs": 0.03,
          "key": "smoothness_worstperimeter_sd_error"
         },
         {
          "Feature": "smoothness_worst",
          "Feature_2": "perimeter_worst",
          "X": 1.3420706314594673,
          "Y": 0.9724119900806828,
          "corr": 0.19,
          "corr_abs": 0.19,
          "key": "smoothness_worstperimeter_worst"
         },
         {
          "Feature": "smoothness_worst",
          "Feature_2": "area_mean",
          "X": 1.3420706314594673,
          "Y": 0.9724119900806828,
          "corr": 0.4,
          "corr_abs": 0.4,
          "key": "smoothness_worstarea_mean"
         },
         {
          "Feature": "smoothness_worst",
          "Feature_2": "area_sd_error",
          "X": 1.3420706314594673,
          "Y": 0.9724119900806828,
          "corr": 0.16,
          "corr_abs": 0.16,
          "key": "smoothness_worstarea_sd_error"
         },
         {
          "Feature": "smoothness_worst",
          "Feature_2": "area_worst",
          "X": 1.3420706314594673,
          "Y": 0.9724119900806828,
          "corr": 0.4,
          "corr_abs": 0.4,
          "key": "smoothness_worstarea_worst"
         },
         {
          "Feature": "smoothness_worst",
          "Feature_2": "smoothness_mean",
          "X": 1.3420706314594673,
          "Y": 0.9724119900806828,
          "corr": 0.15,
          "corr_abs": 0.15,
          "key": "smoothness_worstsmoothness_mean"
         },
         {
          "Feature": "smoothness_worst",
          "Feature_2": "smoothness_sd_error",
          "X": 1.3420706314594673,
          "Y": 0.9724119900806828,
          "corr": 0.08,
          "corr_abs": 0.08,
          "key": "smoothness_worstsmoothness_sd_error"
         },
         {
          "Feature": "smoothness_worst",
          "Feature_2": "compactness_mean",
          "X": 1.3420706314594673,
          "Y": 0.9724119900806828,
          "corr": 0.34,
          "corr_abs": 0.34,
          "key": "smoothness_worstcompactness_mean"
         },
         {
          "Feature": "smoothness_worst",
          "Feature_2": "compactness_sd_error",
          "X": 1.3420706314594673,
          "Y": 0.9724119900806828,
          "corr": 0.27,
          "corr_abs": 0.27,
          "key": "smoothness_worstcompactness_sd_error"
         },
         {
          "Feature": "smoothness_worst",
          "Feature_2": "compactness_worst",
          "X": 1.3420706314594673,
          "Y": 0.9724119900806828,
          "corr": 0.33,
          "corr_abs": 0.33,
          "key": "smoothness_worstcompactness_worst"
         },
         {
          "Feature": "smoothness_worst",
          "Feature_2": "concavity_mean",
          "X": 1.3420706314594673,
          "Y": 0.9724119900806828,
          "corr": 0.41,
          "corr_abs": 0.41,
          "key": "smoothness_worstconcavity_mean"
         },
         {
          "Feature": "smoothness_worst",
          "Feature_2": "concavity_sd_error",
          "X": 1.3420706314594673,
          "Y": 0.9724119900806828,
          "corr": 0.43,
          "corr_abs": 0.43,
          "key": "smoothness_worstconcavity_sd_error"
         },
         {
          "Feature": "smoothness_worst",
          "Feature_2": "concavity_worst",
          "X": 1.3420706314594673,
          "Y": 0.9724119900806828,
          "corr": -0.23,
          "corr_abs": 0.23,
          "key": "smoothness_worstconcavity_worst"
         },
         {
          "Feature": "smoothness_worst",
          "Feature_2": "concave_points_mean",
          "X": 1.3420706314594673,
          "Y": 0.9724119900806828,
          "corr": -0.07,
          "corr_abs": 0.07,
          "key": "smoothness_worstconcave_points_mean"
         },
         {
          "Feature": "smoothness_worst",
          "Feature_2": "concave_points_sd_error",
          "X": 1.3420706314594673,
          "Y": 0.9724119900806828,
          "corr": -0.22,
          "corr_abs": 0.22,
          "key": "smoothness_worstconcave_points_sd_error"
         },
         {
          "Feature": "smoothness_worst",
          "Feature_2": "concave_points_worst",
          "X": 1.3420706314594673,
          "Y": 0.9724119900806828,
          "corr": -0.18,
          "corr_abs": 0.18,
          "key": "smoothness_worstconcave_points_worst"
         },
         {
          "Feature": "smoothness_worst",
          "Feature_2": "fractal_dimension_mean",
          "X": 1.3420706314594673,
          "Y": 0.9724119900806828,
          "corr": -0.1,
          "corr_abs": 0.1,
          "key": "smoothness_worstfractal_dimension_mean"
         },
         {
          "Feature": "smoothness_worst",
          "Feature_2": "fractal_dimension_sd_error",
          "X": 1.3420706314594673,
          "Y": 0.9724119900806828,
          "corr": -0.11,
          "corr_abs": 0.11,
          "key": "smoothness_worstfractal_dimension_sd_error"
         },
         {
          "Feature": "smoothness_worst",
          "Feature_2": "fractal_dimension_worst",
          "X": 1.3420706314594673,
          "Y": 0.9724119900806828,
          "corr": 0.1,
          "corr_abs": 0.1,
          "key": "smoothness_worstfractal_dimension_worst"
         },
         {
          "Feature": "symmetry_mean",
          "Feature_2": "diagnosis",
          "X": 0.9586499014205722,
          "Y": -0.36173045459072645,
          "corr": 0.42,
          "corr_abs": 0.42,
          "key": "symmetry_meandiagnosis"
         },
         {
          "Feature": "symmetry_mean",
          "Feature_2": "radius_mean",
          "X": 0.9586499014205722,
          "Y": -0.36173045459072645,
          "corr": 0.12,
          "corr_abs": 0.12,
          "key": "symmetry_meanradius_mean"
         },
         {
          "Feature": "symmetry_mean",
          "Feature_2": "radius_sd_error",
          "X": 0.9586499014205722,
          "Y": -0.36173045459072645,
          "corr": 0.08,
          "corr_abs": 0.08,
          "key": "symmetry_meanradius_sd_error"
         },
         {
          "Feature": "symmetry_mean",
          "Feature_2": "radius_worst",
          "X": 0.9586499014205722,
          "Y": -0.36173045459072645,
          "corr": 0.15,
          "corr_abs": 0.15,
          "key": "symmetry_meanradius_worst"
         },
         {
          "Feature": "symmetry_mean",
          "Feature_2": "perimeter_mean",
          "X": 0.9586499014205722,
          "Y": -0.36173045459072645,
          "corr": 0.45,
          "corr_abs": 0.45,
          "key": "symmetry_meanperimeter_mean"
         },
         {
          "Feature": "symmetry_mean",
          "Feature_2": "perimeter_sd_error",
          "X": 0.9586499014205722,
          "Y": -0.36173045459072645,
          "corr": 0.45,
          "corr_abs": 0.45,
          "key": "symmetry_meanperimeter_sd_error"
         },
         {
          "Feature": "symmetry_mean",
          "Feature_2": "perimeter_worst",
          "X": 0.9586499014205722,
          "Y": -0.36173045459072645,
          "corr": 0.43,
          "corr_abs": 0.43,
          "key": "symmetry_meanperimeter_worst"
         },
         {
          "Feature": "symmetry_mean",
          "Feature_2": "area_mean",
          "X": 0.9586499014205722,
          "Y": -0.36173045459072645,
          "corr": 0.5,
          "corr_abs": 0.5,
          "key": "symmetry_meanarea_mean"
         },
         {
          "Feature": "symmetry_mean",
          "Feature_2": "area_sd_error",
          "X": 0.9586499014205722,
          "Y": -0.36173045459072645,
          "corr": 0.14,
          "corr_abs": 0.14,
          "key": "symmetry_meanarea_sd_error"
         },
         {
          "Feature": "symmetry_mean",
          "Feature_2": "area_worst",
          "X": 0.9586499014205722,
          "Y": -0.36173045459072645,
          "corr": -0.07,
          "corr_abs": 0.07,
          "key": "symmetry_meanarea_worst"
         },
         {
          "Feature": "symmetry_mean",
          "Feature_2": "smoothness_mean",
          "X": 0.9586499014205722,
          "Y": -0.36173045459072645,
          "corr": 0.13,
          "corr_abs": 0.13,
          "key": "symmetry_meansmoothness_mean"
         },
         {
          "Feature": "symmetry_mean",
          "Feature_2": "smoothness_sd_error",
          "X": 0.9586499014205722,
          "Y": -0.36173045459072645,
          "corr": 0.13,
          "corr_abs": 0.13,
          "key": "symmetry_meansmoothness_sd_error"
         },
         {
          "Feature": "symmetry_mean",
          "Feature_2": "smoothness_worst",
          "X": 0.9586499014205722,
          "Y": -0.36173045459072645,
          "corr": 0.31,
          "corr_abs": 0.31,
          "key": "symmetry_meansmoothness_worst"
         },
         {
          "Feature": "symmetry_mean",
          "Feature_2": "compactness_mean",
          "X": 0.9586499014205722,
          "Y": -0.36173045459072645,
          "corr": 0.23,
          "corr_abs": 0.23,
          "key": "symmetry_meancompactness_mean"
         },
         {
          "Feature": "symmetry_mean",
          "Feature_2": "compactness_sd_error",
          "X": 0.9586499014205722,
          "Y": -0.36173045459072645,
          "corr": 0.17,
          "corr_abs": 0.17,
          "key": "symmetry_meancompactness_sd_error"
         },
         {
          "Feature": "symmetry_mean",
          "Feature_2": "compactness_worst",
          "X": 0.9586499014205722,
          "Y": -0.36173045459072645,
          "corr": 0.22,
          "corr_abs": 0.22,
          "key": "symmetry_meancompactness_worst"
         },
         {
          "Feature": "symmetry_mean",
          "Feature_2": "concavity_mean",
          "X": 0.9586499014205722,
          "Y": -0.36173045459072645,
          "corr": -0.01,
          "corr_abs": 0.01,
          "key": "symmetry_meanconcavity_mean"
         },
         {
          "Feature": "symmetry_mean",
          "Feature_2": "concavity_sd_error",
          "X": 0.9586499014205722,
          "Y": -0.36173045459072645,
          "corr": 0.17,
          "corr_abs": 0.17,
          "key": "symmetry_meanconcavity_sd_error"
         },
         {
          "Feature": "symmetry_mean",
          "Feature_2": "concavity_worst",
          "X": 0.9586499014205722,
          "Y": -0.36173045459072645,
          "corr": 0.22,
          "corr_abs": 0.22,
          "key": "symmetry_meanconcavity_worst"
         },
         {
          "Feature": "symmetry_mean",
          "Feature_2": "concave_points_mean",
          "X": 0.9586499014205722,
          "Y": -0.36173045459072645,
          "corr": 0.23,
          "corr_abs": 0.23,
          "key": "symmetry_meanconcave_points_mean"
         },
         {
          "Feature": "symmetry_mean",
          "Feature_2": "concave_points_sd_error",
          "X": 0.9586499014205722,
          "Y": -0.36173045459072645,
          "corr": 0.24,
          "corr_abs": 0.24,
          "key": "symmetry_meanconcave_points_sd_error"
         },
         {
          "Feature": "symmetry_mean",
          "Feature_2": "concave_points_worst",
          "X": 0.9586499014205722,
          "Y": -0.36173045459072645,
          "corr": 0.21,
          "corr_abs": 0.21,
          "key": "symmetry_meanconcave_points_worst"
         },
         {
          "Feature": "symmetry_mean",
          "Feature_2": "fractal_dimension_mean",
          "X": 0.9586499014205722,
          "Y": -0.36173045459072645,
          "corr": 0.55,
          "corr_abs": 0.55,
          "key": "symmetry_meanfractal_dimension_mean"
         },
         {
          "Feature": "symmetry_mean",
          "Feature_2": "fractal_dimension_sd_error",
          "X": 0.9586499014205722,
          "Y": -0.36173045459072645,
          "corr": 0.49,
          "corr_abs": 0.49,
          "key": "symmetry_meanfractal_dimension_sd_error"
         },
         {
          "Feature": "symmetry_mean",
          "Feature_2": "fractal_dimension_worst",
          "X": 0.9586499014205722,
          "Y": -0.36173045459072645,
          "corr": 0.62,
          "corr_abs": 0.62,
          "key": "symmetry_meanfractal_dimension_worst"
         },
         {
          "Feature": "symmetry_sd_error",
          "Feature_2": "diagnosis",
          "X": 0.12130439533483439,
          "Y": -0.9653280462750881,
          "corr": 0.59,
          "corr_abs": 0.59,
          "key": "symmetry_sd_errordiagnosis"
         },
         {
          "Feature": "symmetry_sd_error",
          "Feature_2": "radius_mean",
          "X": 0.12130439533483439,
          "Y": -0.9653280462750881,
          "corr": 0.41,
          "corr_abs": 0.41,
          "key": "symmetry_sd_errorradius_mean"
         },
         {
          "Feature": "symmetry_sd_error",
          "Feature_2": "radius_sd_error",
          "X": 0.12130439533483439,
          "Y": -0.9653280462750881,
          "corr": 0.28,
          "corr_abs": 0.28,
          "key": "symmetry_sd_errorradius_sd_error"
         },
         {
          "Feature": "symmetry_sd_error",
          "Feature_2": "radius_worst",
          "X": 0.12130439533483439,
          "Y": -0.9653280462750881,
          "corr": 0.46,
          "corr_abs": 0.46,
          "key": "symmetry_sd_errorradius_worst"
         },
         {
          "Feature": "symmetry_sd_error",
          "Feature_2": "perimeter_mean",
          "X": 0.12130439533483439,
          "Y": -0.9653280462750881,
          "corr": 0.75,
          "corr_abs": 0.75,
          "key": "symmetry_sd_errorperimeter_mean"
         },
         {
          "Feature": "symmetry_sd_error",
          "Feature_2": "perimeter_sd_error",
          "X": 0.12130439533483439,
          "Y": -0.9653280462750881,
          "corr": 0.67,
          "corr_abs": 0.67,
          "key": "symmetry_sd_errorperimeter_sd_error"
         },
         {
          "Feature": "symmetry_sd_error",
          "Feature_2": "perimeter_worst",
          "X": 0.12130439533483439,
          "Y": -0.9653280462750881,
          "corr": 0.47,
          "corr_abs": 0.47,
          "key": "symmetry_sd_errorperimeter_worst"
         },
         {
          "Feature": "symmetry_sd_error",
          "Feature_2": "area_mean",
          "X": 0.12130439533483439,
          "Y": -0.9653280462750881,
          "corr": 0.46,
          "corr_abs": 0.46,
          "key": "symmetry_sd_errorarea_mean"
         },
         {
          "Feature": "symmetry_sd_error",
          "Feature_2": "area_sd_error",
          "X": 0.12130439533483439,
          "Y": -0.9653280462750881,
          "corr": 0.29,
          "corr_abs": 0.29,
          "key": "symmetry_sd_errorarea_sd_error"
         },
         {
          "Feature": "symmetry_sd_error",
          "Feature_2": "area_worst",
          "X": 0.12130439533483439,
          "Y": -0.9653280462750881,
          "corr": -0.09,
          "corr_abs": 0.09,
          "key": "symmetry_sd_errorarea_worst"
         },
         {
          "Feature": "symmetry_sd_error",
          "Feature_2": "smoothness_mean",
          "X": 0.12130439533483439,
          "Y": -0.9653280462750881,
          "corr": 0.34,
          "corr_abs": 0.34,
          "key": "symmetry_sd_errorsmoothness_mean"
         },
         {
          "Feature": "symmetry_sd_error",
          "Feature_2": "smoothness_sd_error",
          "X": 0.12130439533483439,
          "Y": -0.9653280462750881,
          "corr": 0.28,
          "corr_abs": 0.28,
          "key": "symmetry_sd_errorsmoothness_sd_error"
         },
         {
          "Feature": "symmetry_sd_error",
          "Feature_2": "smoothness_worst",
          "X": 0.12130439533483439,
          "Y": -0.9653280462750881,
          "corr": -0.06,
          "corr_abs": 0.06,
          "key": "symmetry_sd_errorsmoothness_worst"
         },
         {
          "Feature": "symmetry_sd_error",
          "Feature_2": "compactness_mean",
          "X": 0.12130439533483439,
          "Y": -0.9653280462750881,
          "corr": 0.68,
          "corr_abs": 0.68,
          "key": "symmetry_sd_errorcompactness_mean"
         },
         {
          "Feature": "symmetry_sd_error",
          "Feature_2": "compactness_sd_error",
          "X": 0.12130439533483439,
          "Y": -0.9653280462750881,
          "corr": 0.48,
          "corr_abs": 0.48,
          "key": "symmetry_sd_errorcompactness_sd_error"
         },
         {
          "Feature": "symmetry_sd_error",
          "Feature_2": "compactness_worst",
          "X": 0.12130439533483439,
          "Y": -0.9653280462750881,
          "corr": 0.45,
          "corr_abs": 0.45,
          "key": "symmetry_sd_errorcompactness_worst"
         },
         {
          "Feature": "symmetry_sd_error",
          "Feature_2": "concavity_mean",
          "X": 0.12130439533483439,
          "Y": -0.9653280462750881,
          "corr": 0.06,
          "corr_abs": 0.06,
          "key": "symmetry_sd_errorconcavity_mean"
         },
         {
          "Feature": "symmetry_sd_error",
          "Feature_2": "concavity_sd_error",
          "X": 0.12130439533483439,
          "Y": -0.9653280462750881,
          "corr": 0.39,
          "corr_abs": 0.39,
          "key": "symmetry_sd_errorconcavity_sd_error"
         },
         {
          "Feature": "symmetry_sd_error",
          "Feature_2": "concavity_worst",
          "X": 0.12130439533483439,
          "Y": -0.9653280462750881,
          "corr": 0.48,
          "corr_abs": 0.48,
          "key": "symmetry_sd_errorconcavity_worst"
         },
         {
          "Feature": "symmetry_sd_error",
          "Feature_2": "concave_points_mean",
          "X": 0.12130439533483439,
          "Y": -0.9653280462750881,
          "corr": 0.36,
          "corr_abs": 0.36,
          "key": "symmetry_sd_errorconcave_points_mean"
         },
         {
          "Feature": "symmetry_sd_error",
          "Feature_2": "concave_points_sd_error",
          "X": 0.12130439533483439,
          "Y": -0.9653280462750881,
          "corr": 0.53,
          "corr_abs": 0.53,
          "key": "symmetry_sd_errorconcave_points_sd_error"
         },
         {
          "Feature": "symmetry_sd_error",
          "Feature_2": "concave_points_worst",
          "X": 0.12130439533483439,
          "Y": -0.9653280462750881,
          "corr": 0.44,
          "corr_abs": 0.44,
          "key": "symmetry_sd_errorconcave_points_worst"
         },
         {
          "Feature": "symmetry_sd_error",
          "Feature_2": "symmetry_mean",
          "X": 0.12130439533483439,
          "Y": -0.9653280462750881,
          "corr": 0.57,
          "corr_abs": 0.57,
          "key": "symmetry_sd_errorsymmetry_mean"
         },
         {
          "Feature": "symmetry_sd_error",
          "Feature_2": "fractal_dimension_mean",
          "X": 0.12130439533483439,
          "Y": -0.9653280462750881,
          "corr": 0.8,
          "corr_abs": 0.8,
          "key": "symmetry_sd_errorfractal_dimension_mean"
         },
         {
          "Feature": "symmetry_sd_error",
          "Feature_2": "fractal_dimension_sd_error",
          "X": 0.12130439533483439,
          "Y": -0.9653280462750881,
          "corr": 0.61,
          "corr_abs": 0.61,
          "key": "symmetry_sd_errorfractal_dimension_sd_error"
         },
         {
          "Feature": "symmetry_sd_error",
          "Feature_2": "fractal_dimension_worst",
          "X": 0.12130439533483439,
          "Y": -0.9653280462750881,
          "corr": 0.81,
          "corr_abs": 0.81,
          "key": "symmetry_sd_errorfractal_dimension_worst"
         },
         {
          "Feature": "symmetry_worst",
          "Feature_2": "diagnosis",
          "X": -0.2441402884820551,
          "Y": -0.930804369599624,
          "corr": 0.66,
          "corr_abs": 0.66,
          "key": "symmetry_worstdiagnosis"
         },
         {
          "Feature": "symmetry_worst",
          "Feature_2": "radius_mean",
          "X": -0.2441402884820551,
          "Y": -0.930804369599624,
          "corr": 0.53,
          "corr_abs": 0.53,
          "key": "symmetry_worstradius_mean"
         },
         {
          "Feature": "symmetry_worst",
          "Feature_2": "radius_sd_error",
          "X": -0.2441402884820551,
          "Y": -0.930804369599624,
          "corr": 0.3,
          "corr_abs": 0.3,
          "key": "symmetry_worstradius_sd_error"
         },
         {
          "Feature": "symmetry_worst",
          "Feature_2": "radius_worst",
          "X": -0.2441402884820551,
          "Y": -0.930804369599624,
          "corr": 0.56,
          "corr_abs": 0.56,
          "key": "symmetry_worstradius_worst"
         },
         {
          "Feature": "symmetry_worst",
          "Feature_2": "perimeter_mean",
          "X": -0.2441402884820551,
          "Y": -0.930804369599624,
          "corr": 0.88,
          "corr_abs": 0.88,
          "key": "symmetry_worstperimeter_mean"
         },
         {
          "Feature": "symmetry_worst",
          "Feature_2": "perimeter_sd_error",
          "X": -0.2441402884820551,
          "Y": -0.930804369599624,
          "corr": 0.75,
          "corr_abs": 0.75,
          "key": "symmetry_worstperimeter_sd_error"
         },
         {
          "Feature": "symmetry_worst",
          "Feature_2": "perimeter_worst",
          "X": -0.2441402884820551,
          "Y": -0.930804369599624,
          "corr": 0.43,
          "corr_abs": 0.43,
          "key": "symmetry_worstperimeter_worst"
         },
         {
          "Feature": "symmetry_worst",
          "Feature_2": "area_mean",
          "X": -0.2441402884820551,
          "Y": -0.930804369599624,
          "corr": 0.35,
          "corr_abs": 0.35,
          "key": "symmetry_worstarea_mean"
         },
         {
          "Feature": "symmetry_worst",
          "Feature_2": "area_sd_error",
          "X": -0.2441402884820551,
          "Y": -0.930804369599624,
          "corr": 0.38,
          "corr_abs": 0.38,
          "key": "symmetry_worstarea_sd_error"
         },
         {
          "Feature": "symmetry_worst",
          "Feature_2": "area_worst",
          "X": -0.2441402884820551,
          "Y": -0.930804369599624,
          "corr": -0.07,
          "corr_abs": 0.07,
          "key": "symmetry_worstarea_worst"
         },
         {
          "Feature": "symmetry_worst",
          "Feature_2": "smoothness_mean",
          "X": -0.2441402884820551,
          "Y": -0.930804369599624,
          "corr": 0.42,
          "corr_abs": 0.42,
          "key": "symmetry_worstsmoothness_mean"
         },
         {
          "Feature": "symmetry_worst",
          "Feature_2": "smoothness_sd_error",
          "X": -0.2441402884820551,
          "Y": -0.930804369599624,
          "corr": 0.39,
          "corr_abs": 0.39,
          "key": "symmetry_worstsmoothness_sd_error"
         },
         {
          "Feature": "symmetry_worst",
          "Feature_2": "smoothness_worst",
          "X": -0.2441402884820551,
          "Y": -0.930804369599624,
          "corr": -0.06,
          "corr_abs": 0.06,
          "key": "symmetry_worstsmoothness_worst"
         },
         {
          "Feature": "symmetry_worst",
          "Feature_2": "compactness_mean",
          "X": -0.2441402884820551,
          "Y": -0.930804369599624,
          "corr": 0.64,
          "corr_abs": 0.64,
          "key": "symmetry_worstcompactness_mean"
         },
         {
          "Feature": "symmetry_worst",
          "Feature_2": "compactness_sd_error",
          "X": -0.2441402884820551,
          "Y": -0.930804369599624,
          "corr": 0.66,
          "corr_abs": 0.66,
          "key": "symmetry_worstcompactness_sd_error"
         },
         {
          "Feature": "symmetry_worst",
          "Feature_2": "compactness_worst",
          "X": -0.2441402884820551,
          "Y": -0.930804369599624,
          "corr": 0.55,
          "corr_abs": 0.55,
          "key": "symmetry_worstcompactness_worst"
         },
         {
          "Feature": "symmetry_worst",
          "Feature_2": "concavity_mean",
          "X": -0.2441402884820551,
          "Y": -0.930804369599624,
          "corr": 0.04,
          "corr_abs": 0.04,
          "key": "symmetry_worstconcavity_mean"
         },
         {
          "Feature": "symmetry_worst",
          "Feature_2": "concavity_sd_error",
          "X": -0.2441402884820551,
          "Y": -0.930804369599624,
          "corr": 0.38,
          "corr_abs": 0.38,
          "key": "symmetry_worstconcavity_sd_error"
         },
         {
          "Feature": "symmetry_worst",
          "Feature_2": "concavity_worst",
          "X": -0.2441402884820551,
          "Y": -0.930804369599624,
          "corr": 0.57,
          "corr_abs": 0.57,
          "key": "symmetry_worstconcavity_worst"
         },
         {
          "Feature": "symmetry_worst",
          "Feature_2": "concave_points_mean",
          "X": -0.2441402884820551,
          "Y": -0.930804369599624,
          "corr": 0.37,
          "corr_abs": 0.37,
          "key": "symmetry_worstconcave_points_mean"
         },
         {
          "Feature": "symmetry_worst",
          "Feature_2": "concave_points_sd_error",
          "X": -0.2441402884820551,
          "Y": -0.930804369599624,
          "corr": 0.62,
          "corr_abs": 0.62,
          "key": "symmetry_worstconcave_points_sd_error"
         },
         {
          "Feature": "symmetry_worst",
          "Feature_2": "concave_points_worst",
          "X": -0.2441402884820551,
          "Y": -0.930804369599624,
          "corr": 0.54,
          "corr_abs": 0.54,
          "key": "symmetry_worstconcave_points_worst"
         },
         {
          "Feature": "symmetry_worst",
          "Feature_2": "symmetry_mean",
          "X": -0.2441402884820551,
          "Y": -0.930804369599624,
          "corr": 0.52,
          "corr_abs": 0.52,
          "key": "symmetry_worstsymmetry_mean"
         },
         {
          "Feature": "symmetry_worst",
          "Feature_2": "symmetry_sd_error",
          "X": -0.2441402884820551,
          "Y": -0.930804369599624,
          "corr": 0.89,
          "corr_abs": 0.89,
          "key": "symmetry_worstsymmetry_sd_error"
         },
         {
          "Feature": "symmetry_worst",
          "Feature_2": "fractal_dimension_mean",
          "X": -0.2441402884820551,
          "Y": -0.930804369599624,
          "corr": 0.86,
          "corr_abs": 0.86,
          "key": "symmetry_worstfractal_dimension_mean"
         },
         {
          "Feature": "symmetry_worst",
          "Feature_2": "fractal_dimension_sd_error",
          "X": -0.2441402884820551,
          "Y": -0.930804369599624,
          "corr": 0.53,
          "corr_abs": 0.53,
          "key": "symmetry_worstfractal_dimension_sd_error"
         },
         {
          "Feature": "symmetry_worst",
          "Feature_2": "fractal_dimension_worst",
          "X": -0.2441402884820551,
          "Y": -0.930804369599624,
          "corr": 0.69,
          "corr_abs": 0.69,
          "key": "symmetry_worstfractal_dimension_worst"
         },
         {
          "Feature": "fractal_dimension_mean",
          "Feature_2": "diagnosis",
          "X": -0.8827594813905651,
          "Y": -0.7030792747522354,
          "corr": 0.79,
          "corr_abs": 0.79,
          "key": "fractal_dimension_meandiagnosis"
         },
         {
          "Feature": "fractal_dimension_mean",
          "Feature_2": "area_mean",
          "X": -0.8827594813905651,
          "Y": -0.7030792747522354,
          "corr": 0.18,
          "corr_abs": 0.18,
          "key": "fractal_dimension_meanarea_mean"
         },
         {
          "Feature": "fractal_dimension_mean",
          "Feature_2": "area_sd_error",
          "X": -0.8827594813905651,
          "Y": -0.7030792747522354,
          "corr": 0.53,
          "corr_abs": 0.53,
          "key": "fractal_dimension_meanarea_sd_error"
         },
         {
          "Feature": "fractal_dimension_mean",
          "Feature_2": "area_worst",
          "X": -0.8827594813905651,
          "Y": -0.7030792747522354,
          "corr": -0.12,
          "corr_abs": 0.12,
          "key": "fractal_dimension_meanarea_worst"
         },
         {
          "Feature": "fractal_dimension_mean",
          "Feature_2": "compactness_mean",
          "X": -0.8827594813905651,
          "Y": -0.7030792747522354,
          "corr": 0.48,
          "corr_abs": 0.48,
          "key": "fractal_dimension_meancompactness_mean"
         },
         {
          "Feature": "fractal_dimension_mean",
          "Feature_2": "compactness_sd_error",
          "X": -0.8827594813905651,
          "Y": -0.7030792747522354,
          "corr": 0.44,
          "corr_abs": 0.44,
          "key": "fractal_dimension_meancompactness_sd_error"
         },
         {
          "Feature": "fractal_dimension_mean",
          "Feature_2": "compactness_worst",
          "X": -0.8827594813905651,
          "Y": -0.7030792747522354,
          "corr": 0.6,
          "corr_abs": 0.6,
          "key": "fractal_dimension_meancompactness_worst"
         },
         {
          "Feature": "fractal_dimension_mean",
          "Feature_2": "concavity_mean",
          "X": -0.8827594813905651,
          "Y": -0.7030792747522354,
          "corr": -0.03,
          "corr_abs": 0.03,
          "key": "fractal_dimension_meanconcavity_mean"
         },
         {
          "Feature": "fractal_dimension_mean",
          "Feature_2": "concavity_sd_error",
          "X": -0.8827594813905651,
          "Y": -0.7030792747522354,
          "corr": 0.22,
          "corr_abs": 0.22,
          "key": "fractal_dimension_meanconcavity_sd_error"
         },
         {
          "Feature": "fractal_dimension_mean",
          "Feature_2": "concavity_worst",
          "X": -0.8827594813905651,
          "Y": -0.7030792747522354,
          "corr": 0.79,
          "corr_abs": 0.79,
          "key": "fractal_dimension_meanconcavity_worst"
         },
         {
          "Feature": "fractal_dimension_mean",
          "Feature_2": "concave_points_mean",
          "X": -0.8827594813905651,
          "Y": -0.7030792747522354,
          "corr": 0.36,
          "corr_abs": 0.36,
          "key": "fractal_dimension_meanconcave_points_mean"
         },
         {
          "Feature": "fractal_dimension_mean",
          "Feature_2": "concave_points_sd_error",
          "X": -0.8827594813905651,
          "Y": -0.7030792747522354,
          "corr": 0.82,
          "corr_abs": 0.82,
          "key": "fractal_dimension_meanconcave_points_sd_error"
         },
         {
          "Feature": "fractal_dimension_mean",
          "Feature_2": "concave_points_worst",
          "X": -0.8827594813905651,
          "Y": -0.7030792747522354,
          "corr": 0.75,
          "corr_abs": 0.75,
          "key": "fractal_dimension_meanconcave_points_worst"
         },
         {
          "Feature": "fractal_dimension_sd_error",
          "Feature_2": "diagnosis",
          "X": 0.9689000336230705,
          "Y": -0.1703094215612354,
          "corr": 0.42,
          "corr_abs": 0.42,
          "key": "fractal_dimension_sd_errordiagnosis"
         },
         {
          "Feature": "fractal_dimension_sd_error",
          "Feature_2": "area_mean",
          "X": 0.9689000336230705,
          "Y": -0.1703094215612354,
          "corr": 0.33,
          "corr_abs": 0.33,
          "key": "fractal_dimension_sd_errorarea_mean"
         },
         {
          "Feature": "fractal_dimension_sd_error",
          "Feature_2": "area_sd_error",
          "X": 0.9689000336230705,
          "Y": -0.1703094215612354,
          "corr": 0.09,
          "corr_abs": 0.09,
          "key": "fractal_dimension_sd_errorarea_sd_error"
         },
         {
          "Feature": "fractal_dimension_sd_error",
          "Feature_2": "area_worst",
          "X": 0.9689000336230705,
          "Y": -0.1703094215612354,
          "corr": -0.13,
          "corr_abs": 0.13,
          "key": "fractal_dimension_sd_errorarea_worst"
         },
         {
          "Feature": "fractal_dimension_sd_error",
          "Feature_2": "compactness_mean",
          "X": 0.9689000336230705,
          "Y": -0.1703094215612354,
          "corr": 0.28,
          "corr_abs": 0.28,
          "key": "fractal_dimension_sd_errorcompactness_mean"
         },
         {
          "Feature": "fractal_dimension_sd_error",
          "Feature_2": "compactness_sd_error",
          "X": 0.9689000336230705,
          "Y": -0.1703094215612354,
          "corr": 0.2,
          "corr_abs": 0.2,
          "key": "fractal_dimension_sd_errorcompactness_sd_error"
         },
         {
          "Feature": "fractal_dimension_sd_error",
          "Feature_2": "compactness_worst",
          "X": 0.9689000336230705,
          "Y": -0.1703094215612354,
          "corr": 0.14,
          "corr_abs": 0.14,
          "key": "fractal_dimension_sd_errorcompactness_worst"
         },
         {
          "Feature": "fractal_dimension_sd_error",
          "Feature_2": "concavity_mean",
          "X": 0.9689000336230705,
          "Y": -0.1703094215612354,
          "corr": 0.39,
          "corr_abs": 0.39,
          "key": "fractal_dimension_sd_errorconcavity_mean"
         },
         {
          "Feature": "fractal_dimension_sd_error",
          "Feature_2": "concavity_sd_error",
          "X": 0.9689000336230705,
          "Y": -0.1703094215612354,
          "corr": 0.11,
          "corr_abs": 0.11,
          "key": "fractal_dimension_sd_errorconcavity_sd_error"
         },
         {
          "Feature": "fractal_dimension_sd_error",
          "Feature_2": "concavity_worst",
          "X": 0.9689000336230705,
          "Y": -0.1703094215612354,
          "corr": 0.24,
          "corr_abs": 0.24,
          "key": "fractal_dimension_sd_errorconcavity_worst"
         },
         {
          "Feature": "fractal_dimension_sd_error",
          "Feature_2": "concave_points_mean",
          "X": 0.9689000336230705,
          "Y": -0.1703094215612354,
          "corr": 0.23,
          "corr_abs": 0.23,
          "key": "fractal_dimension_sd_errorconcave_points_mean"
         },
         {
          "Feature": "fractal_dimension_sd_error",
          "Feature_2": "concave_points_sd_error",
          "X": 0.9689000336230705,
          "Y": -0.1703094215612354,
          "corr": 0.27,
          "corr_abs": 0.27,
          "key": "fractal_dimension_sd_errorconcave_points_sd_error"
         },
         {
          "Feature": "fractal_dimension_sd_error",
          "Feature_2": "concave_points_worst",
          "X": 0.9689000336230705,
          "Y": -0.1703094215612354,
          "corr": 0.21,
          "corr_abs": 0.21,
          "key": "fractal_dimension_sd_errorconcave_points_worst"
         },
         {
          "Feature": "fractal_dimension_sd_error",
          "Feature_2": "fractal_dimension_mean",
          "X": 0.9689000336230705,
          "Y": -0.1703094215612354,
          "corr": 0.5,
          "corr_abs": 0.5,
          "key": "fractal_dimension_sd_errorfractal_dimension_mean"
         },
         {
          "Feature": "fractal_dimension_worst",
          "Feature_2": "diagnosis",
          "X": 1.3727588915543767,
          "Y": -0.7962081062986649,
          "corr": 0.32,
          "corr_abs": 0.32,
          "key": "fractal_dimension_worstdiagnosis"
         },
         {
          "Feature": "fractal_dimension_worst",
          "Feature_2": "area_mean",
          "X": 1.3727588915543767,
          "Y": -0.7962081062986649,
          "corr": 0.77,
          "corr_abs": 0.77,
          "key": "fractal_dimension_worstarea_mean"
         },
         {
          "Feature": "fractal_dimension_worst",
          "Feature_2": "area_sd_error",
          "X": 1.3727588915543767,
          "Y": -0.7962081062986649,
          "corr": 0.05,
          "corr_abs": 0.05,
          "key": "fractal_dimension_worstarea_sd_error"
         },
         {
          "Feature": "fractal_dimension_worst",
          "Feature_2": "area_worst",
          "X": 1.3727588915543767,
          "Y": -0.7962081062986649,
          "corr": -0.05,
          "corr_abs": 0.05,
          "key": "fractal_dimension_worstarea_worst"
         },
         {
          "Feature": "fractal_dimension_worst",
          "Feature_2": "compactness_mean",
          "X": 1.3727588915543767,
          "Y": -0.7962081062986649,
          "corr": 0.59,
          "corr_abs": 0.59,
          "key": "fractal_dimension_worstcompactness_mean"
         },
         {
          "Feature": "fractal_dimension_worst",
          "Feature_2": "compactness_sd_error",
          "X": 1.3727588915543767,
          "Y": -0.7962081062986649,
          "corr": 0.44,
          "corr_abs": 0.44,
          "key": "fractal_dimension_worstcompactness_sd_error"
         },
         {
          "Feature": "fractal_dimension_worst",
          "Feature_2": "compactness_worst",
          "X": 1.3727588915543767,
          "Y": -0.7962081062986649,
          "corr": 0.31,
          "corr_abs": 0.31,
          "key": "fractal_dimension_worstcompactness_worst"
         },
         {
          "Feature": "fractal_dimension_worst",
          "Feature_2": "concavity_mean",
          "X": 1.3727588915543767,
          "Y": -0.7962081062986649,
          "corr": 0.08,
          "corr_abs": 0.08,
          "key": "fractal_dimension_worstconcavity_mean"
         },
         {
          "Feature": "fractal_dimension_worst",
          "Feature_2": "concavity_sd_error",
          "X": 1.3727588915543767,
          "Y": -0.7962081062986649,
          "corr": 0.59,
          "corr_abs": 0.59,
          "key": "fractal_dimension_worstconcavity_sd_error"
         },
         {
          "Feature": "fractal_dimension_worst",
          "Feature_2": "concavity_worst",
          "X": 1.3727588915543767,
          "Y": -0.7962081062986649,
          "corr": 0.09,
          "corr_abs": 0.09,
          "key": "fractal_dimension_worstconcavity_worst"
         },
         {
          "Feature": "fractal_dimension_worst",
          "Feature_2": "concave_points_mean",
          "X": 1.3727588915543767,
          "Y": -0.7962081062986649,
          "corr": 0.22,
          "corr_abs": 0.22,
          "key": "fractal_dimension_worstconcave_points_mean"
         },
         {
          "Feature": "fractal_dimension_worst",
          "Feature_2": "concave_points_sd_error",
          "X": 1.3727588915543767,
          "Y": -0.7962081062986649,
          "corr": 0.14,
          "corr_abs": 0.14,
          "key": "fractal_dimension_worstconcave_points_sd_error"
         },
         {
          "Feature": "fractal_dimension_worst",
          "Feature_2": "concave_points_worst",
          "X": 1.3727588915543767,
          "Y": -0.7962081062986649,
          "corr": 0.08,
          "corr_abs": 0.08,
          "key": "fractal_dimension_worstconcave_points_worst"
         },
         {
          "Feature": "fractal_dimension_worst",
          "Feature_2": "fractal_dimension_mean",
          "X": 1.3727588915543767,
          "Y": -0.7962081062986649,
          "corr": 0.51,
          "corr_abs": 0.51,
          "key": "fractal_dimension_worstfractal_dimension_mean"
         },
         {
          "Feature": "fractal_dimension_worst",
          "Feature_2": "fractal_dimension_sd_error",
          "X": 1.3727588915543767,
          "Y": -0.7962081062986649,
          "corr": 0.54,
          "corr_abs": 0.54,
          "key": "fractal_dimension_worstfractal_dimension_sd_error"
         },
         {
          "Feature": "diagnosis",
          "Feature_2": "area_mean",
          "X": -0.9095535161984573,
          "Y": -0.0894896434240214,
          "corr": -0.01,
          "corr_abs": 0.01,
          "key": "diagnosisarea_mean"
         },
         {
          "Feature": "diagnosis",
          "Feature_2": "area_sd_error",
          "X": -0.9095535161984573,
          "Y": -0.0894896434240214,
          "corr": 0.57,
          "corr_abs": 0.57,
          "key": "diagnosisarea_sd_error"
         },
         {
          "Feature": "diagnosis",
          "Feature_2": "area_worst",
          "X": -0.9095535161984573,
          "Y": -0.0894896434240214,
          "corr": -0.01,
          "corr_abs": 0.01,
          "key": "diagnosisarea_worst"
         },
         {
          "Feature": "diagnosis",
          "Feature_2": "compactness_mean",
          "X": -0.9095535161984573,
          "Y": -0.0894896434240214,
          "corr": 0.29,
          "corr_abs": 0.29,
          "key": "diagnosiscompactness_mean"
         },
         {
          "Feature": "diagnosis",
          "Feature_2": "compactness_sd_error",
          "X": -0.9095535161984573,
          "Y": -0.0894896434240214,
          "corr": 0.25,
          "corr_abs": 0.25,
          "key": "diagnosiscompactness_sd_error"
         },
         {
          "Feature": "diagnosis",
          "Feature_2": "compactness_worst",
          "X": -0.9095535161984573,
          "Y": -0.0894896434240214,
          "corr": 0.41,
          "corr_abs": 0.41,
          "key": "diagnosiscompactness_worst"
         },
         {
          "Feature": "diagnosis",
          "Feature_2": "concavity_mean",
          "X": -0.9095535161984573,
          "Y": -0.0894896434240214,
          "corr": -0.01,
          "corr_abs": 0.01,
          "key": "diagnosisconcavity_mean"
         },
         {
          "Feature": "diagnosis",
          "Feature_2": "concavity_sd_error",
          "X": -0.9095535161984573,
          "Y": -0.0894896434240214,
          "corr": 0.08,
          "corr_abs": 0.08,
          "key": "diagnosisconcavity_sd_error"
         },
         {
          "Feature": "diagnosis",
          "Feature_2": "concavity_worst",
          "X": -0.9095535161984573,
          "Y": -0.0894896434240214,
          "corr": 0.78,
          "corr_abs": 0.78,
          "key": "diagnosisconcavity_worst"
         },
         {
          "Feature": "diagnosis",
          "Feature_2": "concave_points_mean",
          "X": -0.9095535161984573,
          "Y": -0.0894896434240214,
          "corr": 0.46,
          "corr_abs": 0.46,
          "key": "diagnosisconcave_points_mean"
         },
         {
          "Feature": "diagnosis",
          "Feature_2": "concave_points_sd_error",
          "X": -0.9095535161984573,
          "Y": -0.0894896434240214,
          "corr": 0.78,
          "corr_abs": 0.78,
          "key": "diagnosisconcave_points_sd_error"
         },
         {
          "Feature": "diagnosis",
          "Feature_2": "concave_points_worst",
          "X": -0.9095535161984573,
          "Y": -0.0894896434240214,
          "corr": 0.73,
          "corr_abs": 0.73,
          "key": "diagnosisconcave_points_worst"
         },
         {
          "Feature": "area_sd_error",
          "Feature_2": "area_mean",
          "X": -0.8964952742805722,
          "Y": 0.4806660726525604,
          "corr": 0,
          "corr_abs": 0,
          "key": "area_sd_errorarea_mean"
         },
         {
          "Feature": "area_worst",
          "Feature_2": "area_mean",
          "X": 1.3846070448538799,
          "Y": 1.404672398683716,
          "corr": 0.16,
          "corr_abs": 0.16,
          "key": "area_worstarea_mean"
         },
         {
          "Feature": "area_worst",
          "Feature_2": "area_sd_error",
          "X": 1.3846070448538799,
          "Y": 1.404672398683716,
          "corr": 0.21,
          "corr_abs": 0.21,
          "key": "area_worstarea_sd_error"
         },
         {
          "Feature": "compactness_mean",
          "Feature_2": "area_mean",
          "X": 0.8555238709691172,
          "Y": -0.5862127017754521,
          "corr": 0.56,
          "corr_abs": 0.56,
          "key": "compactness_meanarea_mean"
         },
         {
          "Feature": "compactness_mean",
          "Feature_2": "area_sd_error",
          "X": 0.8555238709691172,
          "Y": -0.5862127017754521,
          "corr": 0.36,
          "corr_abs": 0.36,
          "key": "compactness_meanarea_sd_error"
         },
         {
          "Feature": "compactness_mean",
          "Feature_2": "area_worst",
          "X": 0.8555238709691172,
          "Y": -0.5862127017754521,
          "corr": 0.23,
          "corr_abs": 0.23,
          "key": "compactness_meanarea_worst"
         },
         {
          "Feature": "compactness_sd_error",
          "Feature_2": "area_mean",
          "X": 0.8712102630263099,
          "Y": -0.3494037604907286,
          "corr": 0.45,
          "corr_abs": 0.45,
          "key": "compactness_sd_errorarea_mean"
         },
         {
          "Feature": "compactness_sd_error",
          "Feature_2": "area_sd_error",
          "X": 0.8712102630263099,
          "Y": -0.3494037604907286,
          "corr": 0.33,
          "corr_abs": 0.33,
          "key": "compactness_sd_errorarea_sd_error"
         },
         {
          "Feature": "compactness_sd_error",
          "Feature_2": "area_worst",
          "X": 0.8712102630263099,
          "Y": -0.3494037604907286,
          "corr": 0.19,
          "corr_abs": 0.19,
          "key": "compactness_sd_errorarea_worst"
         },
         {
          "Feature": "compactness_sd_error",
          "Feature_2": "compactness_mean",
          "X": 0.8712102630263099,
          "Y": -0.3494037604907286,
          "corr": 0.8,
          "corr_abs": 0.8,
          "key": "compactness_sd_errorcompactness_mean"
         },
         {
          "Feature": "compactness_worst",
          "Feature_2": "area_mean",
          "X": 0.2876823959657003,
          "Y": -0.28965929059324086,
          "corr": 0.34,
          "corr_abs": 0.34,
          "key": "compactness_worstarea_mean"
         },
         {
          "Feature": "compactness_worst",
          "Feature_2": "area_sd_error",
          "X": 0.2876823959657003,
          "Y": -0.28965929059324086,
          "corr": 0.51,
          "corr_abs": 0.51,
          "key": "compactness_worstarea_sd_error"
         },
         {
          "Feature": "compactness_worst",
          "Feature_2": "area_worst",
          "X": 0.2876823959657003,
          "Y": -0.28965929059324086,
          "corr": 0.23,
          "corr_abs": 0.23,
          "key": "compactness_worstarea_worst"
         },
         {
          "Feature": "compactness_worst",
          "Feature_2": "compactness_mean",
          "X": 0.2876823959657003,
          "Y": -0.28965929059324086,
          "corr": 0.74,
          "corr_abs": 0.74,
          "key": "compactness_worstcompactness_mean"
         },
         {
          "Feature": "compactness_worst",
          "Feature_2": "compactness_sd_error",
          "X": 0.2876823959657003,
          "Y": -0.28965929059324086,
          "corr": 0.77,
          "corr_abs": 0.77,
          "key": "compactness_worstcompactness_sd_error"
         },
         {
          "Feature": "concavity_mean",
          "Feature_2": "area_mean",
          "X": 1.4802274110064482,
          "Y": 0.9423863485385834,
          "corr": 0.35,
          "corr_abs": 0.35,
          "key": "concavity_meanarea_mean"
         },
         {
          "Feature": "concavity_mean",
          "Feature_2": "area_sd_error",
          "X": 1.4802274110064482,
          "Y": 0.9423863485385834,
          "corr": 0.24,
          "corr_abs": 0.24,
          "key": "concavity_meanarea_sd_error"
         },
         {
          "Feature": "concavity_mean",
          "Feature_2": "area_worst",
          "X": 1.4802274110064482,
          "Y": 0.9423863485385834,
          "corr": 0.41,
          "corr_abs": 0.41,
          "key": "concavity_meanarea_worst"
         },
         {
          "Feature": "concavity_mean",
          "Feature_2": "compactness_mean",
          "X": 1.4802274110064482,
          "Y": 0.9423863485385834,
          "corr": 0.39,
          "corr_abs": 0.39,
          "key": "concavity_meancompactness_mean"
         },
         {
          "Feature": "concavity_mean",
          "Feature_2": "compactness_sd_error",
          "X": 1.4802274110064482,
          "Y": 0.9423863485385834,
          "corr": 0.31,
          "corr_abs": 0.31,
          "key": "concavity_meancompactness_sd_error"
         },
         {
          "Feature": "concavity_mean",
          "Feature_2": "compactness_worst",
          "X": 1.4802274110064482,
          "Y": 0.9423863485385834,
          "corr": 0.31,
          "corr_abs": 0.31,
          "key": "concavity_meancompactness_worst"
         },
         {
          "Feature": "concavity_mean",
          "Feature_2": "concave_points_mean",
          "X": 1.4802274110064482,
          "Y": 0.9423863485385834,
          "corr": -0.08,
          "corr_abs": 0.08,
          "key": "concavity_meanconcave_points_mean"
         },
         {
          "Feature": "concavity_mean",
          "Feature_2": "concave_points_sd_error",
          "X": 1.4802274110064482,
          "Y": 0.9423863485385834,
          "corr": -0.1,
          "corr_abs": 0.1,
          "key": "concavity_meanconcave_points_sd_error"
         },
         {
          "Feature": "concavity_mean",
          "Feature_2": "concave_points_worst",
          "X": 1.4802274110064482,
          "Y": 0.9423863485385834,
          "corr": -0.11,
          "corr_abs": 0.11,
          "key": "concavity_meanconcave_points_worst"
         },
         {
          "Feature": "concavity_sd_error",
          "Feature_2": "area_mean",
          "X": 1.5999275290020805,
          "Y": -0.1287958445419005,
          "corr": 0.69,
          "corr_abs": 0.69,
          "key": "concavity_sd_errorarea_mean"
         },
         {
          "Feature": "concavity_sd_error",
          "Feature_2": "area_sd_error",
          "X": 1.5999275290020805,
          "Y": -0.1287958445419005,
          "corr": 0.23,
          "corr_abs": 0.23,
          "key": "concavity_sd_errorarea_sd_error"
         },
         {
          "Feature": "concavity_sd_error",
          "Feature_2": "area_worst",
          "X": 1.5999275290020805,
          "Y": -0.1287958445419005,
          "corr": 0.28,
          "corr_abs": 0.28,
          "key": "concavity_sd_errorarea_worst"
         },
         {
          "Feature": "concavity_sd_error",
          "Feature_2": "compactness_mean",
          "X": 1.5999275290020805,
          "Y": -0.1287958445419005,
          "corr": 0.8,
          "corr_abs": 0.8,
          "key": "concavity_sd_errorcompactness_mean"
         },
         {
          "Feature": "concavity_sd_error",
          "Feature_2": "compactness_sd_error",
          "X": 1.5999275290020805,
          "Y": -0.1287958445419005,
          "corr": 0.73,
          "corr_abs": 0.73,
          "key": "concavity_sd_errorcompactness_sd_error"
         },
         {
          "Feature": "concavity_sd_error",
          "Feature_2": "compactness_worst",
          "X": 1.5999275290020805,
          "Y": -0.1287958445419005,
          "corr": 0.61,
          "corr_abs": 0.61,
          "key": "concavity_sd_errorcompactness_worst"
         },
         {
          "Feature": "concavity_sd_error",
          "Feature_2": "concavity_mean",
          "X": 1.5999275290020805,
          "Y": -0.1287958445419005,
          "corr": 0.37,
          "corr_abs": 0.37,
          "key": "concavity_sd_errorconcavity_mean"
         },
         {
          "Feature": "concavity_sd_error",
          "Feature_2": "concave_points_mean",
          "X": 1.5999275290020805,
          "Y": -0.1287958445419005,
          "corr": 0,
          "corr_abs": 0,
          "key": "concavity_sd_errorconcave_points_mean"
         },
         {
          "Feature": "concavity_sd_error",
          "Feature_2": "concave_points_sd_error",
          "X": 1.5999275290020805,
          "Y": -0.1287958445419005,
          "corr": 0,
          "corr_abs": 0,
          "key": "concavity_sd_errorconcave_points_sd_error"
         },
         {
          "Feature": "concavity_sd_error",
          "Feature_2": "concave_points_worst",
          "X": 1.5999275290020805,
          "Y": -0.1287958445419005,
          "corr": -0.02,
          "corr_abs": 0.02,
          "key": "concavity_sd_errorconcave_points_worst"
         },
         {
          "Feature": "concavity_worst",
          "Feature_2": "area_mean",
          "X": -1.3978663256422363,
          "Y": 0.3010427285687964,
          "corr": -0.25,
          "corr_abs": 0.25,
          "key": "concavity_worstarea_mean"
         },
         {
          "Feature": "concavity_worst",
          "Feature_2": "area_sd_error",
          "X": -1.3978663256422363,
          "Y": 0.3010427285687964,
          "corr": 0.72,
          "corr_abs": 0.72,
          "key": "concavity_worstarea_sd_error"
         },
         {
          "Feature": "concavity_worst",
          "Feature_2": "area_worst",
          "X": -1.3978663256422363,
          "Y": 0.3010427285687964,
          "corr": -0.11,
          "corr_abs": 0.11,
          "key": "concavity_worstarea_worst"
         },
         {
          "Feature": "concavity_worst",
          "Feature_2": "compactness_mean",
          "X": -1.3978663256422363,
          "Y": 0.3010427285687964,
          "corr": 0.2,
          "corr_abs": 0.2,
          "key": "concavity_worstcompactness_mean"
         },
         {
          "Feature": "concavity_worst",
          "Feature_2": "compactness_sd_error",
          "X": -1.3978663256422363,
          "Y": 0.3010427285687964,
          "corr": 0.19,
          "corr_abs": 0.19,
          "key": "concavity_worstcompactness_sd_error"
         },
         {
          "Feature": "concavity_worst",
          "Feature_2": "compactness_worst",
          "X": -1.3978663256422363,
          "Y": 0.3010427285687964,
          "corr": 0.36,
          "corr_abs": 0.36,
          "key": "concavity_worstcompactness_worst"
         },
         {
          "Feature": "concavity_worst",
          "Feature_2": "concavity_mean",
          "X": -1.3978663256422363,
          "Y": 0.3010427285687964,
          "corr": -0.13,
          "corr_abs": 0.13,
          "key": "concavity_worstconcavity_mean"
         },
         {
          "Feature": "concavity_worst",
          "Feature_2": "concavity_sd_error",
          "X": -1.3978663256422363,
          "Y": 0.3010427285687964,
          "corr": -0.04,
          "corr_abs": 0.04,
          "key": "concavity_worstconcavity_sd_error"
         },
         {
          "Feature": "concavity_worst",
          "Feature_2": "concave_points_mean",
          "X": -1.3978663256422363,
          "Y": 0.3010427285687964,
          "corr": 0.36,
          "corr_abs": 0.36,
          "key": "concavity_worstconcave_points_mean"
         },
         {
          "Feature": "concavity_worst",
          "Feature_2": "concave_points_sd_error",
          "X": -1.3978663256422363,
          "Y": 0.3010427285687964,
          "corr": 0.99,
          "corr_abs": 0.99,
          "key": "concavity_worstconcave_points_sd_error"
         },
         {
          "Feature": "concavity_worst",
          "Feature_2": "concave_points_worst",
          "X": -1.3978663256422363,
          "Y": 0.3010427285687964,
          "corr": 0.98,
          "corr_abs": 0.98,
          "key": "concavity_worstconcave_points_worst"
         },
         {
          "Feature": "concave_points_mean",
          "Feature_2": "area_mean",
          "X": 0.43309910036905297,
          "Y": 0.9882464968652713,
          "corr": -0.05,
          "corr_abs": 0.05,
          "key": "concave_points_meanarea_mean"
         },
         {
          "Feature": "concave_points_mean",
          "Feature_2": "area_sd_error",
          "X": 0.43309910036905297,
          "Y": 0.9882464968652713,
          "corr": 0.19,
          "corr_abs": 0.19,
          "key": "concave_points_meanarea_sd_error"
         },
         {
          "Feature": "concave_points_mean",
          "Feature_2": "area_worst",
          "X": 0.43309910036905297,
          "Y": 0.9882464968652713,
          "corr": 0.41,
          "corr_abs": 0.41,
          "key": "concave_points_meanarea_worst"
         },
         {
          "Feature": "concave_points_mean",
          "Feature_2": "compactness_mean",
          "X": 0.43309910036905297,
          "Y": 0.9882464968652713,
          "corr": 0.14,
          "corr_abs": 0.14,
          "key": "concave_points_meancompactness_mean"
         },
         {
          "Feature": "concave_points_mean",
          "Feature_2": "compactness_sd_error",
          "X": 0.43309910036905297,
          "Y": 0.9882464968652713,
          "corr": 0.1,
          "corr_abs": 0.1,
          "key": "concave_points_meancompactness_sd_error"
         },
         {
          "Feature": "concave_points_mean",
          "Feature_2": "compactness_worst",
          "X": 0.43309910036905297,
          "Y": 0.9882464968652713,
          "corr": 0.09,
          "corr_abs": 0.09,
          "key": "concave_points_meancompactness_worst"
         },
         {
          "Feature": "concave_points_sd_error",
          "Feature_2": "area_mean",
          "X": -1.4305533463499376,
          "Y": 0.17763167675042257,
          "corr": -0.21,
          "corr_abs": 0.21,
          "key": "concave_points_sd_errorarea_mean"
         },
         {
          "Feature": "concave_points_sd_error",
          "Feature_2": "area_sd_error",
          "X": -1.4305533463499376,
          "Y": 0.17763167675042257,
          "corr": 0.72,
          "corr_abs": 0.72,
          "key": "concave_points_sd_errorarea_sd_error"
         },
         {
          "Feature": "concave_points_sd_error",
          "Feature_2": "area_worst",
          "X": -1.4305533463499376,
          "Y": 0.17763167675042257,
          "corr": -0.1,
          "corr_abs": 0.1,
          "key": "concave_points_sd_errorarea_worst"
         },
         {
          "Feature": "concave_points_sd_error",
          "Feature_2": "compactness_mean",
          "X": -1.4305533463499376,
          "Y": 0.17763167675042257,
          "corr": 0.26,
          "corr_abs": 0.26,
          "key": "concave_points_sd_errorcompactness_mean"
         },
         {
          "Feature": "concave_points_sd_error",
          "Feature_2": "compactness_sd_error",
          "X": -1.4305533463499376,
          "Y": 0.17763167675042257,
          "corr": 0.23,
          "corr_abs": 0.23,
          "key": "concave_points_sd_errorcompactness_sd_error"
         },
         {
          "Feature": "concave_points_sd_error",
          "Feature_2": "compactness_worst",
          "X": -1.4305533463499376,
          "Y": 0.17763167675042257,
          "corr": 0.39,
          "corr_abs": 0.39,
          "key": "concave_points_sd_errorcompactness_worst"
         },
         {
          "Feature": "concave_points_sd_error",
          "Feature_2": "concave_points_mean",
          "X": -1.4305533463499376,
          "Y": 0.17763167675042257,
          "corr": 0.37,
          "corr_abs": 0.37,
          "key": "concave_points_sd_errorconcave_points_mean"
         },
         {
          "Feature": "concave_points_worst",
          "Feature_2": "area_mean",
          "X": -1.3889029607897831,
          "Y": 0.3647607153838467,
          "corr": -0.23,
          "corr_abs": 0.23,
          "key": "concave_points_worstarea_mean"
         },
         {
          "Feature": "concave_points_worst",
          "Feature_2": "area_sd_error",
          "X": -1.3889029607897831,
          "Y": 0.3647607153838467,
          "corr": 0.75,
          "corr_abs": 0.75,
          "key": "concave_points_worstarea_sd_error"
         },
         {
          "Feature": "concave_points_worst",
          "Feature_2": "area_worst",
          "X": -1.3889029607897831,
          "Y": 0.3647607153838467,
          "corr": -0.08,
          "corr_abs": 0.08,
          "key": "concave_points_worstarea_worst"
         },
         {
          "Feature": "concave_points_worst",
          "Feature_2": "compactness_mean",
          "X": -1.3889029607897831,
          "Y": 0.3647607153838467,
          "corr": 0.2,
          "corr_abs": 0.2,
          "key": "concave_points_worstcompactness_mean"
         },
         {
          "Feature": "concave_points_worst",
          "Feature_2": "compactness_sd_error",
          "X": -1.3889029607897831,
          "Y": 0.3647607153838467,
          "corr": 0.19,
          "corr_abs": 0.19,
          "key": "concave_points_worstcompactness_sd_error"
         },
         {
          "Feature": "concave_points_worst",
          "Feature_2": "compactness_worst",
          "X": -1.3889029607897831,
          "Y": 0.3647607153838467,
          "corr": 0.34,
          "corr_abs": 0.34,
          "key": "concave_points_worstcompactness_worst"
         },
         {
          "Feature": "concave_points_worst",
          "Feature_2": "concave_points_mean",
          "X": -1.3889029607897831,
          "Y": 0.3647607153838467,
          "corr": 0.35,
          "corr_abs": 0.35,
          "key": "concave_points_worstconcave_points_mean"
         },
         {
          "Feature": "concave_points_worst",
          "Feature_2": "concave_points_sd_error",
          "X": -1.3889029607897831,
          "Y": 0.3647607153838467,
          "corr": 0.98,
          "corr_abs": 0.98,
          "key": "concave_points_worstconcave_points_sd_error"
         },
         {
          "Feature": "radius_mean",
          "Feature_2": "diagnosis",
          "X": -0.9095535161984573,
          "Y": -0.0894896434240214,
          "corr": 0.73,
          "corr_abs": 0.73,
          "key": "radius_meandiagnosis"
         },
         {
          "Feature": "radius_sd_error",
          "Feature_2": "diagnosis",
          "X": -0.9095535161984573,
          "Y": -0.0894896434240214,
          "corr": 0.42,
          "corr_abs": 0.42,
          "key": "radius_sd_errordiagnosis"
         },
         {
          "Feature": "radius_worst",
          "Feature_2": "diagnosis",
          "X": -0.9095535161984573,
          "Y": -0.0894896434240214,
          "corr": 0.74,
          "corr_abs": 0.74,
          "key": "radius_worstdiagnosis"
         },
         {
          "Feature": "texture_mean",
          "Feature_2": "diagnosis",
          "X": -0.9095535161984573,
          "Y": -0.0894896434240214,
          "corr": 0.71,
          "corr_abs": 0.71,
          "key": "texture_meandiagnosis"
         },
         {
          "Feature": "texture_sd_error",
          "Feature_2": "diagnosis",
          "X": -0.9095535161984573,
          "Y": -0.0894896434240214,
          "corr": 0.36,
          "corr_abs": 0.36,
          "key": "texture_sd_errordiagnosis"
         },
         {
          "Feature": "texture_worst",
          "Feature_2": "diagnosis",
          "X": -0.9095535161984573,
          "Y": -0.0894896434240214,
          "corr": 0.6,
          "corr_abs": 0.6,
          "key": "texture_worstdiagnosis"
         },
         {
          "Feature": "perimeter_mean",
          "Feature_2": "diagnosis",
          "X": -0.9095535161984573,
          "Y": -0.0894896434240214,
          "corr": 0.7,
          "corr_abs": 0.7,
          "key": "perimeter_meandiagnosis"
         },
         {
          "Feature": "perimeter_sd_error",
          "Feature_2": "diagnosis",
          "X": -0.9095535161984573,
          "Y": -0.0894896434240214,
          "corr": 0.78,
          "corr_abs": 0.78,
          "key": "perimeter_sd_errordiagnosis"
         },
         {
          "Feature": "perimeter_worst",
          "Feature_2": "diagnosis",
          "X": -0.9095535161984573,
          "Y": -0.0894896434240214,
          "corr": 0.33,
          "corr_abs": 0.33,
          "key": "perimeter_worstdiagnosis"
         },
         {
          "Feature": "smoothness_mean",
          "Feature_2": "diagnosis",
          "X": -0.9095535161984573,
          "Y": -0.0894896434240214,
          "corr": 0.56,
          "corr_abs": 0.56,
          "key": "smoothness_meandiagnosis"
         },
         {
          "Feature": "smoothness_sd_error",
          "Feature_2": "diagnosis",
          "X": -0.9095535161984573,
          "Y": -0.0894896434240214,
          "corr": 0.55,
          "corr_abs": 0.55,
          "key": "smoothness_sd_errordiagnosis"
         },
         {
          "Feature": "smoothness_worst",
          "Feature_2": "diagnosis",
          "X": -0.9095535161984573,
          "Y": -0.0894896434240214,
          "corr": -0.07,
          "corr_abs": 0.07,
          "key": "smoothness_worstdiagnosis"
         },
         {
          "Feature": "symmetry_mean",
          "Feature_2": "diagnosis",
          "X": -0.9095535161984573,
          "Y": -0.0894896434240214,
          "corr": 0.42,
          "corr_abs": 0.42,
          "key": "symmetry_meandiagnosis"
         },
         {
          "Feature": "symmetry_sd_error",
          "Feature_2": "diagnosis",
          "X": -0.9095535161984573,
          "Y": -0.0894896434240214,
          "corr": 0.59,
          "corr_abs": 0.59,
          "key": "symmetry_sd_errordiagnosis"
         },
         {
          "Feature": "symmetry_worst",
          "Feature_2": "diagnosis",
          "X": -0.9095535161984573,
          "Y": -0.0894896434240214,
          "corr": 0.66,
          "corr_abs": 0.66,
          "key": "symmetry_worstdiagnosis"
         },
         {
          "Feature": "fractal_dimension_mean",
          "Feature_2": "diagnosis",
          "X": -0.9095535161984573,
          "Y": -0.0894896434240214,
          "corr": 0.79,
          "corr_abs": 0.79,
          "key": "fractal_dimension_meandiagnosis"
         },
         {
          "Feature": "fractal_dimension_sd_error",
          "Feature_2": "diagnosis",
          "X": -0.9095535161984573,
          "Y": -0.0894896434240214,
          "corr": 0.42,
          "corr_abs": 0.42,
          "key": "fractal_dimension_sd_errordiagnosis"
         },
         {
          "Feature": "fractal_dimension_worst",
          "Feature_2": "diagnosis",
          "X": -0.9095535161984573,
          "Y": -0.0894896434240214,
          "corr": 0.32,
          "corr_abs": 0.32,
          "key": "fractal_dimension_worstdiagnosis"
         },
         {
          "Feature": "radius_sd_error",
          "Feature_2": "radius_mean",
          "X": -1.3592497999392317,
          "Y": 0.4140212204878494,
          "corr": 0.32,
          "corr_abs": 0.32,
          "key": "radius_sd_errorradius_mean"
         },
         {
          "Feature": "radius_worst",
          "Feature_2": "radius_mean",
          "X": -1.3592497999392317,
          "Y": 0.4140212204878494,
          "corr": 1,
          "corr_abs": 1,
          "key": "radius_worstradius_mean"
         },
         {
          "Feature": "texture_mean",
          "Feature_2": "radius_mean",
          "X": -1.3592497999392317,
          "Y": 0.4140212204878494,
          "corr": 0.99,
          "corr_abs": 0.99,
          "key": "texture_meanradius_mean"
         },
         {
          "Feature": "texture_sd_error",
          "Feature_2": "radius_mean",
          "X": -1.3592497999392317,
          "Y": 0.4140212204878494,
          "corr": 0.17,
          "corr_abs": 0.17,
          "key": "texture_sd_errorradius_mean"
         },
         {
          "Feature": "texture_worst",
          "Feature_2": "radius_mean",
          "X": -1.3592497999392317,
          "Y": 0.4140212204878494,
          "corr": 0.51,
          "corr_abs": 0.51,
          "key": "texture_worstradius_mean"
         },
         {
          "Feature": "smoothness_mean",
          "Feature_2": "radius_mean",
          "X": -1.3592497999392317,
          "Y": 0.4140212204878494,
          "corr": 0.67,
          "corr_abs": 0.67,
          "key": "smoothness_meanradius_mean"
         },
         {
          "Feature": "smoothness_sd_error",
          "Feature_2": "radius_mean",
          "X": -1.3592497999392317,
          "Y": 0.4140212204878494,
          "corr": 0.74,
          "corr_abs": 0.74,
          "key": "smoothness_sd_errorradius_mean"
         },
         {
          "Feature": "smoothness_worst",
          "Feature_2": "radius_mean",
          "X": -1.3592497999392317,
          "Y": 0.4140212204878494,
          "corr": -0.22,
          "corr_abs": 0.22,
          "key": "smoothness_worstradius_mean"
         },
         {
          "Feature": "symmetry_mean",
          "Feature_2": "radius_mean",
          "X": -1.3592497999392317,
          "Y": 0.4140212204878494,
          "corr": 0.12,
          "corr_abs": 0.12,
          "key": "symmetry_meanradius_mean"
         },
         {
          "Feature": "symmetry_sd_error",
          "Feature_2": "radius_mean",
          "X": -1.3592497999392317,
          "Y": 0.4140212204878494,
          "corr": 0.41,
          "corr_abs": 0.41,
          "key": "symmetry_sd_errorradius_mean"
         },
         {
          "Feature": "symmetry_worst",
          "Feature_2": "radius_mean",
          "X": -1.3592497999392317,
          "Y": 0.4140212204878494,
          "corr": 0.53,
          "corr_abs": 0.53,
          "key": "symmetry_worstradius_mean"
         },
         {
          "Feature": "radius_worst",
          "Feature_2": "radius_sd_error",
          "X": 0.3661109483268539,
          "Y": 1.1085342092360235,
          "corr": 0.33,
          "corr_abs": 0.33,
          "key": "radius_worstradius_sd_error"
         },
         {
          "Feature": "texture_mean",
          "Feature_2": "radius_sd_error",
          "X": 0.3661109483268539,
          "Y": 1.1085342092360235,
          "corr": 0.32,
          "corr_abs": 0.32,
          "key": "texture_meanradius_sd_error"
         },
         {
          "Feature": "texture_sd_error",
          "Feature_2": "radius_sd_error",
          "X": 0.3661109483268539,
          "Y": 1.1085342092360235,
          "corr": -0.02,
          "corr_abs": 0.02,
          "key": "texture_sd_errorradius_sd_error"
         },
         {
          "Feature": "texture_worst",
          "Feature_2": "radius_sd_error",
          "X": 0.3661109483268539,
          "Y": 1.1085342092360235,
          "corr": 0.24,
          "corr_abs": 0.24,
          "key": "texture_worstradius_sd_error"
         },
         {
          "Feature": "smoothness_mean",
          "Feature_2": "radius_sd_error",
          "X": 0.3661109483268539,
          "Y": 1.1085342092360235,
          "corr": 0.28,
          "corr_abs": 0.28,
          "key": "smoothness_meanradius_sd_error"
         },
         {
          "Feature": "smoothness_sd_error",
          "Feature_2": "radius_sd_error",
          "X": 0.3661109483268539,
          "Y": 1.1085342092360235,
          "corr": 0.26,
          "corr_abs": 0.26,
          "key": "smoothness_sd_errorradius_sd_error"
         },
         {
          "Feature": "smoothness_worst",
          "Feature_2": "radius_sd_error",
          "X": 0.3661109483268539,
          "Y": 1.1085342092360235,
          "corr": 0.01,
          "corr_abs": 0.01,
          "key": "smoothness_worstradius_sd_error"
         },
         {
          "Feature": "symmetry_mean",
          "Feature_2": "radius_sd_error",
          "X": 0.3661109483268539,
          "Y": 1.1085342092360235,
          "corr": 0.08,
          "corr_abs": 0.08,
          "key": "symmetry_meanradius_sd_error"
         },
         {
          "Feature": "symmetry_sd_error",
          "Feature_2": "radius_sd_error",
          "X": 0.3661109483268539,
          "Y": 1.1085342092360235,
          "corr": 0.28,
          "corr_abs": 0.28,
          "key": "symmetry_sd_errorradius_sd_error"
         },
         {
          "Feature": "symmetry_worst",
          "Feature_2": "radius_sd_error",
          "X": 0.3661109483268539,
          "Y": 1.1085342092360235,
          "corr": 0.3,
          "corr_abs": 0.3,
          "key": "symmetry_worstradius_sd_error"
         },
         {
          "Feature": "texture_mean",
          "Feature_2": "radius_worst",
          "X": -1.3953436025725137,
          "Y": 0.2984042728004396,
          "corr": 0.99,
          "corr_abs": 0.99,
          "key": "texture_meanradius_worst"
         },
         {
          "Feature": "texture_sd_error",
          "Feature_2": "radius_worst",
          "X": -1.3953436025725137,
          "Y": 0.2984042728004396,
          "corr": 0.21,
          "corr_abs": 0.21,
          "key": "texture_sd_errorradius_worst"
         },
         {
          "Feature": "texture_worst",
          "Feature_2": "radius_worst",
          "X": -1.3953436025725137,
          "Y": 0.2984042728004396,
          "corr": 0.56,
          "corr_abs": 0.56,
          "key": "texture_worstradius_worst"
         },
         {
          "Feature": "smoothness_mean",
          "Feature_2": "radius_worst",
          "X": -1.3953436025725137,
          "Y": 0.2984042728004396,
          "corr": 0.69,
          "corr_abs": 0.69,
          "key": "smoothness_meanradius_worst"
         },
         {
          "Feature": "smoothness_sd_error",
          "Feature_2": "radius_worst",
          "X": -1.3953436025725137,
          "Y": 0.2984042728004396,
          "corr": 0.74,
          "corr_abs": 0.74,
          "key": "smoothness_sd_errorradius_worst"
         },
         {
          "Feature": "smoothness_worst",
          "Feature_2": "radius_worst",
          "X": -1.3953436025725137,
          "Y": 0.2984042728004396,
          "corr": -0.2,
          "corr_abs": 0.2,
          "key": "smoothness_worstradius_worst"
         },
         {
          "Feature": "symmetry_mean",
          "Feature_2": "radius_worst",
          "X": -1.3953436025725137,
          "Y": 0.2984042728004396,
          "corr": 0.15,
          "corr_abs": 0.15,
          "key": "symmetry_meanradius_worst"
         },
         {
          "Feature": "symmetry_sd_error",
          "Feature_2": "radius_worst",
          "X": -1.3953436025725137,
          "Y": 0.2984042728004396,
          "corr": 0.46,
          "corr_abs": 0.46,
          "key": "symmetry_sd_errorradius_worst"
         },
         {
          "Feature": "symmetry_worst",
          "Feature_2": "radius_worst",
          "X": -1.3953436025725137,
          "Y": 0.2984042728004396,
          "corr": 0.56,
          "corr_abs": 0.56,
          "key": "symmetry_worstradius_worst"
         },
         {
          "Feature": "texture_sd_error",
          "Feature_2": "texture_mean",
          "X": -1.4035100375867833,
          "Y": 0.4377402076995952,
          "corr": 0.18,
          "corr_abs": 0.18,
          "key": "texture_sd_errortexture_mean"
         },
         {
          "Feature": "texture_worst",
          "Feature_2": "texture_mean",
          "X": -1.4035100375867833,
          "Y": 0.4377402076995952,
          "corr": 0.5,
          "corr_abs": 0.5,
          "key": "texture_worsttexture_mean"
         },
         {
          "Feature": "texture_worst",
          "Feature_2": "texture_sd_error",
          "X": 0.8583312366444462,
          "Y": -0.4004096815007781,
          "corr": 0.66,
          "corr_abs": 0.66,
          "key": "texture_worsttexture_sd_error"
         },
         {
          "Feature": "radius_mean",
          "Feature_2": "perimeter_mean",
          "X": -0.718220715683882,
          "Y": -0.8593426871710538,
          "corr": 0.68,
          "corr_abs": 0.68,
          "key": "radius_meanperimeter_mean"
         },
         {
          "Feature": "radius_sd_error",
          "Feature_2": "perimeter_mean",
          "X": -0.718220715683882,
          "Y": -0.8593426871710538,
          "corr": 0.3,
          "corr_abs": 0.3,
          "key": "radius_sd_errorperimeter_mean"
         },
         {
          "Feature": "radius_worst",
          "Feature_2": "perimeter_mean",
          "X": -0.718220715683882,
          "Y": -0.8593426871710538,
          "corr": 0.72,
          "corr_abs": 0.72,
          "key": "radius_worstperimeter_mean"
         },
         {
          "Feature": "texture_mean",
          "Feature_2": "perimeter_mean",
          "X": -0.718220715683882,
          "Y": -0.8593426871710538,
          "corr": 0.69,
          "corr_abs": 0.69,
          "key": "texture_meanperimeter_mean"
         },
         {
          "Feature": "texture_sd_error",
          "Feature_2": "perimeter_mean",
          "X": -0.718220715683882,
          "Y": -0.8593426871710538,
          "corr": 0.52,
          "corr_abs": 0.52,
          "key": "texture_sd_errorperimeter_mean"
         },
         {
          "Feature": "texture_worst",
          "Feature_2": "perimeter_mean",
          "X": -0.718220715683882,
          "Y": -0.8593426871710538,
          "corr": 0.88,
          "corr_abs": 0.88,
          "key": "texture_worstperimeter_mean"
         },
         {
          "Feature": "perimeter_sd_error",
          "Feature_2": "perimeter_mean",
          "X": -0.718220715683882,
          "Y": -0.8593426871710538,
          "corr": 0.92,
          "corr_abs": 0.92,
          "key": "perimeter_sd_errorperimeter_mean"
         },
         {
          "Feature": "perimeter_worst",
          "Feature_2": "perimeter_mean",
          "X": -0.718220715683882,
          "Y": -0.8593426871710538,
          "corr": 0.5,
          "corr_abs": 0.5,
          "key": "perimeter_worstperimeter_mean"
         },
         {
          "Feature": "smoothness_mean",
          "Feature_2": "perimeter_mean",
          "X": -0.718220715683882,
          "Y": -0.8593426871710538,
          "corr": 0.66,
          "corr_abs": 0.66,
          "key": "smoothness_meanperimeter_mean"
         },
         {
          "Feature": "smoothness_sd_error",
          "Feature_2": "perimeter_mean",
          "X": -0.718220715683882,
          "Y": -0.8593426871710538,
          "corr": 0.62,
          "corr_abs": 0.62,
          "key": "smoothness_sd_errorperimeter_mean"
         },
         {
          "Feature": "smoothness_worst",
          "Feature_2": "perimeter_mean",
          "X": -0.718220715683882,
          "Y": -0.8593426871710538,
          "corr": 0.1,
          "corr_abs": 0.1,
          "key": "smoothness_worstperimeter_mean"
         },
         {
          "Feature": "symmetry_mean",
          "Feature_2": "perimeter_mean",
          "X": -0.718220715683882,
          "Y": -0.8593426871710538,
          "corr": 0.45,
          "corr_abs": 0.45,
          "key": "symmetry_meanperimeter_mean"
         },
         {
          "Feature": "symmetry_sd_error",
          "Feature_2": "perimeter_mean",
          "X": -0.718220715683882,
          "Y": -0.8593426871710538,
          "corr": 0.75,
          "corr_abs": 0.75,
          "key": "symmetry_sd_errorperimeter_mean"
         },
         {
          "Feature": "symmetry_worst",
          "Feature_2": "perimeter_mean",
          "X": -0.718220715683882,
          "Y": -0.8593426871710538,
          "corr": 0.88,
          "corr_abs": 0.88,
          "key": "symmetry_worstperimeter_mean"
         },
         {
          "Feature": "radius_mean",
          "Feature_2": "perimeter_sd_error",
          "X": -1.134308231657087,
          "Y": -0.5785850486163312,
          "corr": 0.82,
          "corr_abs": 0.82,
          "key": "radius_meanperimeter_sd_error"
         },
         {
          "Feature": "radius_sd_error",
          "Feature_2": "perimeter_sd_error",
          "X": -1.134308231657087,
          "Y": -0.5785850486163312,
          "corr": 0.29,
          "corr_abs": 0.29,
          "key": "radius_sd_errorperimeter_sd_error"
         },
         {
          "Feature": "radius_worst",
          "Feature_2": "perimeter_sd_error",
          "X": -1.134308231657087,
          "Y": -0.5785850486163312,
          "corr": 0.85,
          "corr_abs": 0.85,
          "key": "radius_worstperimeter_sd_error"
         },
         {
          "Feature": "texture_mean",
          "Feature_2": "perimeter_sd_error",
          "X": -1.134308231657087,
          "Y": -0.5785850486163312,
          "corr": 0.82,
          "corr_abs": 0.82,
          "key": "texture_meanperimeter_sd_error"
         },
         {
          "Feature": "texture_sd_error",
          "Feature_2": "perimeter_sd_error",
          "X": -1.134308231657087,
          "Y": -0.5785850486163312,
          "corr": 0.55,
          "corr_abs": 0.55,
          "key": "texture_sd_errorperimeter_sd_error"
         },
         {
          "Feature": "texture_worst",
          "Feature_2": "perimeter_sd_error",
          "X": -1.134308231657087,
          "Y": -0.5785850486163312,
          "corr": 0.83,
          "corr_abs": 0.83,
          "key": "texture_worstperimeter_sd_error"
         },
         {
          "Feature": "perimeter_worst",
          "Feature_2": "perimeter_sd_error",
          "X": -1.134308231657087,
          "Y": -0.5785850486163312,
          "corr": 0.46,
          "corr_abs": 0.46,
          "key": "perimeter_worstperimeter_sd_error"
         },
         {
          "Feature": "smoothness_mean",
          "Feature_2": "perimeter_sd_error",
          "X": -1.134308231657087,
          "Y": -0.5785850486163312,
          "corr": 0.71,
          "corr_abs": 0.71,
          "key": "smoothness_meanperimeter_sd_error"
         },
         {
          "Feature": "smoothness_sd_error",
          "Feature_2": "perimeter_sd_error",
          "X": -1.134308231657087,
          "Y": -0.5785850486163312,
          "corr": 0.69,
          "corr_abs": 0.69,
          "key": "smoothness_sd_errorperimeter_sd_error"
         },
         {
          "Feature": "smoothness_worst",
          "Feature_2": "perimeter_sd_error",
          "X": -1.134308231657087,
          "Y": -0.5785850486163312,
          "corr": 0.03,
          "corr_abs": 0.03,
          "key": "smoothness_worstperimeter_sd_error"
         },
         {
          "Feature": "symmetry_mean",
          "Feature_2": "perimeter_sd_error",
          "X": -1.134308231657087,
          "Y": -0.5785850486163312,
          "corr": 0.45,
          "corr_abs": 0.45,
          "key": "symmetry_meanperimeter_sd_error"
         },
         {
          "Feature": "symmetry_sd_error",
          "Feature_2": "perimeter_sd_error",
          "X": -1.134308231657087,
          "Y": -0.5785850486163312,
          "corr": 0.67,
          "corr_abs": 0.67,
          "key": "symmetry_sd_errorperimeter_sd_error"
         },
         {
          "Feature": "symmetry_worst",
          "Feature_2": "perimeter_sd_error",
          "X": -1.134308231657087,
          "Y": -0.5785850486163312,
          "corr": 0.75,
          "corr_abs": 0.75,
          "key": "symmetry_worstperimeter_sd_error"
         },
         {
          "Feature": "radius_mean",
          "Feature_2": "perimeter_worst",
          "X": 0.9746277606808748,
          "Y": -0.28202734165354953,
          "corr": 0.15,
          "corr_abs": 0.15,
          "key": "radius_meanperimeter_worst"
         },
         {
          "Feature": "radius_sd_error",
          "Feature_2": "perimeter_worst",
          "X": 0.9746277606808748,
          "Y": -0.28202734165354953,
          "corr": 0.07,
          "corr_abs": 0.07,
          "key": "radius_sd_errorperimeter_worst"
         },
         {
          "Feature": "radius_worst",
          "Feature_2": "perimeter_worst",
          "X": 0.9746277606808748,
          "Y": -0.28202734165354953,
          "corr": 0.18,
          "corr_abs": 0.18,
          "key": "radius_worstperimeter_worst"
         },
         {
          "Feature": "texture_mean",
          "Feature_2": "perimeter_worst",
          "X": 0.9746277606808748,
          "Y": -0.28202734165354953,
          "corr": 0.15,
          "corr_abs": 0.15,
          "key": "texture_meanperimeter_worst"
         },
         {
          "Feature": "texture_sd_error",
          "Feature_2": "perimeter_worst",
          "X": 0.9746277606808748,
          "Y": -0.28202734165354953,
          "corr": 0.56,
          "corr_abs": 0.56,
          "key": "texture_sd_errorperimeter_worst"
         },
         {
          "Feature": "texture_worst",
          "Feature_2": "perimeter_worst",
          "X": 0.9746277606808748,
          "Y": -0.28202734165354953,
          "corr": 0.6,
          "corr_abs": 0.6,
          "key": "texture_worstperimeter_worst"
         },
         {
          "Feature": "smoothness_mean",
          "Feature_2": "perimeter_worst",
          "X": 0.9746277606808748,
          "Y": -0.28202734165354953,
          "corr": 0.31,
          "corr_abs": 0.31,
          "key": "smoothness_meanperimeter_worst"
         },
         {
          "Feature": "smoothness_sd_error",
          "Feature_2": "perimeter_worst",
          "X": 0.9746277606808748,
          "Y": -0.28202734165354953,
          "corr": 0.22,
          "corr_abs": 0.22,
          "key": "smoothness_sd_errorperimeter_worst"
         },
         {
          "Feature": "smoothness_worst",
          "Feature_2": "perimeter_worst",
          "X": 0.9746277606808748,
          "Y": -0.28202734165354953,
          "corr": 0.19,
          "corr_abs": 0.19,
          "key": "smoothness_worstperimeter_worst"
         },
         {
          "Feature": "symmetry_mean",
          "Feature_2": "perimeter_worst",
          "X": 0.9746277606808748,
          "Y": -0.28202734165354953,
          "corr": 0.43,
          "corr_abs": 0.43,
          "key": "symmetry_meanperimeter_worst"
         },
         {
          "Feature": "symmetry_sd_error",
          "Feature_2": "perimeter_worst",
          "X": 0.9746277606808748,
          "Y": -0.28202734165354953,
          "corr": 0.47,
          "corr_abs": 0.47,
          "key": "symmetry_sd_errorperimeter_worst"
         },
         {
          "Feature": "symmetry_worst",
          "Feature_2": "perimeter_worst",
          "X": 0.9746277606808748,
          "Y": -0.28202734165354953,
          "corr": 0.43,
          "corr_abs": 0.43,
          "key": "symmetry_worstperimeter_worst"
         },
         {
          "Feature": "diagnosis",
          "Feature_2": "area_mean",
          "X": 1.356690788540196,
          "Y": -0.23651843320424767,
          "corr": -0.01,
          "corr_abs": 0.01,
          "key": "diagnosisarea_mean"
         },
         {
          "Feature": "radius_mean",
          "Feature_2": "area_mean",
          "X": 1.356690788540196,
          "Y": -0.23651843320424767,
          "corr": -0.31,
          "corr_abs": 0.31,
          "key": "radius_meanarea_mean"
         },
         {
          "Feature": "radius_sd_error",
          "Feature_2": "area_mean",
          "X": 1.356690788540196,
          "Y": -0.23651843320424767,
          "corr": -0.08,
          "corr_abs": 0.08,
          "key": "radius_sd_errorarea_mean"
         },
         {
          "Feature": "radius_worst",
          "Feature_2": "area_mean",
          "X": 1.356690788540196,
          "Y": -0.23651843320424767,
          "corr": -0.26,
          "corr_abs": 0.26,
          "key": "radius_worstarea_mean"
         },
         {
          "Feature": "texture_mean",
          "Feature_2": "area_mean",
          "X": 1.356690788540196,
          "Y": -0.23651843320424767,
          "corr": -0.28,
          "corr_abs": 0.28,
          "key": "texture_meanarea_mean"
         },
         {
          "Feature": "texture_sd_error",
          "Feature_2": "area_mean",
          "X": 1.356690788540196,
          "Y": -0.23651843320424767,
          "corr": 0.58,
          "corr_abs": 0.58,
          "key": "texture_sd_errorarea_mean"
         },
         {
          "Feature": "texture_worst",
          "Feature_2": "area_mean",
          "X": 1.356690788540196,
          "Y": -0.23651843320424767,
          "corr": 0.57,
          "corr_abs": 0.57,
          "key": "texture_worstarea_mean"
         },
         {
          "Feature": "perimeter_mean",
          "Feature_2": "area_mean",
          "X": 1.356690788540196,
          "Y": -0.23651843320424767,
          "corr": 0.34,
          "corr_abs": 0.34,
          "key": "perimeter_meanarea_mean"
         },
         {
          "Feature": "perimeter_sd_error",
          "Feature_2": "area_mean",
          "X": 1.356690788540196,
          "Y": -0.23651843320424767,
          "corr": 0.17,
          "corr_abs": 0.17,
          "key": "perimeter_sd_errorarea_mean"
         },
         {
          "Feature": "perimeter_worst",
          "Feature_2": "area_mean",
          "X": 1.356690788540196,
          "Y": -0.23651843320424767,
          "corr": 0.48,
          "corr_abs": 0.48,
          "key": "perimeter_worstarea_mean"
         },
         {
          "Feature": "area_sd_error",
          "Feature_2": "area_mean",
          "X": 1.356690788540196,
          "Y": -0.23651843320424767,
          "corr": 0,
          "corr_abs": 0,
          "key": "area_sd_errorarea_mean"
         },
         {
          "Feature": "area_worst",
          "Feature_2": "area_mean",
          "X": 1.356690788540196,
          "Y": -0.23651843320424767,
          "corr": 0.16,
          "corr_abs": 0.16,
          "key": "area_worstarea_mean"
         },
         {
          "Feature": "smoothness_mean",
          "Feature_2": "area_mean",
          "X": 1.356690788540196,
          "Y": -0.23651843320424767,
          "corr": 0.04,
          "corr_abs": 0.04,
          "key": "smoothness_meanarea_mean"
         },
         {
          "Feature": "smoothness_sd_error",
          "Feature_2": "area_mean",
          "X": 1.356690788540196,
          "Y": -0.23651843320424767,
          "corr": -0.09,
          "corr_abs": 0.09,
          "key": "smoothness_sd_errorarea_mean"
         },
         {
          "Feature": "smoothness_worst",
          "Feature_2": "area_mean",
          "X": 1.356690788540196,
          "Y": -0.23651843320424767,
          "corr": 0.4,
          "corr_abs": 0.4,
          "key": "smoothness_worstarea_mean"
         },
         {
          "Feature": "compactness_mean",
          "Feature_2": "area_mean",
          "X": 1.356690788540196,
          "Y": -0.23651843320424767,
          "corr": 0.56,
          "corr_abs": 0.56,
          "key": "compactness_meanarea_mean"
         },
         {
          "Feature": "compactness_sd_error",
          "Feature_2": "area_mean",
          "X": 1.356690788540196,
          "Y": -0.23651843320424767,
          "corr": 0.45,
          "corr_abs": 0.45,
          "key": "compactness_sd_errorarea_mean"
         },
         {
          "Feature": "compactness_worst",
          "Feature_2": "area_mean",
          "X": 1.356690788540196,
          "Y": -0.23651843320424767,
          "corr": 0.34,
          "corr_abs": 0.34,
          "key": "compactness_worstarea_mean"
         },
         {
          "Feature": "concavity_mean",
          "Feature_2": "area_mean",
          "X": 1.356690788540196,
          "Y": -0.23651843320424767,
          "corr": 0.35,
          "corr_abs": 0.35,
          "key": "concavity_meanarea_mean"
         },
         {
          "Feature": "concavity_sd_error",
          "Feature_2": "area_mean",
          "X": 1.356690788540196,
          "Y": -0.23651843320424767,
          "corr": 0.69,
          "corr_abs": 0.69,
          "key": "concavity_sd_errorarea_mean"
         },
         {
          "Feature": "concavity_worst",
          "Feature_2": "area_mean",
          "X": 1.356690788540196,
          "Y": -0.23651843320424767,
          "corr": -0.25,
          "corr_abs": 0.25,
          "key": "concavity_worstarea_mean"
         },
         {
          "Feature": "concave_points_mean",
          "Feature_2": "area_mean",
          "X": 1.356690788540196,
          "Y": -0.23651843320424767,
          "corr": -0.05,
          "corr_abs": 0.05,
          "key": "concave_points_meanarea_mean"
         },
         {
          "Feature": "concave_points_sd_error",
          "Feature_2": "area_mean",
          "X": 1.356690788540196,
          "Y": -0.23651843320424767,
          "corr": -0.21,
          "corr_abs": 0.21,
          "key": "concave_points_sd_errorarea_mean"
         },
         {
          "Feature": "concave_points_worst",
          "Feature_2": "area_mean",
          "X": 1.356690788540196,
          "Y": -0.23651843320424767,
          "corr": -0.23,
          "corr_abs": 0.23,
          "key": "concave_points_worstarea_mean"
         },
         {
          "Feature": "symmetry_mean",
          "Feature_2": "area_mean",
          "X": 1.356690788540196,
          "Y": -0.23651843320424767,
          "corr": 0.5,
          "corr_abs": 0.5,
          "key": "symmetry_meanarea_mean"
         },
         {
          "Feature": "symmetry_sd_error",
          "Feature_2": "area_mean",
          "X": 1.356690788540196,
          "Y": -0.23651843320424767,
          "corr": 0.46,
          "corr_abs": 0.46,
          "key": "symmetry_sd_errorarea_mean"
         },
         {
          "Feature": "symmetry_worst",
          "Feature_2": "area_mean",
          "X": 1.356690788540196,
          "Y": -0.23651843320424767,
          "corr": 0.35,
          "corr_abs": 0.35,
          "key": "symmetry_worstarea_mean"
         },
         {
          "Feature": "fractal_dimension_mean",
          "Feature_2": "area_mean",
          "X": 1.356690788540196,
          "Y": -0.23651843320424767,
          "corr": 0.18,
          "corr_abs": 0.18,
          "key": "fractal_dimension_meanarea_mean"
         },
         {
          "Feature": "fractal_dimension_sd_error",
          "Feature_2": "area_mean",
          "X": 1.356690788540196,
          "Y": -0.23651843320424767,
          "corr": 0.33,
          "corr_abs": 0.33,
          "key": "fractal_dimension_sd_errorarea_mean"
         },
         {
          "Feature": "fractal_dimension_worst",
          "Feature_2": "area_mean",
          "X": 1.356690788540196,
          "Y": -0.23651843320424767,
          "corr": 0.77,
          "corr_abs": 0.77,
          "key": "fractal_dimension_worstarea_mean"
         },
         {
          "Feature": "diagnosis",
          "Feature_2": "area_sd_error",
          "X": -0.8964952742805722,
          "Y": 0.4806660726525604,
          "corr": 0.57,
          "corr_abs": 0.57,
          "key": "diagnosisarea_sd_error"
         },
         {
          "Feature": "radius_mean",
          "Feature_2": "area_sd_error",
          "X": -0.8964952742805722,
          "Y": 0.4806660726525604,
          "corr": 0.68,
          "corr_abs": 0.68,
          "key": "radius_meanarea_sd_error"
         },
         {
          "Feature": "radius_sd_error",
          "Feature_2": "area_sd_error",
          "X": -0.8964952742805722,
          "Y": 0.4806660726525604,
          "corr": 0.28,
          "corr_abs": 0.28,
          "key": "radius_sd_errorarea_sd_error"
         },
         {
          "Feature": "radius_worst",
          "Feature_2": "area_sd_error",
          "X": -0.8964952742805722,
          "Y": 0.4806660726525604,
          "corr": 0.69,
          "corr_abs": 0.69,
          "key": "radius_worstarea_sd_error"
         },
         {
          "Feature": "texture_mean",
          "Feature_2": "area_sd_error",
          "X": -0.8964952742805722,
          "Y": 0.4806660726525604,
          "corr": 0.73,
          "corr_abs": 0.73,
          "key": "texture_meanarea_sd_error"
         },
         {
          "Feature": "texture_sd_error",
          "Feature_2": "area_sd_error",
          "X": -0.8964952742805722,
          "Y": 0.4806660726525604,
          "corr": 0.3,
          "corr_abs": 0.3,
          "key": "texture_sd_errorarea_sd_error"
         },
         {
          "Feature": "texture_worst",
          "Feature_2": "area_sd_error",
          "X": -0.8964952742805722,
          "Y": 0.4806660726525604,
          "corr": 0.5,
          "corr_abs": 0.5,
          "key": "texture_worstarea_sd_error"
         },
         {
          "Feature": "perimeter_mean",
          "Feature_2": "area_sd_error",
          "X": -0.8964952742805722,
          "Y": 0.4806660726525604,
          "corr": 0.63,
          "corr_abs": 0.63,
          "key": "perimeter_meanarea_sd_error"
         },
         {
          "Feature": "perimeter_sd_error",
          "Feature_2": "area_sd_error",
          "X": -0.8964952742805722,
          "Y": 0.4806660726525604,
          "corr": 0.7,
          "corr_abs": 0.7,
          "key": "perimeter_sd_errorarea_sd_error"
         },
         {
          "Feature": "perimeter_worst",
          "Feature_2": "area_sd_error",
          "X": -0.8964952742805722,
          "Y": 0.4806660726525604,
          "corr": 0.3,
          "corr_abs": 0.3,
          "key": "perimeter_worstarea_sd_error"
         },
         {
          "Feature": "area_worst",
          "Feature_2": "area_sd_error",
          "X": -0.8964952742805722,
          "Y": 0.4806660726525604,
          "corr": 0.21,
          "corr_abs": 0.21,
          "key": "area_worstarea_sd_error"
         },
         {
          "Feature": "smoothness_mean",
          "Feature_2": "area_sd_error",
          "X": -0.8964952742805722,
          "Y": 0.4806660726525604,
          "corr": 0.97,
          "corr_abs": 0.97,
          "key": "smoothness_meanarea_sd_error"
         },
         {
          "Feature": "smoothness_sd_error",
          "Feature_2": "area_sd_error",
          "X": -0.8964952742805722,
          "Y": 0.4806660726525604,
          "corr": 0.95,
          "corr_abs": 0.95,
          "key": "smoothness_sd_errorarea_sd_error"
         },
         {
          "Feature": "smoothness_worst",
          "Feature_2": "area_sd_error",
          "X": -0.8964952742805722,
          "Y": 0.4806660726525604,
          "corr": 0.16,
          "corr_abs": 0.16,
          "key": "smoothness_worstarea_sd_error"
         },
         {
          "Feature": "compactness_mean",
          "Feature_2": "area_sd_error",
          "X": -0.8964952742805722,
          "Y": 0.4806660726525604,
          "corr": 0.36,
          "corr_abs": 0.36,
          "key": "compactness_meanarea_sd_error"
         },
         {
          "Feature": "compactness_sd_error",
          "Feature_2": "area_sd_error",
          "X": -0.8964952742805722,
          "Y": 0.4806660726525604,
          "corr": 0.33,
          "corr_abs": 0.33,
          "key": "compactness_sd_errorarea_sd_error"
         },
         {
          "Feature": "compactness_worst",
          "Feature_2": "area_sd_error",
          "X": -0.8964952742805722,
          "Y": 0.4806660726525604,
          "corr": 0.51,
          "corr_abs": 0.51,
          "key": "compactness_worstarea_sd_error"
         },
         {
          "Feature": "concavity_mean",
          "Feature_2": "area_sd_error",
          "X": -0.8964952742805722,
          "Y": 0.4806660726525604,
          "corr": 0.24,
          "corr_abs": 0.24,
          "key": "concavity_meanarea_sd_error"
         },
         {
          "Feature": "concavity_sd_error",
          "Feature_2": "area_sd_error",
          "X": -0.8964952742805722,
          "Y": 0.4806660726525604,
          "corr": 0.23,
          "corr_abs": 0.23,
          "key": "concavity_sd_errorarea_sd_error"
         },
         {
          "Feature": "concavity_worst",
          "Feature_2": "area_sd_error",
          "X": -0.8964952742805722,
          "Y": 0.4806660726525604,
          "corr": 0.72,
          "corr_abs": 0.72,
          "key": "concavity_worstarea_sd_error"
         },
         {
          "Feature": "concave_points_mean",
          "Feature_2": "area_sd_error",
          "X": -0.8964952742805722,
          "Y": 0.4806660726525604,
          "corr": 0.19,
          "corr_abs": 0.19,
          "key": "concave_points_meanarea_sd_error"
         },
         {
          "Feature": "concave_points_sd_error",
          "Feature_2": "area_sd_error",
          "X": -0.8964952742805722,
          "Y": 0.4806660726525604,
          "corr": 0.72,
          "corr_abs": 0.72,
          "key": "concave_points_sd_errorarea_sd_error"
         },
         {
          "Feature": "concave_points_worst",
          "Feature_2": "area_sd_error",
          "X": -0.8964952742805722,
          "Y": 0.4806660726525604,
          "corr": 0.75,
          "corr_abs": 0.75,
          "key": "concave_points_worstarea_sd_error"
         },
         {
          "Feature": "symmetry_mean",
          "Feature_2": "area_sd_error",
          "X": -0.8964952742805722,
          "Y": 0.4806660726525604,
          "corr": 0.14,
          "corr_abs": 0.14,
          "key": "symmetry_meanarea_sd_error"
         },
         {
          "Feature": "symmetry_sd_error",
          "Feature_2": "area_sd_error",
          "X": -0.8964952742805722,
          "Y": 0.4806660726525604,
          "corr": 0.29,
          "corr_abs": 0.29,
          "key": "symmetry_sd_errorarea_sd_error"
         },
         {
          "Feature": "symmetry_worst",
          "Feature_2": "area_sd_error",
          "X": -0.8964952742805722,
          "Y": 0.4806660726525604,
          "corr": 0.38,
          "corr_abs": 0.38,
          "key": "symmetry_worstarea_sd_error"
         },
         {
          "Feature": "fractal_dimension_mean",
          "Feature_2": "area_sd_error",
          "X": -0.8964952742805722,
          "Y": 0.4806660726525604,
          "corr": 0.53,
          "corr_abs": 0.53,
          "key": "fractal_dimension_meanarea_sd_error"
         },
         {
          "Feature": "fractal_dimension_sd_error",
          "Feature_2": "area_sd_error",
          "X": -0.8964952742805722,
          "Y": 0.4806660726525604,
          "corr": 0.09,
          "corr_abs": 0.09,
          "key": "fractal_dimension_sd_errorarea_sd_error"
         },
         {
          "Feature": "fractal_dimension_worst",
          "Feature_2": "area_sd_error",
          "X": -0.8964952742805722,
          "Y": 0.4806660726525604,
          "corr": 0.05,
          "corr_abs": 0.05,
          "key": "fractal_dimension_worstarea_sd_error"
         },
         {
          "Feature": "diagnosis",
          "Feature_2": "area_worst",
          "X": 1.3846070448538799,
          "Y": 1.404672398683716,
          "corr": -0.01,
          "corr_abs": 0.01,
          "key": "diagnosisarea_worst"
         },
         {
          "Feature": "radius_mean",
          "Feature_2": "area_worst",
          "X": 1.3846070448538799,
          "Y": 1.404672398683716,
          "corr": -0.1,
          "corr_abs": 0.1,
          "key": "radius_meanarea_worst"
         },
         {
          "Feature": "radius_sd_error",
          "Feature_2": "area_worst",
          "X": 1.3846070448538799,
          "Y": 1.404672398683716,
          "corr": 0.39,
          "corr_abs": 0.39,
          "key": "radius_sd_errorarea_worst"
         },
         {
          "Feature": "radius_worst",
          "Feature_2": "area_worst",
          "X": 1.3846070448538799,
          "Y": 1.404672398683716,
          "corr": -0.09,
          "corr_abs": 0.09,
          "key": "radius_worstarea_worst"
         },
         {
          "Feature": "texture_mean",
          "Feature_2": "area_worst",
          "X": 1.3846070448538799,
          "Y": 1.404672398683716,
          "corr": -0.07,
          "corr_abs": 0.07,
          "key": "texture_meanarea_worst"
         },
         {
          "Feature": "texture_sd_error",
          "Feature_2": "area_worst",
          "X": 1.3846070448538799,
          "Y": 1.404672398683716,
          "corr": 0.07,
          "corr_abs": 0.07,
          "key": "texture_sd_errorarea_worst"
         },
         {
          "Feature": "texture_worst",
          "Feature_2": "area_worst",
          "X": 1.3846070448538799,
          "Y": 1.404672398683716,
          "corr": 0.05,
          "corr_abs": 0.05,
          "key": "texture_worstarea_worst"
         },
         {
          "Feature": "perimeter_mean",
          "Feature_2": "area_worst",
          "X": 1.3846070448538799,
          "Y": 1.404672398683716,
          "corr": 0.08,
          "corr_abs": 0.08,
          "key": "perimeter_meanarea_worst"
         },
         {
          "Feature": "perimeter_sd_error",
          "Feature_2": "area_worst",
          "X": 1.3846070448538799,
          "Y": 1.404672398683716,
          "corr": 0.02,
          "corr_abs": 0.02,
          "key": "perimeter_sd_errorarea_worst"
         },
         {
          "Feature": "perimeter_worst",
          "Feature_2": "area_worst",
          "X": 1.3846070448538799,
          "Y": 1.404672398683716,
          "corr": 0.13,
          "corr_abs": 0.13,
          "key": "perimeter_worstarea_worst"
         },
         {
          "Feature": "smoothness_mean",
          "Feature_2": "area_worst",
          "X": 1.3846070448538799,
          "Y": 1.404672398683716,
          "corr": 0.22,
          "corr_abs": 0.22,
          "key": "smoothness_meanarea_worst"
         },
         {
          "Feature": "smoothness_sd_error",
          "Feature_2": "area_worst",
          "X": 1.3846070448538799,
          "Y": 1.404672398683716,
          "corr": 0.11,
          "corr_abs": 0.11,
          "key": "smoothness_sd_errorarea_worst"
         },
         {
          "Feature": "smoothness_worst",
          "Feature_2": "area_worst",
          "X": 1.3846070448538799,
          "Y": 1.404672398683716,
          "corr": 0.4,
          "corr_abs": 0.4,
          "key": "smoothness_worstarea_worst"
         },
         {
          "Feature": "compactness_mean",
          "Feature_2": "area_worst",
          "X": 1.3846070448538799,
          "Y": 1.404672398683716,
          "corr": 0.23,
          "corr_abs": 0.23,
          "key": "compactness_meanarea_worst"
         },
         {
          "Feature": "compactness_sd_error",
          "Feature_2": "area_worst",
          "X": 1.3846070448538799,
          "Y": 1.404672398683716,
          "corr": 0.19,
          "corr_abs": 0.19,
          "key": "compactness_sd_errorarea_worst"
         },
         {
          "Feature": "compactness_worst",
          "Feature_2": "area_worst",
          "X": 1.3846070448538799,
          "Y": 1.404672398683716,
          "corr": 0.23,
          "corr_abs": 0.23,
          "key": "compactness_worstarea_worst"
         },
         {
          "Feature": "concavity_mean",
          "Feature_2": "area_worst",
          "X": 1.3846070448538799,
          "Y": 1.404672398683716,
          "corr": 0.41,
          "corr_abs": 0.41,
          "key": "concavity_meanarea_worst"
         },
         {
          "Feature": "concavity_sd_error",
          "Feature_2": "area_worst",
          "X": 1.3846070448538799,
          "Y": 1.404672398683716,
          "corr": 0.28,
          "corr_abs": 0.28,
          "key": "concavity_sd_errorarea_worst"
         },
         {
          "Feature": "concavity_worst",
          "Feature_2": "area_worst",
          "X": 1.3846070448538799,
          "Y": 1.404672398683716,
          "corr": -0.11,
          "corr_abs": 0.11,
          "key": "concavity_worstarea_worst"
         },
         {
          "Feature": "concave_points_mean",
          "Feature_2": "area_worst",
          "X": 1.3846070448538799,
          "Y": 1.404672398683716,
          "corr": 0.41,
          "corr_abs": 0.41,
          "key": "concave_points_meanarea_worst"
         },
         {
          "Feature": "concave_points_sd_error",
          "Feature_2": "area_worst",
          "X": 1.3846070448538799,
          "Y": 1.404672398683716,
          "corr": -0.1,
          "corr_abs": 0.1,
          "key": "concave_points_sd_errorarea_worst"
         },
         {
          "Feature": "concave_points_worst",
          "Feature_2": "area_worst",
          "X": 1.3846070448538799,
          "Y": 1.404672398683716,
          "corr": -0.08,
          "corr_abs": 0.08,
          "key": "concave_points_worstarea_worst"
         },
         {
          "Feature": "symmetry_mean",
          "Feature_2": "area_worst",
          "X": 1.3846070448538799,
          "Y": 1.404672398683716,
          "corr": -0.07,
          "corr_abs": 0.07,
          "key": "symmetry_meanarea_worst"
         },
         {
          "Feature": "symmetry_sd_error",
          "Feature_2": "area_worst",
          "X": 1.3846070448538799,
          "Y": 1.404672398683716,
          "corr": -0.09,
          "corr_abs": 0.09,
          "key": "symmetry_sd_errorarea_worst"
         },
         {
          "Feature": "symmetry_worst",
          "Feature_2": "area_worst",
          "X": 1.3846070448538799,
          "Y": 1.404672398683716,
          "corr": -0.07,
          "corr_abs": 0.07,
          "key": "symmetry_worstarea_worst"
         },
         {
          "Feature": "fractal_dimension_mean",
          "Feature_2": "area_worst",
          "X": 1.3846070448538799,
          "Y": 1.404672398683716,
          "corr": -0.12,
          "corr_abs": 0.12,
          "key": "fractal_dimension_meanarea_worst"
         },
         {
          "Feature": "fractal_dimension_sd_error",
          "Feature_2": "area_worst",
          "X": 1.3846070448538799,
          "Y": 1.404672398683716,
          "corr": -0.13,
          "corr_abs": 0.13,
          "key": "fractal_dimension_sd_errorarea_worst"
         },
         {
          "Feature": "fractal_dimension_worst",
          "Feature_2": "area_worst",
          "X": 1.3846070448538799,
          "Y": 1.404672398683716,
          "corr": -0.05,
          "corr_abs": 0.05,
          "key": "fractal_dimension_worstarea_worst"
         },
         {
          "Feature": "texture_mean",
          "Feature_2": "smoothness_mean",
          "X": -0.8758029524784953,
          "Y": 0.3734621694926181,
          "corr": 0.73,
          "corr_abs": 0.73,
          "key": "texture_meansmoothness_mean"
         },
         {
          "Feature": "texture_sd_error",
          "Feature_2": "smoothness_mean",
          "X": -0.8758029524784953,
          "Y": 0.3734621694926181,
          "corr": 0.3,
          "corr_abs": 0.3,
          "key": "texture_sd_errorsmoothness_mean"
         },
         {
          "Feature": "texture_worst",
          "Feature_2": "smoothness_mean",
          "X": -0.8758029524784953,
          "Y": 0.3734621694926181,
          "corr": 0.55,
          "corr_abs": 0.55,
          "key": "texture_worstsmoothness_mean"
         },
         {
          "Feature": "smoothness_sd_error",
          "Feature_2": "smoothness_mean",
          "X": -0.8758029524784953,
          "Y": 0.3734621694926181,
          "corr": 0.94,
          "corr_abs": 0.94,
          "key": "smoothness_sd_errorsmoothness_mean"
         },
         {
          "Feature": "smoothness_worst",
          "Feature_2": "smoothness_mean",
          "X": -0.8758029524784953,
          "Y": 0.3734621694926181,
          "corr": 0.15,
          "corr_abs": 0.15,
          "key": "smoothness_worstsmoothness_mean"
         },
         {
          "Feature": "symmetry_mean",
          "Feature_2": "smoothness_mean",
          "X": -0.8758029524784953,
          "Y": 0.3734621694926181,
          "corr": 0.13,
          "corr_abs": 0.13,
          "key": "symmetry_meansmoothness_mean"
         },
         {
          "Feature": "symmetry_sd_error",
          "Feature_2": "smoothness_mean",
          "X": -0.8758029524784953,
          "Y": 0.3734621694926181,
          "corr": 0.34,
          "corr_abs": 0.34,
          "key": "symmetry_sd_errorsmoothness_mean"
         },
         {
          "Feature": "symmetry_worst",
          "Feature_2": "smoothness_mean",
          "X": -0.8758029524784953,
          "Y": 0.3734621694926181,
          "corr": 0.42,
          "corr_abs": 0.42,
          "key": "symmetry_worstsmoothness_mean"
         },
         {
          "Feature": "texture_mean",
          "Feature_2": "smoothness_sd_error",
          "X": -1.0287701195014638,
          "Y": 0.5576434817945839,
          "corr": 0.8,
          "corr_abs": 0.8,
          "key": "texture_meansmoothness_sd_error"
         },
         {
          "Feature": "texture_sd_error",
          "Feature_2": "smoothness_sd_error",
          "X": -1.0287701195014638,
          "Y": 0.5576434817945839,
          "corr": 0.25,
          "corr_abs": 0.25,
          "key": "texture_sd_errorsmoothness_sd_error"
         },
         {
          "Feature": "texture_worst",
          "Feature_2": "smoothness_sd_error",
          "X": -1.0287701195014638,
          "Y": 0.5576434817945839,
          "corr": 0.46,
          "corr_abs": 0.46,
          "key": "texture_worstsmoothness_sd_error"
         },
         {
          "Feature": "smoothness_worst",
          "Feature_2": "smoothness_sd_error",
          "X": -1.0287701195014638,
          "Y": 0.5576434817945839,
          "corr": 0.08,
          "corr_abs": 0.08,
          "key": "smoothness_worstsmoothness_sd_error"
         },
         {
          "Feature": "symmetry_mean",
          "Feature_2": "smoothness_sd_error",
          "X": -1.0287701195014638,
          "Y": 0.5576434817945839,
          "corr": 0.13,
          "corr_abs": 0.13,
          "key": "symmetry_meansmoothness_sd_error"
         },
         {
          "Feature": "symmetry_sd_error",
          "Feature_2": "smoothness_sd_error",
          "X": -1.0287701195014638,
          "Y": 0.5576434817945839,
          "corr": 0.28,
          "corr_abs": 0.28,
          "key": "symmetry_sd_errorsmoothness_sd_error"
         },
         {
          "Feature": "symmetry_worst",
          "Feature_2": "smoothness_sd_error",
          "X": -1.0287701195014638,
          "Y": 0.5576434817945839,
          "corr": 0.39,
          "corr_abs": 0.39,
          "key": "symmetry_worstsmoothness_sd_error"
         },
         {
          "Feature": "texture_mean",
          "Feature_2": "smoothness_worst",
          "X": 1.3420706314594673,
          "Y": 0.9724119900806828,
          "corr": -0.17,
          "corr_abs": 0.17,
          "key": "texture_meansmoothness_worst"
         },
         {
          "Feature": "texture_sd_error",
          "Feature_2": "smoothness_worst",
          "X": 1.3420706314594673,
          "Y": 0.9724119900806828,
          "corr": 0.33,
          "corr_abs": 0.33,
          "key": "texture_sd_errorsmoothness_worst"
         },
         {
          "Feature": "texture_worst",
          "Feature_2": "smoothness_worst",
          "X": 1.3420706314594673,
          "Y": 0.9724119900806828,
          "corr": 0.14,
          "corr_abs": 0.14,
          "key": "texture_worstsmoothness_worst"
         },
         {
          "Feature": "symmetry_mean",
          "Feature_2": "smoothness_worst",
          "X": 1.3420706314594673,
          "Y": 0.9724119900806828,
          "corr": 0.31,
          "corr_abs": 0.31,
          "key": "symmetry_meansmoothness_worst"
         },
         {
          "Feature": "symmetry_sd_error",
          "Feature_2": "smoothness_worst",
          "X": 1.3420706314594673,
          "Y": 0.9724119900806828,
          "corr": -0.06,
          "corr_abs": 0.06,
          "key": "symmetry_sd_errorsmoothness_worst"
         },
         {
          "Feature": "symmetry_worst",
          "Feature_2": "smoothness_worst",
          "X": 1.3420706314594673,
          "Y": 0.9724119900806828,
          "corr": -0.06,
          "corr_abs": 0.06,
          "key": "symmetry_worstsmoothness_worst"
         },
         {
          "Feature": "diagnosis",
          "Feature_2": "compactness_mean",
          "X": 0.8555238709691172,
          "Y": -0.5862127017754521,
          "corr": 0.29,
          "corr_abs": 0.29,
          "key": "diagnosiscompactness_mean"
         },
         {
          "Feature": "radius_mean",
          "Feature_2": "compactness_mean",
          "X": 0.8555238709691172,
          "Y": -0.5862127017754521,
          "corr": 0.21,
          "corr_abs": 0.21,
          "key": "radius_meancompactness_mean"
         },
         {
          "Feature": "radius_sd_error",
          "Feature_2": "compactness_mean",
          "X": 0.8555238709691172,
          "Y": -0.5862127017754521,
          "corr": 0.19,
          "corr_abs": 0.19,
          "key": "radius_sd_errorcompactness_mean"
         },
         {
          "Feature": "radius_worst",
          "Feature_2": "compactness_mean",
          "X": 0.8555238709691172,
          "Y": -0.5862127017754521,
          "corr": 0.25,
          "corr_abs": 0.25,
          "key": "radius_worstcompactness_mean"
         },
         {
          "Feature": "texture_mean",
          "Feature_2": "compactness_mean",
          "X": 0.8555238709691172,
          "Y": -0.5862127017754521,
          "corr": 0.21,
          "corr_abs": 0.21,
          "key": "texture_meancompactness_mean"
         },
         {
          "Feature": "texture_sd_error",
          "Feature_2": "compactness_mean",
          "X": 0.8555238709691172,
          "Y": -0.5862127017754521,
          "corr": 0.32,
          "corr_abs": 0.32,
          "key": "texture_sd_errorcompactness_mean"
         },
         {
          "Feature": "texture_worst",
          "Feature_2": "compactness_mean",
          "X": 0.8555238709691172,
          "Y": -0.5862127017754521,
          "corr": 0.74,
          "corr_abs": 0.74,
          "key": "texture_worstcompactness_mean"
         },
         {
          "Feature": "perimeter_mean",
          "Feature_2": "compactness_mean",
          "X": 0.8555238709691172,
          "Y": -0.5862127017754521,
          "corr": 0.67,
          "corr_abs": 0.67,
          "key": "perimeter_meancompactness_mean"
         },
         {
          "Feature": "perimeter_sd_error",
          "Feature_2": "compactness_mean",
          "X": 0.8555238709691172,
          "Y": -0.5862127017754521,
          "corr": 0.49,
          "corr_abs": 0.49,
          "key": "perimeter_sd_errorcompactness_mean"
         },
         {
          "Feature": "perimeter_worst",
          "Feature_2": "compactness_mean",
          "X": 0.8555238709691172,
          "Y": -0.5862127017754521,
          "corr": 0.42,
          "corr_abs": 0.42,
          "key": "perimeter_worstcompactness_mean"
         },
         {
          "Feature": "smoothness_mean",
          "Feature_2": "compactness_mean",
          "X": 0.8555238709691172,
          "Y": -0.5862127017754521,
          "corr": 0.42,
          "corr_abs": 0.42,
          "key": "smoothness_meancompactness_mean"
         },
         {
          "Feature": "smoothness_sd_error",
          "Feature_2": "compactness_mean",
          "X": 0.8555238709691172,
          "Y": -0.5862127017754521,
          "corr": 0.28,
          "corr_abs": 0.28,
          "key": "smoothness_sd_errorcompactness_mean"
         },
         {
          "Feature": "smoothness_worst",
          "Feature_2": "compactness_mean",
          "X": 0.8555238709691172,
          "Y": -0.5862127017754521,
          "corr": 0.34,
          "corr_abs": 0.34,
          "key": "smoothness_worstcompactness_mean"
         },
         {
          "Feature": "compactness_sd_error",
          "Feature_2": "compactness_mean",
          "X": 0.8555238709691172,
          "Y": -0.5862127017754521,
          "corr": 0.8,
          "corr_abs": 0.8,
          "key": "compactness_sd_errorcompactness_mean"
         },
         {
          "Feature": "compactness_worst",
          "Feature_2": "compactness_mean",
          "X": 0.8555238709691172,
          "Y": -0.5862127017754521,
          "corr": 0.74,
          "corr_abs": 0.74,
          "key": "compactness_worstcompactness_mean"
         },
         {
          "Feature": "concavity_mean",
          "Feature_2": "compactness_mean",
          "X": 0.8555238709691172,
          "Y": -0.5862127017754521,
          "corr": 0.39,
          "corr_abs": 0.39,
          "key": "concavity_meancompactness_mean"
         },
         {
          "Feature": "concavity_sd_error",
          "Feature_2": "compactness_mean",
          "X": 0.8555238709691172,
          "Y": -0.5862127017754521,
          "corr": 0.8,
          "corr_abs": 0.8,
          "key": "concavity_sd_errorcompactness_mean"
         },
         {
          "Feature": "concavity_worst",
          "Feature_2": "compactness_mean",
          "X": 0.8555238709691172,
          "Y": -0.5862127017754521,
          "corr": 0.2,
          "corr_abs": 0.2,
          "key": "concavity_worstcompactness_mean"
         },
         {
          "Feature": "concave_points_mean",
          "Feature_2": "compactness_mean",
          "X": 0.8555238709691172,
          "Y": -0.5862127017754521,
          "corr": 0.14,
          "corr_abs": 0.14,
          "key": "concave_points_meancompactness_mean"
         },
         {
          "Feature": "concave_points_sd_error",
          "Feature_2": "compactness_mean",
          "X": 0.8555238709691172,
          "Y": -0.5862127017754521,
          "corr": 0.26,
          "corr_abs": 0.26,
          "key": "concave_points_sd_errorcompactness_mean"
         },
         {
          "Feature": "concave_points_worst",
          "Feature_2": "compactness_mean",
          "X": 0.8555238709691172,
          "Y": -0.5862127017754521,
          "corr": 0.2,
          "corr_abs": 0.2,
          "key": "concave_points_worstcompactness_mean"
         },
         {
          "Feature": "symmetry_mean",
          "Feature_2": "compactness_mean",
          "X": 0.8555238709691172,
          "Y": -0.5862127017754521,
          "corr": 0.23,
          "corr_abs": 0.23,
          "key": "symmetry_meancompactness_mean"
         },
         {
          "Feature": "symmetry_sd_error",
          "Feature_2": "compactness_mean",
          "X": 0.8555238709691172,
          "Y": -0.5862127017754521,
          "corr": 0.68,
          "corr_abs": 0.68,
          "key": "symmetry_sd_errorcompactness_mean"
         },
         {
          "Feature": "symmetry_worst",
          "Feature_2": "compactness_mean",
          "X": 0.8555238709691172,
          "Y": -0.5862127017754521,
          "corr": 0.64,
          "corr_abs": 0.64,
          "key": "symmetry_worstcompactness_mean"
         },
         {
          "Feature": "fractal_dimension_mean",
          "Feature_2": "compactness_mean",
          "X": 0.8555238709691172,
          "Y": -0.5862127017754521,
          "corr": 0.48,
          "corr_abs": 0.48,
          "key": "fractal_dimension_meancompactness_mean"
         },
         {
          "Feature": "fractal_dimension_sd_error",
          "Feature_2": "compactness_mean",
          "X": 0.8555238709691172,
          "Y": -0.5862127017754521,
          "corr": 0.28,
          "corr_abs": 0.28,
          "key": "fractal_dimension_sd_errorcompactness_mean"
         },
         {
          "Feature": "fractal_dimension_worst",
          "Feature_2": "compactness_mean",
          "X": 0.8555238709691172,
          "Y": -0.5862127017754521,
          "corr": 0.59,
          "corr_abs": 0.59,
          "key": "fractal_dimension_worstcompactness_mean"
         },
         {
          "Feature": "diagnosis",
          "Feature_2": "compactness_sd_error",
          "X": 0.8712102630263099,
          "Y": -0.3494037604907286,
          "corr": 0.25,
          "corr_abs": 0.25,
          "key": "diagnosiscompactness_sd_error"
         },
         {
          "Feature": "radius_mean",
          "Feature_2": "compactness_sd_error",
          "X": 0.8712102630263099,
          "Y": -0.3494037604907286,
          "corr": 0.19,
          "corr_abs": 0.19,
          "key": "radius_meancompactness_sd_error"
         },
         {
          "Feature": "radius_sd_error",
          "Feature_2": "compactness_sd_error",
          "X": 0.8712102630263099,
          "Y": -0.3494037604907286,
          "corr": 0.14,
          "corr_abs": 0.14,
          "key": "radius_sd_errorcompactness_sd_error"
         },
         {
          "Feature": "radius_worst",
          "Feature_2": "compactness_sd_error",
          "X": 0.8712102630263099,
          "Y": -0.3494037604907286,
          "corr": 0.23,
          "corr_abs": 0.23,
          "key": "radius_worstcompactness_sd_error"
         },
         {
          "Feature": "texture_mean",
          "Feature_2": "compactness_sd_error",
          "X": 0.8712102630263099,
          "Y": -0.3494037604907286,
          "corr": 0.21,
          "corr_abs": 0.21,
          "key": "texture_meancompactness_sd_error"
         },
         {
          "Feature": "texture_sd_error",
          "Feature_2": "compactness_sd_error",
          "X": 0.8712102630263099,
          "Y": -0.3494037604907286,
          "corr": 0.25,
          "corr_abs": 0.25,
          "key": "texture_sd_errorcompactness_sd_error"
         },
         {
          "Feature": "texture_worst",
          "Feature_2": "compactness_sd_error",
          "X": 0.8712102630263099,
          "Y": -0.3494037604907286,
          "corr": 0.57,
          "corr_abs": 0.57,
          "key": "texture_worstcompactness_sd_error"
         },
         {
          "Feature": "perimeter_mean",
          "Feature_2": "compactness_sd_error",
          "X": 0.8712102630263099,
          "Y": -0.3494037604907286,
          "corr": 0.69,
          "corr_abs": 0.69,
          "key": "perimeter_meancompactness_sd_error"
         },
         {
          "Feature": "perimeter_sd_error",
          "Feature_2": "compactness_sd_error",
          "X": 0.8712102630263099,
          "Y": -0.3494037604907286,
          "corr": 0.44,
          "corr_abs": 0.44,
          "key": "perimeter_sd_errorcompactness_sd_error"
         },
         {
          "Feature": "perimeter_worst",
          "Feature_2": "compactness_sd_error",
          "X": 0.8712102630263099,
          "Y": -0.3494037604907286,
          "corr": 0.34,
          "corr_abs": 0.34,
          "key": "perimeter_worstcompactness_sd_error"
         },
         {
          "Feature": "smoothness_mean",
          "Feature_2": "compactness_sd_error",
          "X": 0.8712102630263099,
          "Y": -0.3494037604907286,
          "corr": 0.36,
          "corr_abs": 0.36,
          "key": "smoothness_meancompactness_sd_error"
         },
         {
          "Feature": "smoothness_sd_error",
          "Feature_2": "compactness_sd_error",
          "X": 0.8712102630263099,
          "Y": -0.3494037604907286,
          "corr": 0.27,
          "corr_abs": 0.27,
          "key": "smoothness_sd_errorcompactness_sd_error"
         },
         {
          "Feature": "smoothness_worst",
          "Feature_2": "compactness_sd_error",
          "X": 0.8712102630263099,
          "Y": -0.3494037604907286,
          "corr": 0.27,
          "corr_abs": 0.27,
          "key": "smoothness_worstcompactness_sd_error"
         },
         {
          "Feature": "compactness_worst",
          "Feature_2": "compactness_sd_error",
          "X": 0.8712102630263099,
          "Y": -0.3494037604907286,
          "corr": 0.77,
          "corr_abs": 0.77,
          "key": "compactness_worstcompactness_sd_error"
         },
         {
          "Feature": "concavity_mean",
          "Feature_2": "compactness_sd_error",
          "X": 0.8712102630263099,
          "Y": -0.3494037604907286,
          "corr": 0.31,
          "corr_abs": 0.31,
          "key": "concavity_meancompactness_sd_error"
         },
         {
          "Feature": "concavity_sd_error",
          "Feature_2": "compactness_sd_error",
          "X": 0.8712102630263099,
          "Y": -0.3494037604907286,
          "corr": 0.73,
          "corr_abs": 0.73,
          "key": "concavity_sd_errorcompactness_sd_error"
         },
         {
          "Feature": "concavity_worst",
          "Feature_2": "compactness_sd_error",
          "X": 0.8712102630263099,
          "Y": -0.3494037604907286,
          "corr": 0.19,
          "corr_abs": 0.19,
          "key": "concavity_worstcompactness_sd_error"
         },
         {
          "Feature": "concave_points_mean",
          "Feature_2": "compactness_sd_error",
          "X": 0.8712102630263099,
          "Y": -0.3494037604907286,
          "corr": 0.1,
          "corr_abs": 0.1,
          "key": "concave_points_meancompactness_sd_error"
         },
         {
          "Feature": "concave_points_sd_error",
          "Feature_2": "compactness_sd_error",
          "X": 0.8712102630263099,
          "Y": -0.3494037604907286,
          "corr": 0.23,
          "corr_abs": 0.23,
          "key": "concave_points_sd_errorcompactness_sd_error"
         },
         {
          "Feature": "concave_points_worst",
          "Feature_2": "compactness_sd_error",
          "X": 0.8712102630263099,
          "Y": -0.3494037604907286,
          "corr": 0.19,
          "corr_abs": 0.19,
          "key": "concave_points_worstcompactness_sd_error"
         },
         {
          "Feature": "symmetry_mean",
          "Feature_2": "compactness_sd_error",
          "X": 0.8712102630263099,
          "Y": -0.3494037604907286,
          "corr": 0.17,
          "corr_abs": 0.17,
          "key": "symmetry_meancompactness_sd_error"
         },
         {
          "Feature": "symmetry_sd_error",
          "Feature_2": "compactness_sd_error",
          "X": 0.8712102630263099,
          "Y": -0.3494037604907286,
          "corr": 0.48,
          "corr_abs": 0.48,
          "key": "symmetry_sd_errorcompactness_sd_error"
         },
         {
          "Feature": "symmetry_worst",
          "Feature_2": "compactness_sd_error",
          "X": 0.8712102630263099,
          "Y": -0.3494037604907286,
          "corr": 0.66,
          "corr_abs": 0.66,
          "key": "symmetry_worstcompactness_sd_error"
         },
         {
          "Feature": "fractal_dimension_mean",
          "Feature_2": "compactness_sd_error",
          "X": 0.8712102630263099,
          "Y": -0.3494037604907286,
          "corr": 0.44,
          "corr_abs": 0.44,
          "key": "fractal_dimension_meancompactness_sd_error"
         },
         {
          "Feature": "fractal_dimension_sd_error",
          "Feature_2": "compactness_sd_error",
          "X": 0.8712102630263099,
          "Y": -0.3494037604907286,
          "corr": 0.2,
          "corr_abs": 0.2,
          "key": "fractal_dimension_sd_errorcompactness_sd_error"
         },
         {
          "Feature": "fractal_dimension_worst",
          "Feature_2": "compactness_sd_error",
          "X": 0.8712102630263099,
          "Y": -0.3494037604907286,
          "corr": 0.44,
          "corr_abs": 0.44,
          "key": "fractal_dimension_worstcompactness_sd_error"
         },
         {
          "Feature": "diagnosis",
          "Feature_2": "compactness_worst",
          "X": 0.2876823959657003,
          "Y": -0.28965929059324086,
          "corr": 0.41,
          "corr_abs": 0.41,
          "key": "diagnosiscompactness_worst"
         },
         {
          "Feature": "radius_mean",
          "Feature_2": "compactness_worst",
          "X": 0.2876823959657003,
          "Y": -0.28965929059324086,
          "corr": 0.38,
          "corr_abs": 0.38,
          "key": "radius_meancompactness_worst"
         },
         {
          "Feature": "radius_sd_error",
          "Feature_2": "compactness_worst",
          "X": 0.2876823959657003,
          "Y": -0.28965929059324086,
          "corr": 0.16,
          "corr_abs": 0.16,
          "key": "radius_sd_errorcompactness_worst"
         },
         {
          "Feature": "radius_worst",
          "Feature_2": "compactness_worst",
          "X": 0.2876823959657003,
          "Y": -0.28965929059324086,
          "corr": 0.41,
          "corr_abs": 0.41,
          "key": "radius_worstcompactness_worst"
         },
         {
          "Feature": "texture_mean",
          "Feature_2": "compactness_worst",
          "X": 0.2876823959657003,
          "Y": -0.28965929059324086,
          "corr": 0.37,
          "corr_abs": 0.37,
          "key": "texture_meancompactness_worst"
         },
         {
          "Feature": "texture_sd_error",
          "Feature_2": "compactness_worst",
          "X": 0.2876823959657003,
          "Y": -0.28965929059324086,
          "corr": 0.38,
          "corr_abs": 0.38,
          "key": "texture_sd_errorcompactness_worst"
         },
         {
          "Feature": "texture_worst",
          "Feature_2": "compactness_worst",
          "X": 0.2876823959657003,
          "Y": -0.28965929059324086,
          "corr": 0.64,
          "corr_abs": 0.64,
          "key": "texture_worstcompactness_worst"
         },
         {
          "Feature": "perimeter_mean",
          "Feature_2": "compactness_worst",
          "X": 0.2876823959657003,
          "Y": -0.28965929059324086,
          "corr": 0.68,
          "corr_abs": 0.68,
          "key": "perimeter_meancompactness_worst"
         },
         {
          "Feature": "perimeter_sd_error",
          "Feature_2": "compactness_worst",
          "X": 0.2876823959657003,
          "Y": -0.28965929059324086,
          "corr": 0.62,
          "corr_abs": 0.62,
          "key": "perimeter_sd_errorcompactness_worst"
         },
         {
          "Feature": "perimeter_worst",
          "Feature_2": "compactness_worst",
          "X": 0.2876823959657003,
          "Y": -0.28965929059324086,
          "corr": 0.39,
          "corr_abs": 0.39,
          "key": "perimeter_worstcompactness_worst"
         },
         {
          "Feature": "smoothness_mean",
          "Feature_2": "compactness_worst",
          "X": 0.2876823959657003,
          "Y": -0.28965929059324086,
          "corr": 0.56,
          "corr_abs": 0.56,
          "key": "smoothness_meancompactness_worst"
         },
         {
          "Feature": "smoothness_sd_error",
          "Feature_2": "compactness_worst",
          "X": 0.2876823959657003,
          "Y": -0.28965929059324086,
          "corr": 0.42,
          "corr_abs": 0.42,
          "key": "smoothness_sd_errorcompactness_worst"
         },
         {
          "Feature": "smoothness_worst",
          "Feature_2": "compactness_worst",
          "X": 0.2876823959657003,
          "Y": -0.28965929059324086,
          "corr": 0.33,
          "corr_abs": 0.33,
          "key": "smoothness_worstcompactness_worst"
         },
         {
          "Feature": "concavity_mean",
          "Feature_2": "compactness_worst",
          "X": 0.2876823959657003,
          "Y": -0.28965929059324086,
          "corr": 0.31,
          "corr_abs": 0.31,
          "key": "concavity_meancompactness_worst"
         },
         {
          "Feature": "concavity_sd_error",
          "Feature_2": "compactness_worst",
          "X": 0.2876823959657003,
          "Y": -0.28965929059324086,
          "corr": 0.61,
          "corr_abs": 0.61,
          "key": "concavity_sd_errorcompactness_worst"
         },
         {
          "Feature": "concavity_worst",
          "Feature_2": "compactness_worst",
          "X": 0.2876823959657003,
          "Y": -0.28965929059324086,
          "corr": 0.36,
          "corr_abs": 0.36,
          "key": "concavity_worstcompactness_worst"
         },
         {
          "Feature": "concave_points_mean",
          "Feature_2": "compactness_worst",
          "X": 0.2876823959657003,
          "Y": -0.28965929059324086,
          "corr": 0.09,
          "corr_abs": 0.09,
          "key": "concave_points_meancompactness_worst"
         },
         {
          "Feature": "concave_points_sd_error",
          "Feature_2": "compactness_worst",
          "X": 0.2876823959657003,
          "Y": -0.28965929059324086,
          "corr": 0.39,
          "corr_abs": 0.39,
          "key": "concave_points_sd_errorcompactness_worst"
         },
         {
          "Feature": "concave_points_worst",
          "Feature_2": "compactness_worst",
          "X": 0.2876823959657003,
          "Y": -0.28965929059324086,
          "corr": 0.34,
          "corr_abs": 0.34,
          "key": "concave_points_worstcompactness_worst"
         },
         {
          "Feature": "symmetry_mean",
          "Feature_2": "compactness_worst",
          "X": 0.2876823959657003,
          "Y": -0.28965929059324086,
          "corr": 0.22,
          "corr_abs": 0.22,
          "key": "symmetry_meancompactness_worst"
         },
         {
          "Feature": "symmetry_sd_error",
          "Feature_2": "compactness_worst",
          "X": 0.2876823959657003,
          "Y": -0.28965929059324086,
          "corr": 0.45,
          "corr_abs": 0.45,
          "key": "symmetry_sd_errorcompactness_worst"
         },
         {
          "Feature": "symmetry_worst",
          "Feature_2": "compactness_worst",
          "X": 0.2876823959657003,
          "Y": -0.28965929059324086,
          "corr": 0.55,
          "corr_abs": 0.55,
          "key": "symmetry_worstcompactness_worst"
         },
         {
          "Feature": "fractal_dimension_mean",
          "Feature_2": "compactness_worst",
          "X": 0.2876823959657003,
          "Y": -0.28965929059324086,
          "corr": 0.6,
          "corr_abs": 0.6,
          "key": "fractal_dimension_meancompactness_worst"
         },
         {
          "Feature": "fractal_dimension_sd_error",
          "Feature_2": "compactness_worst",
          "X": 0.2876823959657003,
          "Y": -0.28965929059324086,
          "corr": 0.14,
          "corr_abs": 0.14,
          "key": "fractal_dimension_sd_errorcompactness_worst"
         },
         {
          "Feature": "fractal_dimension_worst",
          "Feature_2": "compactness_worst",
          "X": 0.2876823959657003,
          "Y": -0.28965929059324086,
          "corr": 0.31,
          "corr_abs": 0.31,
          "key": "fractal_dimension_worstcompactness_worst"
         },
         {
          "Feature": "diagnosis",
          "Feature_2": "concavity_mean",
          "X": 1.4802274110064482,
          "Y": 0.9423863485385834,
          "corr": -0.01,
          "corr_abs": 0.01,
          "key": "diagnosisconcavity_mean"
         },
         {
          "Feature": "radius_mean",
          "Feature_2": "concavity_mean",
          "X": 1.4802274110064482,
          "Y": 0.9423863485385834,
          "corr": -0.1,
          "corr_abs": 0.1,
          "key": "radius_meanconcavity_mean"
         },
         {
          "Feature": "radius_sd_error",
          "Feature_2": "concavity_mean",
          "X": 1.4802274110064482,
          "Y": 0.9423863485385834,
          "corr": 0.01,
          "corr_abs": 0.01,
          "key": "radius_sd_errorconcavity_mean"
         },
         {
          "Feature": "radius_worst",
          "Feature_2": "concavity_mean",
          "X": 1.4802274110064482,
          "Y": 0.9423863485385834,
          "corr": -0.08,
          "corr_abs": 0.08,
          "key": "radius_worstconcavity_mean"
         },
         {
          "Feature": "texture_mean",
          "Feature_2": "concavity_mean",
          "X": 1.4802274110064482,
          "Y": 0.9423863485385834,
          "corr": -0.07,
          "corr_abs": 0.07,
          "key": "texture_meanconcavity_mean"
         },
         {
          "Feature": "texture_sd_error",
          "Feature_2": "concavity_mean",
          "X": 1.4802274110064482,
          "Y": 0.9423863485385834,
          "corr": 0.2,
          "corr_abs": 0.2,
          "key": "texture_sd_errorconcavity_mean"
         },
         {
          "Feature": "texture_worst",
          "Feature_2": "concavity_mean",
          "X": 1.4802274110064482,
          "Y": 0.9423863485385834,
          "corr": 0.23,
          "corr_abs": 0.23,
          "key": "texture_worstconcavity_mean"
         },
         {
          "Feature": "perimeter_mean",
          "Feature_2": "concavity_mean",
          "X": 1.4802274110064482,
          "Y": 0.9423863485385834,
          "corr": 0.18,
          "corr_abs": 0.18,
          "key": "perimeter_meanconcavity_mean"
         },
         {
          "Feature": "perimeter_sd_error",
          "Feature_2": "concavity_mean",
          "X": 1.4802274110064482,
          "Y": 0.9423863485385834,
          "corr": 0.1,
          "corr_abs": 0.1,
          "key": "perimeter_sd_errorconcavity_mean"
         },
         {
          "Feature": "perimeter_worst",
          "Feature_2": "concavity_mean",
          "X": 1.4802274110064482,
          "Y": 0.9423863485385834,
          "corr": 0.45,
          "corr_abs": 0.45,
          "key": "perimeter_worstconcavity_mean"
         },
         {
          "Feature": "smoothness_mean",
          "Feature_2": "concavity_mean",
          "X": 1.4802274110064482,
          "Y": 0.9423863485385834,
          "corr": 0.27,
          "corr_abs": 0.27,
          "key": "smoothness_meanconcavity_mean"
         },
         {
          "Feature": "smoothness_sd_error",
          "Feature_2": "concavity_mean",
          "X": 1.4802274110064482,
          "Y": 0.9423863485385834,
          "corr": 0.13,
          "corr_abs": 0.13,
          "key": "smoothness_sd_errorconcavity_mean"
         },
         {
          "Feature": "smoothness_worst",
          "Feature_2": "concavity_mean",
          "X": 1.4802274110064482,
          "Y": 0.9423863485385834,
          "corr": 0.41,
          "corr_abs": 0.41,
          "key": "smoothness_worstconcavity_mean"
         },
         {
          "Feature": "concavity_sd_error",
          "Feature_2": "concavity_mean",
          "X": 1.4802274110064482,
          "Y": 0.9423863485385834,
          "corr": 0.37,
          "corr_abs": 0.37,
          "key": "concavity_sd_errorconcavity_mean"
         },
         {
          "Feature": "concavity_worst",
          "Feature_2": "concavity_mean",
          "X": 1.4802274110064482,
          "Y": 0.9423863485385834,
          "corr": -0.13,
          "corr_abs": 0.13,
          "key": "concavity_worstconcavity_mean"
         },
         {
          "Feature": "symmetry_mean",
          "Feature_2": "concavity_mean",
          "X": 1.4802274110064482,
          "Y": 0.9423863485385834,
          "corr": -0.01,
          "corr_abs": 0.01,
          "key": "symmetry_meanconcavity_mean"
         },
         {
          "Feature": "symmetry_sd_error",
          "Feature_2": "concavity_mean",
          "X": 1.4802274110064482,
          "Y": 0.9423863485385834,
          "corr": 0.06,
          "corr_abs": 0.06,
          "key": "symmetry_sd_errorconcavity_mean"
         },
         {
          "Feature": "symmetry_worst",
          "Feature_2": "concavity_mean",
          "X": 1.4802274110064482,
          "Y": 0.9423863485385834,
          "corr": 0.04,
          "corr_abs": 0.04,
          "key": "symmetry_worstconcavity_mean"
         },
         {
          "Feature": "fractal_dimension_mean",
          "Feature_2": "concavity_mean",
          "X": 1.4802274110064482,
          "Y": 0.9423863485385834,
          "corr": -0.03,
          "corr_abs": 0.03,
          "key": "fractal_dimension_meanconcavity_mean"
         },
         {
          "Feature": "fractal_dimension_sd_error",
          "Feature_2": "concavity_mean",
          "X": 1.4802274110064482,
          "Y": 0.9423863485385834,
          "corr": 0.39,
          "corr_abs": 0.39,
          "key": "fractal_dimension_sd_errorconcavity_mean"
         },
         {
          "Feature": "fractal_dimension_worst",
          "Feature_2": "concavity_mean",
          "X": 1.4802274110064482,
          "Y": 0.9423863485385834,
          "corr": 0.08,
          "corr_abs": 0.08,
          "key": "fractal_dimension_worstconcavity_mean"
         },
         {
          "Feature": "diagnosis",
          "Feature_2": "concavity_sd_error",
          "X": 1.5999275290020805,
          "Y": -0.1287958445419005,
          "corr": 0.08,
          "corr_abs": 0.08,
          "key": "diagnosisconcavity_sd_error"
         },
         {
          "Feature": "radius_mean",
          "Feature_2": "concavity_sd_error",
          "X": 1.5999275290020805,
          "Y": -0.1287958445419005,
          "corr": -0.04,
          "corr_abs": 0.04,
          "key": "radius_meanconcavity_sd_error"
         },
         {
          "Feature": "radius_sd_error",
          "Feature_2": "concavity_sd_error",
          "X": 1.5999275290020805,
          "Y": -0.1287958445419005,
          "corr": 0.05,
          "corr_abs": 0.05,
          "key": "radius_sd_errorconcavity_sd_error"
         },
         {
          "Feature": "radius_worst",
          "Feature_2": "concavity_sd_error",
          "X": 1.5999275290020805,
          "Y": -0.1287958445419005,
          "corr": -0.01,
          "corr_abs": 0.01,
          "key": "radius_worstconcavity_sd_error"
         },
         {
          "Feature": "texture_mean",
          "Feature_2": "concavity_sd_error",
          "X": 1.5999275290020805,
          "Y": -0.1287958445419005,
          "corr": -0.02,
          "corr_abs": 0.02,
          "key": "texture_meanconcavity_sd_error"
         },
         {
          "Feature": "texture_sd_error",
          "Feature_2": "concavity_sd_error",
          "X": 1.5999275290020805,
          "Y": -0.1287958445419005,
          "corr": 0.28,
          "corr_abs": 0.28,
          "key": "texture_sd_errorconcavity_sd_error"
         },
         {
          "Feature": "texture_worst",
          "Feature_2": "concavity_sd_error",
          "X": 1.5999275290020805,
          "Y": -0.1287958445419005,
          "corr": 0.51,
          "corr_abs": 0.51,
          "key": "texture_worstconcavity_sd_error"
         },
         {
          "Feature": "perimeter_mean",
          "Feature_2": "concavity_sd_error",
          "X": 1.5999275290020805,
          "Y": -0.1287958445419005,
          "corr": 0.45,
          "corr_abs": 0.45,
          "key": "perimeter_meanconcavity_sd_error"
         },
         {
          "Feature": "perimeter_sd_error",
          "Feature_2": "concavity_sd_error",
          "X": 1.5999275290020805,
          "Y": -0.1287958445419005,
          "corr": 0.26,
          "corr_abs": 0.26,
          "key": "perimeter_sd_errorconcavity_sd_error"
         },
         {
          "Feature": "perimeter_worst",
          "Feature_2": "concavity_sd_error",
          "X": 1.5999275290020805,
          "Y": -0.1287958445419005,
          "corr": 0.33,
          "corr_abs": 0.33,
          "key": "perimeter_worstconcavity_sd_error"
         },
         {
          "Feature": "smoothness_mean",
          "Feature_2": "concavity_sd_error",
          "X": 1.5999275290020805,
          "Y": -0.1287958445419005,
          "corr": 0.24,
          "corr_abs": 0.24,
          "key": "smoothness_meanconcavity_sd_error"
         },
         {
          "Feature": "smoothness_sd_error",
          "Feature_2": "concavity_sd_error",
          "X": 1.5999275290020805,
          "Y": -0.1287958445419005,
          "corr": 0.13,
          "corr_abs": 0.13,
          "key": "smoothness_sd_errorconcavity_sd_error"
         },
         {
          "Feature": "smoothness_worst",
          "Feature_2": "concavity_sd_error",
          "X": 1.5999275290020805,
          "Y": -0.1287958445419005,
          "corr": 0.43,
          "corr_abs": 0.43,
          "key": "smoothness_worstconcavity_sd_error"
         },
         {
          "Feature": "concavity_worst",
          "Feature_2": "concavity_sd_error",
          "X": 1.5999275290020805,
          "Y": -0.1287958445419005,
          "corr": -0.04,
          "corr_abs": 0.04,
          "key": "concavity_worstconcavity_sd_error"
         },
         {
          "Feature": "symmetry_mean",
          "Feature_2": "concavity_sd_error",
          "X": 1.5999275290020805,
          "Y": -0.1287958445419005,
          "corr": 0.17,
          "corr_abs": 0.17,
          "key": "symmetry_meanconcavity_sd_error"
         },
         {
          "Feature": "symmetry_sd_error",
          "Feature_2": "concavity_sd_error",
          "X": 1.5999275290020805,
          "Y": -0.1287958445419005,
          "corr": 0.39,
          "corr_abs": 0.39,
          "key": "symmetry_sd_errorconcavity_sd_error"
         },
         {
          "Feature": "symmetry_worst",
          "Feature_2": "concavity_sd_error",
          "X": 1.5999275290020805,
          "Y": -0.1287958445419005,
          "corr": 0.38,
          "corr_abs": 0.38,
          "key": "symmetry_worstconcavity_sd_error"
         },
         {
          "Feature": "fractal_dimension_mean",
          "Feature_2": "concavity_sd_error",
          "X": 1.5999275290020805,
          "Y": -0.1287958445419005,
          "corr": 0.22,
          "corr_abs": 0.22,
          "key": "fractal_dimension_meanconcavity_sd_error"
         },
         {
          "Feature": "fractal_dimension_sd_error",
          "Feature_2": "concavity_sd_error",
          "X": 1.5999275290020805,
          "Y": -0.1287958445419005,
          "corr": 0.11,
          "corr_abs": 0.11,
          "key": "fractal_dimension_sd_errorconcavity_sd_error"
         },
         {
          "Feature": "fractal_dimension_worst",
          "Feature_2": "concavity_sd_error",
          "X": 1.5999275290020805,
          "Y": -0.1287958445419005,
          "corr": 0.59,
          "corr_abs": 0.59,
          "key": "fractal_dimension_worstconcavity_sd_error"
         },
         {
          "Feature": "diagnosis",
          "Feature_2": "concavity_worst",
          "X": -1.3978663256422363,
          "Y": 0.3010427285687964,
          "corr": 0.78,
          "corr_abs": 0.78,
          "key": "diagnosisconcavity_worst"
         },
         {
          "Feature": "radius_mean",
          "Feature_2": "concavity_worst",
          "X": -1.3978663256422363,
          "Y": 0.3010427285687964,
          "corr": 0.97,
          "corr_abs": 0.97,
          "key": "radius_meanconcavity_worst"
         },
         {
          "Feature": "radius_sd_error",
          "Feature_2": "concavity_worst",
          "X": -1.3978663256422363,
          "Y": 0.3010427285687964,
          "corr": 0.35,
          "corr_abs": 0.35,
          "key": "radius_sd_errorconcavity_worst"
         },
         {
          "Feature": "radius_worst",
          "Feature_2": "concavity_worst",
          "X": -1.3978663256422363,
          "Y": 0.3010427285687964,
          "corr": 0.97,
          "corr_abs": 0.97,
          "key": "radius_worstconcavity_worst"
         },
         {
          "Feature": "texture_mean",
          "Feature_2": "concavity_worst",
          "X": -1.3978663256422363,
          "Y": 0.3010427285687964,
          "corr": 0.96,
          "corr_abs": 0.96,
          "key": "texture_meanconcavity_worst"
         },
         {
          "Feature": "texture_sd_error",
          "Feature_2": "concavity_worst",
          "X": -1.3978663256422363,
          "Y": 0.3010427285687964,
          "corr": 0.21,
          "corr_abs": 0.21,
          "key": "texture_sd_errorconcavity_worst"
         },
         {
          "Feature": "texture_worst",
          "Feature_2": "concavity_worst",
          "X": -1.3978663256422363,
          "Y": 0.3010427285687964,
          "corr": 0.54,
          "corr_abs": 0.54,
          "key": "texture_worstconcavity_worst"
         },
         {
          "Feature": "perimeter_mean",
          "Feature_2": "concavity_worst",
          "X": -1.3978663256422363,
          "Y": 0.3010427285687964,
          "corr": 0.69,
          "corr_abs": 0.69,
          "key": "perimeter_meanconcavity_worst"
         },
         {
          "Feature": "perimeter_sd_error",
          "Feature_2": "concavity_worst",
          "X": -1.3978663256422363,
          "Y": 0.3010427285687964,
          "corr": 0.83,
          "corr_abs": 0.83,
          "key": "perimeter_sd_errorconcavity_worst"
         },
         {
          "Feature": "perimeter_worst",
          "Feature_2": "concavity_worst",
          "X": -1.3978663256422363,
          "Y": 0.3010427285687964,
          "corr": 0.19,
          "corr_abs": 0.19,
          "key": "perimeter_worstconcavity_worst"
         },
         {
          "Feature": "smoothness_mean",
          "Feature_2": "concavity_worst",
          "X": -1.3978663256422363,
          "Y": 0.3010427285687964,
          "corr": 0.7,
          "corr_abs": 0.7,
          "key": "smoothness_meanconcavity_worst"
         },
         {
          "Feature": "smoothness_sd_error",
          "Feature_2": "concavity_worst",
          "X": -1.3978663256422363,
          "Y": 0.3010427285687964,
          "corr": 0.76,
          "corr_abs": 0.76,
          "key": "smoothness_sd_errorconcavity_worst"
         },
         {
          "Feature": "smoothness_worst",
          "Feature_2": "concavity_worst",
          "X": -1.3978663256422363,
          "Y": 0.3010427285687964,
          "corr": -0.23,
          "corr_abs": 0.23,
          "key": "smoothness_worstconcavity_worst"
         },
         {
          "Feature": "symmetry_mean",
          "Feature_2": "concavity_worst",
          "X": -1.3978663256422363,
          "Y": 0.3010427285687964,
          "corr": 0.22,
          "corr_abs": 0.22,
          "key": "symmetry_meanconcavity_worst"
         },
         {
          "Feature": "symmetry_sd_error",
          "Feature_2": "concavity_worst",
          "X": -1.3978663256422363,
          "Y": 0.3010427285687964,
          "corr": 0.48,
          "corr_abs": 0.48,
          "key": "symmetry_sd_errorconcavity_worst"
         },
         {
          "Feature": "symmetry_worst",
          "Feature_2": "concavity_worst",
          "X": -1.3978663256422363,
          "Y": 0.3010427285687964,
          "corr": 0.57,
          "corr_abs": 0.57,
          "key": "symmetry_worstconcavity_worst"
         },
         {
          "Feature": "fractal_dimension_mean",
          "Feature_2": "concavity_worst",
          "X": -1.3978663256422363,
          "Y": 0.3010427285687964,
          "corr": 0.79,
          "corr_abs": 0.79,
          "key": "fractal_dimension_meanconcavity_worst"
         },
         {
          "Feature": "fractal_dimension_sd_error",
          "Feature_2": "concavity_worst",
          "X": -1.3978663256422363,
          "Y": 0.3010427285687964,
          "corr": 0.24,
          "corr_abs": 0.24,
          "key": "fractal_dimension_sd_errorconcavity_worst"
         },
         {
          "Feature": "fractal_dimension_worst",
          "Feature_2": "concavity_worst",
          "X": -1.3978663256422363,
          "Y": 0.3010427285687964,
          "corr": 0.09,
          "corr_abs": 0.09,
          "key": "fractal_dimension_worstconcavity_worst"
         },
         {
          "Feature": "diagnosis",
          "Feature_2": "concave_points_mean",
          "X": 0.43309910036905297,
          "Y": 0.9882464968652713,
          "corr": 0.46,
          "corr_abs": 0.46,
          "key": "diagnosisconcave_points_mean"
         },
         {
          "Feature": "radius_mean",
          "Feature_2": "concave_points_mean",
          "X": 0.43309910036905297,
          "Y": 0.9882464968652713,
          "corr": 0.3,
          "corr_abs": 0.3,
          "key": "radius_meanconcave_points_mean"
         },
         {
          "Feature": "radius_sd_error",
          "Feature_2": "concave_points_mean",
          "X": 0.43309910036905297,
          "Y": 0.9882464968652713,
          "corr": 0.91,
          "corr_abs": 0.91,
          "key": "radius_sd_errorconcave_points_mean"
         },
         {
          "Feature": "radius_worst",
          "Feature_2": "concave_points_mean",
          "X": 0.43309910036905297,
          "Y": 0.9882464968652713,
          "corr": 0.3,
          "corr_abs": 0.3,
          "key": "radius_worstconcave_points_mean"
         },
         {
          "Feature": "texture_mean",
          "Feature_2": "concave_points_mean",
          "X": 0.43309910036905297,
          "Y": 0.9882464968652713,
          "corr": 0.29,
          "corr_abs": 0.29,
          "key": "texture_meanconcave_points_mean"
         },
         {
          "Feature": "texture_sd_error",
          "Feature_2": "concave_points_mean",
          "X": 0.43309910036905297,
          "Y": 0.9882464968652713,
          "corr": 0.04,
          "corr_abs": 0.04,
          "key": "texture_sd_errorconcave_points_mean"
         },
         {
          "Feature": "texture_worst",
          "Feature_2": "concave_points_mean",
          "X": 0.43309910036905297,
          "Y": 0.9882464968652713,
          "corr": 0.25,
          "corr_abs": 0.25,
          "key": "texture_worstconcave_points_mean"
         },
         {
          "Feature": "perimeter_mean",
          "Feature_2": "concave_points_mean",
          "X": 0.43309910036905297,
          "Y": 0.9882464968652713,
          "corr": 0.3,
          "corr_abs": 0.3,
          "key": "perimeter_meanconcave_points_mean"
         },
         {
          "Feature": "perimeter_sd_error",
          "Feature_2": "concave_points_mean",
          "X": 0.43309910036905297,
          "Y": 0.9882464968652713,
          "corr": 0.29,
          "corr_abs": 0.29,
          "key": "perimeter_sd_errorconcave_points_mean"
         },
         {
          "Feature": "perimeter_worst",
          "Feature_2": "concave_points_mean",
          "X": 0.43309910036905297,
          "Y": 0.9882464968652713,
          "corr": 0.09,
          "corr_abs": 0.09,
          "key": "perimeter_worstconcave_points_mean"
         },
         {
          "Feature": "smoothness_mean",
          "Feature_2": "concave_points_mean",
          "X": 0.43309910036905297,
          "Y": 0.9882464968652713,
          "corr": 0.2,
          "corr_abs": 0.2,
          "key": "smoothness_meanconcave_points_mean"
         },
         {
          "Feature": "smoothness_sd_error",
          "Feature_2": "concave_points_mean",
          "X": 0.43309910036905297,
          "Y": 0.9882464968652713,
          "corr": 0.2,
          "corr_abs": 0.2,
          "key": "smoothness_sd_errorconcave_points_mean"
         },
         {
          "Feature": "smoothness_worst",
          "Feature_2": "concave_points_mean",
          "X": 0.43309910036905297,
          "Y": 0.9882464968652713,
          "corr": -0.07,
          "corr_abs": 0.07,
          "key": "smoothness_worstconcave_points_mean"
         },
         {
          "Feature": "concavity_mean",
          "Feature_2": "concave_points_mean",
          "X": 0.43309910036905297,
          "Y": 0.9882464968652713,
          "corr": -0.08,
          "corr_abs": 0.08,
          "key": "concavity_meanconcave_points_mean"
         },
         {
          "Feature": "concavity_sd_error",
          "Feature_2": "concave_points_mean",
          "X": 0.43309910036905297,
          "Y": 0.9882464968652713,
          "corr": 0,
          "corr_abs": 0,
          "key": "concavity_sd_errorconcave_points_mean"
         },
         {
          "Feature": "concavity_worst",
          "Feature_2": "concave_points_mean",
          "X": 0.43309910036905297,
          "Y": 0.9882464968652713,
          "corr": 0.36,
          "corr_abs": 0.36,
          "key": "concavity_worstconcave_points_mean"
         },
         {
          "Feature": "concave_points_sd_error",
          "Feature_2": "concave_points_mean",
          "X": 0.43309910036905297,
          "Y": 0.9882464968652713,
          "corr": 0.37,
          "corr_abs": 0.37,
          "key": "concave_points_sd_errorconcave_points_mean"
         },
         {
          "Feature": "concave_points_worst",
          "Feature_2": "concave_points_mean",
          "X": 0.43309910036905297,
          "Y": 0.9882464968652713,
          "corr": 0.35,
          "corr_abs": 0.35,
          "key": "concave_points_worstconcave_points_mean"
         },
         {
          "Feature": "symmetry_mean",
          "Feature_2": "concave_points_mean",
          "X": 0.43309910036905297,
          "Y": 0.9882464968652713,
          "corr": 0.23,
          "corr_abs": 0.23,
          "key": "symmetry_meanconcave_points_mean"
         },
         {
          "Feature": "symmetry_sd_error",
          "Feature_2": "concave_points_mean",
          "X": 0.43309910036905297,
          "Y": 0.9882464968652713,
          "corr": 0.36,
          "corr_abs": 0.36,
          "key": "symmetry_sd_errorconcave_points_mean"
         },
         {
          "Feature": "symmetry_worst",
          "Feature_2": "concave_points_mean",
          "X": 0.43309910036905297,
          "Y": 0.9882464968652713,
          "corr": 0.37,
          "corr_abs": 0.37,
          "key": "symmetry_worstconcave_points_mean"
         },
         {
          "Feature": "fractal_dimension_mean",
          "Feature_2": "concave_points_mean",
          "X": 0.43309910036905297,
          "Y": 0.9882464968652713,
          "corr": 0.36,
          "corr_abs": 0.36,
          "key": "fractal_dimension_meanconcave_points_mean"
         },
         {
          "Feature": "fractal_dimension_sd_error",
          "Feature_2": "concave_points_mean",
          "X": 0.43309910036905297,
          "Y": 0.9882464968652713,
          "corr": 0.23,
          "corr_abs": 0.23,
          "key": "fractal_dimension_sd_errorconcave_points_mean"
         },
         {
          "Feature": "fractal_dimension_worst",
          "Feature_2": "concave_points_mean",
          "X": 0.43309910036905297,
          "Y": 0.9882464968652713,
          "corr": 0.22,
          "corr_abs": 0.22,
          "key": "fractal_dimension_worstconcave_points_mean"
         },
         {
          "Feature": "diagnosis",
          "Feature_2": "concave_points_sd_error",
          "X": -1.4305533463499376,
          "Y": 0.17763167675042257,
          "corr": 0.78,
          "corr_abs": 0.78,
          "key": "diagnosisconcave_points_sd_error"
         },
         {
          "Feature": "radius_mean",
          "Feature_2": "concave_points_sd_error",
          "X": -1.4305533463499376,
          "Y": 0.17763167675042257,
          "corr": 0.97,
          "corr_abs": 0.97,
          "key": "radius_meanconcave_points_sd_error"
         },
         {
          "Feature": "radius_sd_error",
          "Feature_2": "concave_points_sd_error",
          "X": -1.4305533463499376,
          "Y": 0.17763167675042257,
          "corr": 0.36,
          "corr_abs": 0.36,
          "key": "radius_sd_errorconcave_points_sd_error"
         },
         {
          "Feature": "radius_worst",
          "Feature_2": "concave_points_sd_error",
          "X": -1.4305533463499376,
          "Y": 0.17763167675042257,
          "corr": 0.97,
          "corr_abs": 0.97,
          "key": "radius_worstconcave_points_sd_error"
         },
         {
          "Feature": "texture_mean",
          "Feature_2": "concave_points_sd_error",
          "X": -1.4305533463499376,
          "Y": 0.17763167675042257,
          "corr": 0.96,
          "corr_abs": 0.96,
          "key": "texture_meanconcave_points_sd_error"
         },
         {
          "Feature": "texture_sd_error",
          "Feature_2": "concave_points_sd_error",
          "X": -1.4305533463499376,
          "Y": 0.17763167675042257,
          "corr": 0.24,
          "corr_abs": 0.24,
          "key": "texture_sd_errorconcave_points_sd_error"
         },
         {
          "Feature": "texture_worst",
          "Feature_2": "concave_points_sd_error",
          "X": -1.4305533463499376,
          "Y": 0.17763167675042257,
          "corr": 0.59,
          "corr_abs": 0.59,
          "key": "texture_worstconcave_points_sd_error"
         },
         {
          "Feature": "perimeter_mean",
          "Feature_2": "concave_points_sd_error",
          "X": -1.4305533463499376,
          "Y": 0.17763167675042257,
          "corr": 0.73,
          "corr_abs": 0.73,
          "key": "perimeter_meanconcave_points_sd_error"
         },
         {
          "Feature": "perimeter_sd_error",
          "Feature_2": "concave_points_sd_error",
          "X": -1.4305533463499376,
          "Y": 0.17763167675042257,
          "corr": 0.86,
          "corr_abs": 0.86,
          "key": "perimeter_sd_errorconcave_points_sd_error"
         },
         {
          "Feature": "perimeter_worst",
          "Feature_2": "concave_points_sd_error",
          "X": -1.4305533463499376,
          "Y": 0.17763167675042257,
          "corr": 0.22,
          "corr_abs": 0.22,
          "key": "perimeter_worstconcave_points_sd_error"
         },
         {
          "Feature": "smoothness_mean",
          "Feature_2": "concave_points_sd_error",
          "X": -1.4305533463499376,
          "Y": 0.17763167675042257,
          "corr": 0.72,
          "corr_abs": 0.72,
          "key": "smoothness_meanconcave_points_sd_error"
         },
         {
          "Feature": "smoothness_sd_error",
          "Feature_2": "concave_points_sd_error",
          "X": -1.4305533463499376,
          "Y": 0.17763167675042257,
          "corr": 0.76,
          "corr_abs": 0.76,
          "key": "smoothness_sd_errorconcave_points_sd_error"
         },
         {
          "Feature": "smoothness_worst",
          "Feature_2": "concave_points_sd_error",
          "X": -1.4305533463499376,
          "Y": 0.17763167675042257,
          "corr": -0.22,
          "corr_abs": 0.22,
          "key": "smoothness_worstconcave_points_sd_error"
         },
         {
          "Feature": "concavity_mean",
          "Feature_2": "concave_points_sd_error",
          "X": -1.4305533463499376,
          "Y": 0.17763167675042257,
          "corr": -0.1,
          "corr_abs": 0.1,
          "key": "concavity_meanconcave_points_sd_error"
         },
         {
          "Feature": "concavity_sd_error",
          "Feature_2": "concave_points_sd_error",
          "X": -1.4305533463499376,
          "Y": 0.17763167675042257,
          "corr": 0,
          "corr_abs": 0,
          "key": "concavity_sd_errorconcave_points_sd_error"
         },
         {
          "Feature": "concavity_worst",
          "Feature_2": "concave_points_sd_error",
          "X": -1.4305533463499376,
          "Y": 0.17763167675042257,
          "corr": 0.99,
          "corr_abs": 0.99,
          "key": "concavity_worstconcave_points_sd_error"
         },
         {
          "Feature": "concave_points_worst",
          "Feature_2": "concave_points_sd_error",
          "X": -1.4305533463499376,
          "Y": 0.17763167675042257,
          "corr": 0.98,
          "corr_abs": 0.98,
          "key": "concave_points_worstconcave_points_sd_error"
         },
         {
          "Feature": "symmetry_mean",
          "Feature_2": "concave_points_sd_error",
          "X": -1.4305533463499376,
          "Y": 0.17763167675042257,
          "corr": 0.24,
          "corr_abs": 0.24,
          "key": "symmetry_meanconcave_points_sd_error"
         },
         {
          "Feature": "symmetry_sd_error",
          "Feature_2": "concave_points_sd_error",
          "X": -1.4305533463499376,
          "Y": 0.17763167675042257,
          "corr": 0.53,
          "corr_abs": 0.53,
          "key": "symmetry_sd_errorconcave_points_sd_error"
         },
         {
          "Feature": "symmetry_worst",
          "Feature_2": "concave_points_sd_error",
          "X": -1.4305533463499376,
          "Y": 0.17763167675042257,
          "corr": 0.62,
          "corr_abs": 0.62,
          "key": "symmetry_worstconcave_points_sd_error"
         },
         {
          "Feature": "fractal_dimension_mean",
          "Feature_2": "concave_points_sd_error",
          "X": -1.4305533463499376,
          "Y": 0.17763167675042257,
          "corr": 0.82,
          "corr_abs": 0.82,
          "key": "fractal_dimension_meanconcave_points_sd_error"
         },
         {
          "Feature": "fractal_dimension_sd_error",
          "Feature_2": "concave_points_sd_error",
          "X": -1.4305533463499376,
          "Y": 0.17763167675042257,
          "corr": 0.27,
          "corr_abs": 0.27,
          "key": "fractal_dimension_sd_errorconcave_points_sd_error"
         },
         {
          "Feature": "fractal_dimension_worst",
          "Feature_2": "concave_points_sd_error",
          "X": -1.4305533463499376,
          "Y": 0.17763167675042257,
          "corr": 0.14,
          "corr_abs": 0.14,
          "key": "fractal_dimension_worstconcave_points_sd_error"
         },
         {
          "Feature": "diagnosis",
          "Feature_2": "concave_points_worst",
          "X": -1.3889029607897831,
          "Y": 0.3647607153838467,
          "corr": 0.73,
          "corr_abs": 0.73,
          "key": "diagnosisconcave_points_worst"
         },
         {
          "Feature": "radius_mean",
          "Feature_2": "concave_points_worst",
          "X": -1.3889029607897831,
          "Y": 0.3647607153838467,
          "corr": 0.94,
          "corr_abs": 0.94,
          "key": "radius_meanconcave_points_worst"
         },
         {
          "Feature": "radius_sd_error",
          "Feature_2": "concave_points_worst",
          "X": -1.3889029607897831,
          "Y": 0.3647607153838467,
          "corr": 0.34,
          "corr_abs": 0.34,
          "key": "radius_sd_errorconcave_points_worst"
         },
         {
          "Feature": "radius_worst",
          "Feature_2": "concave_points_worst",
          "X": -1.3889029607897831,
          "Y": 0.3647607153838467,
          "corr": 0.94,
          "corr_abs": 0.94,
          "key": "radius_worstconcave_points_worst"
         },
         {
          "Feature": "texture_mean",
          "Feature_2": "concave_points_worst",
          "X": -1.3889029607897831,
          "Y": 0.3647607153838467,
          "corr": 0.96,
          "corr_abs": 0.96,
          "key": "texture_meanconcave_points_worst"
         },
         {
          "Feature": "texture_sd_error",
          "Feature_2": "concave_points_worst",
          "X": -1.3889029607897831,
          "Y": 0.3647607153838467,
          "corr": 0.21,
          "corr_abs": 0.21,
          "key": "texture_sd_errorconcave_points_worst"
         },
         {
          "Feature": "texture_worst",
          "Feature_2": "concave_points_worst",
          "X": -1.3889029607897831,
          "Y": 0.3647607153838467,
          "corr": 0.51,
          "corr_abs": 0.51,
          "key": "texture_worstconcave_points_worst"
         },
         {
          "Feature": "perimeter_mean",
          "Feature_2": "concave_points_worst",
          "X": -1.3889029607897831,
          "Y": 0.3647607153838467,
          "corr": 0.68,
          "corr_abs": 0.68,
          "key": "perimeter_meanconcave_points_worst"
         },
         {
          "Feature": "perimeter_sd_error",
          "Feature_2": "concave_points_worst",
          "X": -1.3889029607897831,
          "Y": 0.3647607153838467,
          "corr": 0.81,
          "corr_abs": 0.81,
          "key": "perimeter_sd_errorconcave_points_worst"
         },
         {
          "Feature": "perimeter_worst",
          "Feature_2": "concave_points_worst",
          "X": -1.3889029607897831,
          "Y": 0.3647607153838467,
          "corr": 0.18,
          "corr_abs": 0.18,
          "key": "perimeter_worstconcave_points_worst"
         },
         {
          "Feature": "smoothness_mean",
          "Feature_2": "concave_points_worst",
          "X": -1.3889029607897831,
          "Y": 0.3647607153838467,
          "corr": 0.73,
          "corr_abs": 0.73,
          "key": "smoothness_meanconcave_points_worst"
         },
         {
          "Feature": "smoothness_sd_error",
          "Feature_2": "concave_points_worst",
          "X": -1.3889029607897831,
          "Y": 0.3647607153838467,
          "corr": 0.81,
          "corr_abs": 0.81,
          "key": "smoothness_sd_errorconcave_points_worst"
         },
         {
          "Feature": "smoothness_worst",
          "Feature_2": "concave_points_worst",
          "X": -1.3889029607897831,
          "Y": 0.3647607153838467,
          "corr": -0.18,
          "corr_abs": 0.18,
          "key": "smoothness_worstconcave_points_worst"
         },
         {
          "Feature": "concavity_mean",
          "Feature_2": "concave_points_worst",
          "X": -1.3889029607897831,
          "Y": 0.3647607153838467,
          "corr": -0.11,
          "corr_abs": 0.11,
          "key": "concavity_meanconcave_points_worst"
         },
         {
          "Feature": "concavity_sd_error",
          "Feature_2": "concave_points_worst",
          "X": -1.3889029607897831,
          "Y": 0.3647607153838467,
          "corr": -0.02,
          "corr_abs": 0.02,
          "key": "concavity_sd_errorconcave_points_worst"
         },
         {
          "Feature": "concavity_worst",
          "Feature_2": "concave_points_worst",
          "X": -1.3889029607897831,
          "Y": 0.3647607153838467,
          "corr": 0.98,
          "corr_abs": 0.98,
          "key": "concavity_worstconcave_points_worst"
         },
         {
          "Feature": "symmetry_mean",
          "Feature_2": "concave_points_worst",
          "X": -1.3889029607897831,
          "Y": 0.3647607153838467,
          "corr": 0.21,
          "corr_abs": 0.21,
          "key": "symmetry_meanconcave_points_worst"
         },
         {
          "Feature": "symmetry_sd_error",
          "Feature_2": "concave_points_worst",
          "X": -1.3889029607897831,
          "Y": 0.3647607153838467,
          "corr": 0.44,
          "corr_abs": 0.44,
          "key": "symmetry_sd_errorconcave_points_worst"
         },
         {
          "Feature": "symmetry_worst",
          "Feature_2": "concave_points_worst",
          "X": -1.3889029607897831,
          "Y": 0.3647607153838467,
          "corr": 0.54,
          "corr_abs": 0.54,
          "key": "symmetry_worstconcave_points_worst"
         },
         {
          "Feature": "fractal_dimension_mean",
          "Feature_2": "concave_points_worst",
          "X": -1.3889029607897831,
          "Y": 0.3647607153838467,
          "corr": 0.75,
          "corr_abs": 0.75,
          "key": "fractal_dimension_meanconcave_points_worst"
         },
         {
          "Feature": "fractal_dimension_sd_error",
          "Feature_2": "concave_points_worst",
          "X": -1.3889029607897831,
          "Y": 0.3647607153838467,
          "corr": 0.21,
          "corr_abs": 0.21,
          "key": "fractal_dimension_sd_errorconcave_points_worst"
         },
         {
          "Feature": "fractal_dimension_worst",
          "Feature_2": "concave_points_worst",
          "X": -1.3889029607897831,
          "Y": 0.3647607153838467,
          "corr": 0.08,
          "corr_abs": 0.08,
          "key": "fractal_dimension_worstconcave_points_worst"
         },
         {
          "Feature": "texture_mean",
          "Feature_2": "symmetry_mean",
          "X": 0.9586499014205722,
          "Y": -0.36173045459072645,
          "corr": 0.12,
          "corr_abs": 0.12,
          "key": "texture_meansymmetry_mean"
         },
         {
          "Feature": "texture_sd_error",
          "Feature_2": "symmetry_mean",
          "X": 0.9586499014205722,
          "Y": -0.36173045459072645,
          "corr": 0.81,
          "corr_abs": 0.81,
          "key": "texture_sd_errorsymmetry_mean"
         },
         {
          "Feature": "texture_worst",
          "Feature_2": "symmetry_mean",
          "X": 0.9586499014205722,
          "Y": -0.36173045459072645,
          "corr": 0.57,
          "corr_abs": 0.57,
          "key": "texture_worstsymmetry_mean"
         },
         {
          "Feature": "symmetry_sd_error",
          "Feature_2": "symmetry_mean",
          "X": 0.9586499014205722,
          "Y": -0.36173045459072645,
          "corr": 0.57,
          "corr_abs": 0.57,
          "key": "symmetry_sd_errorsymmetry_mean"
         },
         {
          "Feature": "symmetry_worst",
          "Feature_2": "symmetry_mean",
          "X": 0.9586499014205722,
          "Y": -0.36173045459072645,
          "corr": 0.52,
          "corr_abs": 0.52,
          "key": "symmetry_worstsymmetry_mean"
         },
         {
          "Feature": "texture_mean",
          "Feature_2": "symmetry_sd_error",
          "X": 0.12130439533483439,
          "Y": -0.9653280462750881,
          "corr": 0.39,
          "corr_abs": 0.39,
          "key": "texture_meansymmetry_sd_error"
         },
         {
          "Feature": "texture_sd_error",
          "Feature_2": "symmetry_sd_error",
          "X": 0.12130439533483439,
          "Y": -0.9653280462750881,
          "corr": 0.47,
          "corr_abs": 0.47,
          "key": "texture_sd_errorsymmetry_sd_error"
         },
         {
          "Feature": "texture_worst",
          "Feature_2": "symmetry_sd_error",
          "X": 0.12130439533483439,
          "Y": -0.9653280462750881,
          "corr": 0.87,
          "corr_abs": 0.87,
          "key": "texture_worstsymmetry_sd_error"
         },
         {
          "Feature": "symmetry_worst",
          "Feature_2": "symmetry_sd_error",
          "X": 0.12130439533483439,
          "Y": -0.9653280462750881,
          "corr": 0.89,
          "corr_abs": 0.89,
          "key": "symmetry_worstsymmetry_sd_error"
         },
         {
          "Feature": "texture_mean",
          "Feature_2": "symmetry_worst",
          "X": -0.2441402884820551,
          "Y": -0.930804369599624,
          "corr": 0.51,
          "corr_abs": 0.51,
          "key": "texture_meansymmetry_worst"
         },
         {
          "Feature": "texture_sd_error",
          "Feature_2": "symmetry_worst",
          "X": -0.2441402884820551,
          "Y": -0.930804369599624,
          "corr": 0.43,
          "corr_abs": 0.43,
          "key": "texture_sd_errorsymmetry_worst"
         },
         {
          "Feature": "texture_worst",
          "Feature_2": "symmetry_worst",
          "X": -0.2441402884820551,
          "Y": -0.930804369599624,
          "corr": 0.82,
          "corr_abs": 0.82,
          "key": "texture_worstsymmetry_worst"
         },
         {
          "Feature": "radius_mean",
          "Feature_2": "fractal_dimension_mean",
          "X": -0.8827594813905651,
          "Y": -0.7030792747522354,
          "corr": 0.74,
          "corr_abs": 0.74,
          "key": "radius_meanfractal_dimension_mean"
         },
         {
          "Feature": "radius_sd_error",
          "Feature_2": "fractal_dimension_mean",
          "X": -0.8827594813905651,
          "Y": -0.7030792747522354,
          "corr": 0.3,
          "corr_abs": 0.3,
          "key": "radius_sd_errorfractal_dimension_mean"
         },
         {
          "Feature": "radius_worst",
          "Feature_2": "fractal_dimension_mean",
          "X": -0.8827594813905651,
          "Y": -0.7030792747522354,
          "corr": 0.77,
          "corr_abs": 0.77,
          "key": "radius_worstfractal_dimension_mean"
         },
         {
          "Feature": "texture_mean",
          "Feature_2": "fractal_dimension_mean",
          "X": -0.8827594813905651,
          "Y": -0.7030792747522354,
          "corr": 0.72,
          "corr_abs": 0.72,
          "key": "texture_meanfractal_dimension_mean"
         },
         {
          "Feature": "texture_sd_error",
          "Feature_2": "fractal_dimension_mean",
          "X": -0.8827594813905651,
          "Y": -0.7030792747522354,
          "corr": 0.5,
          "corr_abs": 0.5,
          "key": "texture_sd_errorfractal_dimension_mean"
         },
         {
          "Feature": "texture_worst",
          "Feature_2": "fractal_dimension_mean",
          "X": -0.8827594813905651,
          "Y": -0.7030792747522354,
          "corr": 0.82,
          "corr_abs": 0.82,
          "key": "texture_worstfractal_dimension_mean"
         },
         {
          "Feature": "perimeter_mean",
          "Feature_2": "fractal_dimension_mean",
          "X": -0.8827594813905651,
          "Y": -0.7030792747522354,
          "corr": 0.86,
          "corr_abs": 0.86,
          "key": "perimeter_meanfractal_dimension_mean"
         },
         {
          "Feature": "perimeter_sd_error",
          "Feature_2": "fractal_dimension_mean",
          "X": -0.8827594813905651,
          "Y": -0.7030792747522354,
          "corr": 0.91,
          "corr_abs": 0.91,
          "key": "perimeter_sd_errorfractal_dimension_mean"
         },
         {
          "Feature": "perimeter_worst",
          "Feature_2": "fractal_dimension_mean",
          "X": -0.8827594813905651,
          "Y": -0.7030792747522354,
          "corr": 0.43,
          "corr_abs": 0.43,
          "key": "perimeter_worstfractal_dimension_mean"
         },
         {
          "Feature": "smoothness_mean",
          "Feature_2": "fractal_dimension_mean",
          "X": -0.8827594813905651,
          "Y": -0.7030792747522354,
          "corr": 0.55,
          "corr_abs": 0.55,
          "key": "smoothness_meanfractal_dimension_mean"
         },
         {
          "Feature": "smoothness_sd_error",
          "Feature_2": "fractal_dimension_mean",
          "X": -0.8827594813905651,
          "Y": -0.7030792747522354,
          "corr": 0.54,
          "corr_abs": 0.54,
          "key": "smoothness_sd_errorfractal_dimension_mean"
         },
         {
          "Feature": "smoothness_worst",
          "Feature_2": "fractal_dimension_mean",
          "X": -0.8827594813905651,
          "Y": -0.7030792747522354,
          "corr": -0.1,
          "corr_abs": 0.1,
          "key": "smoothness_worstfractal_dimension_mean"
         },
         {
          "Feature": "symmetry_mean",
          "Feature_2": "fractal_dimension_mean",
          "X": -0.8827594813905651,
          "Y": -0.7030792747522354,
          "corr": 0.55,
          "corr_abs": 0.55,
          "key": "symmetry_meanfractal_dimension_mean"
         },
         {
          "Feature": "symmetry_sd_error",
          "Feature_2": "fractal_dimension_mean",
          "X": -0.8827594813905651,
          "Y": -0.7030792747522354,
          "corr": 0.8,
          "corr_abs": 0.8,
          "key": "symmetry_sd_errorfractal_dimension_mean"
         },
         {
          "Feature": "symmetry_worst",
          "Feature_2": "fractal_dimension_mean",
          "X": -0.8827594813905651,
          "Y": -0.7030792747522354,
          "corr": 0.86,
          "corr_abs": 0.86,
          "key": "symmetry_worstfractal_dimension_mean"
         },
         {
          "Feature": "fractal_dimension_sd_error",
          "Feature_2": "fractal_dimension_mean",
          "X": -0.8827594813905651,
          "Y": -0.7030792747522354,
          "corr": 0.5,
          "corr_abs": 0.5,
          "key": "fractal_dimension_sd_errorfractal_dimension_mean"
         },
         {
          "Feature": "fractal_dimension_worst",
          "Feature_2": "fractal_dimension_mean",
          "X": -0.8827594813905651,
          "Y": -0.7030792747522354,
          "corr": 0.51,
          "corr_abs": 0.51,
          "key": "fractal_dimension_worstfractal_dimension_mean"
         },
         {
          "Feature": "radius_mean",
          "Feature_2": "fractal_dimension_sd_error",
          "X": 0.9689000336230705,
          "Y": -0.1703094215612354,
          "corr": 0.16,
          "corr_abs": 0.16,
          "key": "radius_meanfractal_dimension_sd_error"
         },
         {
          "Feature": "radius_sd_error",
          "Feature_2": "fractal_dimension_sd_error",
          "X": 0.9689000336230705,
          "Y": -0.1703094215612354,
          "corr": 0.11,
          "corr_abs": 0.11,
          "key": "radius_sd_errorfractal_dimension_sd_error"
         },
         {
          "Feature": "radius_worst",
          "Feature_2": "fractal_dimension_sd_error",
          "X": 0.9689000336230705,
          "Y": -0.1703094215612354,
          "corr": 0.19,
          "corr_abs": 0.19,
          "key": "radius_worstfractal_dimension_sd_error"
         },
         {
          "Feature": "texture_mean",
          "Feature_2": "fractal_dimension_sd_error",
          "X": 0.9689000336230705,
          "Y": -0.1703094215612354,
          "corr": 0.14,
          "corr_abs": 0.14,
          "key": "texture_meanfractal_dimension_sd_error"
         },
         {
          "Feature": "texture_sd_error",
          "Feature_2": "fractal_dimension_sd_error",
          "X": 0.9689000336230705,
          "Y": -0.1703094215612354,
          "corr": 0.39,
          "corr_abs": 0.39,
          "key": "texture_sd_errorfractal_dimension_sd_error"
         },
         {
          "Feature": "texture_worst",
          "Feature_2": "fractal_dimension_sd_error",
          "X": 0.9689000336230705,
          "Y": -0.1703094215612354,
          "corr": 0.51,
          "corr_abs": 0.51,
          "key": "texture_worstfractal_dimension_sd_error"
         },
         {
          "Feature": "perimeter_mean",
          "Feature_2": "fractal_dimension_sd_error",
          "X": 0.9689000336230705,
          "Y": -0.1703094215612354,
          "corr": 0.41,
          "corr_abs": 0.41,
          "key": "perimeter_meanfractal_dimension_sd_error"
         },
         {
          "Feature": "perimeter_sd_error",
          "Feature_2": "fractal_dimension_sd_error",
          "X": 0.9689000336230705,
          "Y": -0.1703094215612354,
          "corr": 0.38,
          "corr_abs": 0.38,
          "key": "perimeter_sd_errorfractal_dimension_sd_error"
         },
         {
          "Feature": "perimeter_worst",
          "Feature_2": "fractal_dimension_sd_error",
          "X": 0.9689000336230705,
          "Y": -0.1703094215612354,
          "corr": 0.7,
          "corr_abs": 0.7,
          "key": "perimeter_worstfractal_dimension_sd_error"
         },
         {
          "Feature": "smoothness_mean",
          "Feature_2": "fractal_dimension_sd_error",
          "X": 0.9689000336230705,
          "Y": -0.1703094215612354,
          "corr": 0.11,
          "corr_abs": 0.11,
          "key": "smoothness_meanfractal_dimension_sd_error"
         },
         {
          "Feature": "smoothness_sd_error",
          "Feature_2": "fractal_dimension_sd_error",
          "X": 0.9689000336230705,
          "Y": -0.1703094215612354,
          "corr": 0.07,
          "corr_abs": 0.07,
          "key": "smoothness_sd_errorfractal_dimension_sd_error"
         },
         {
          "Feature": "smoothness_worst",
          "Feature_2": "fractal_dimension_sd_error",
          "X": 0.9689000336230705,
          "Y": -0.1703094215612354,
          "corr": -0.11,
          "corr_abs": 0.11,
          "key": "smoothness_worstfractal_dimension_sd_error"
         },
         {
          "Feature": "symmetry_mean",
          "Feature_2": "fractal_dimension_sd_error",
          "X": 0.9689000336230705,
          "Y": -0.1703094215612354,
          "corr": 0.49,
          "corr_abs": 0.49,
          "key": "symmetry_meanfractal_dimension_sd_error"
         },
         {
          "Feature": "symmetry_sd_error",
          "Feature_2": "fractal_dimension_sd_error",
          "X": 0.9689000336230705,
          "Y": -0.1703094215612354,
          "corr": 0.61,
          "corr_abs": 0.61,
          "key": "symmetry_sd_errorfractal_dimension_sd_error"
         },
         {
          "Feature": "symmetry_worst",
          "Feature_2": "fractal_dimension_sd_error",
          "X": 0.9689000336230705,
          "Y": -0.1703094215612354,
          "corr": 0.53,
          "corr_abs": 0.53,
          "key": "symmetry_worstfractal_dimension_sd_error"
         },
         {
          "Feature": "fractal_dimension_worst",
          "Feature_2": "fractal_dimension_sd_error",
          "X": 0.9689000336230705,
          "Y": -0.1703094215612354,
          "corr": 0.54,
          "corr_abs": 0.54,
          "key": "fractal_dimension_worstfractal_dimension_sd_error"
         },
         {
          "Feature": "radius_mean",
          "Feature_2": "fractal_dimension_worst",
          "X": 1.3727588915543767,
          "Y": -0.7962081062986649,
          "corr": 0.01,
          "corr_abs": 0.01,
          "key": "radius_meanfractal_dimension_worst"
         },
         {
          "Feature": "radius_sd_error",
          "Feature_2": "fractal_dimension_worst",
          "X": 1.3727588915543767,
          "Y": -0.7962081062986649,
          "corr": 0.12,
          "corr_abs": 0.12,
          "key": "radius_sd_errorfractal_dimension_worst"
         },
         {
          "Feature": "radius_worst",
          "Feature_2": "fractal_dimension_worst",
          "X": 1.3727588915543767,
          "Y": -0.7962081062986649,
          "corr": 0.05,
          "corr_abs": 0.05,
          "key": "radius_worstfractal_dimension_worst"
         },
         {
          "Feature": "texture_mean",
          "Feature_2": "fractal_dimension_worst",
          "X": 1.3727588915543767,
          "Y": -0.7962081062986649,
          "corr": 0,
          "corr_abs": 0,
          "key": "texture_meanfractal_dimension_worst"
         },
         {
          "Feature": "texture_sd_error",
          "Feature_2": "fractal_dimension_worst",
          "X": 1.3727588915543767,
          "Y": -0.7962081062986649,
          "corr": 0.5,
          "corr_abs": 0.5,
          "key": "texture_sd_errorfractal_dimension_worst"
         },
         {
          "Feature": "texture_worst",
          "Feature_2": "fractal_dimension_worst",
          "X": 1.3727588915543767,
          "Y": -0.7962081062986649,
          "corr": 0.69,
          "corr_abs": 0.69,
          "key": "texture_worstfractal_dimension_worst"
         },
         {
          "Feature": "perimeter_mean",
          "Feature_2": "fractal_dimension_worst",
          "X": 1.3727588915543767,
          "Y": -0.7962081062986649,
          "corr": 0.51,
          "corr_abs": 0.51,
          "key": "perimeter_meanfractal_dimension_worst"
         },
         {
          "Feature": "perimeter_sd_error",
          "Feature_2": "fractal_dimension_worst",
          "X": 1.3727588915543767,
          "Y": -0.7962081062986649,
          "corr": 0.37,
          "corr_abs": 0.37,
          "key": "perimeter_sd_errorfractal_dimension_worst"
         },
         {
          "Feature": "perimeter_worst",
          "Feature_2": "fractal_dimension_worst",
          "X": 1.3727588915543767,
          "Y": -0.7962081062986649,
          "corr": 0.44,
          "corr_abs": 0.44,
          "key": "perimeter_worstfractal_dimension_worst"
         },
         {
          "Feature": "smoothness_mean",
          "Feature_2": "fractal_dimension_worst",
          "X": 1.3727588915543767,
          "Y": -0.7962081062986649,
          "corr": 0.09,
          "corr_abs": 0.09,
          "key": "smoothness_meanfractal_dimension_worst"
         },
         {
          "Feature": "smoothness_sd_error",
          "Feature_2": "fractal_dimension_worst",
          "X": 1.3727588915543767,
          "Y": -0.7962081062986649,
          "corr": 0.02,
          "corr_abs": 0.02,
          "key": "smoothness_sd_errorfractal_dimension_worst"
         },
         {
          "Feature": "smoothness_worst",
          "Feature_2": "fractal_dimension_worst",
          "X": 1.3727588915543767,
          "Y": -0.7962081062986649,
          "corr": 0.1,
          "corr_abs": 0.1,
          "key": "smoothness_worstfractal_dimension_worst"
         },
         {
          "Feature": "symmetry_mean",
          "Feature_2": "fractal_dimension_worst",
          "X": 1.3727588915543767,
          "Y": -0.7962081062986649,
          "corr": 0.62,
          "corr_abs": 0.62,
          "key": "symmetry_meanfractal_dimension_worst"
         },
         {
          "Feature": "symmetry_sd_error",
          "Feature_2": "fractal_dimension_worst",
          "X": 1.3727588915543767,
          "Y": -0.7962081062986649,
          "corr": 0.81,
          "corr_abs": 0.81,
          "key": "symmetry_sd_errorfractal_dimension_worst"
         },
         {
          "Feature": "symmetry_worst",
          "Feature_2": "fractal_dimension_worst",
          "X": 1.3727588915543767,
          "Y": -0.7962081062986649,
          "corr": 0.69,
          "corr_abs": 0.69,
          "key": "symmetry_worstfractal_dimension_worst"
         }
        ],
        "data-e96016336789f73d4c00f9dda5933608": [
         {
          "Cluster": 1,
          "Feature": "diagnosis",
          "cluster_size": 7
         },
         {
          "Cluster": 1,
          "Feature": "radius_mean",
          "cluster_size": 7
         },
         {
          "Cluster": 5,
          "Feature": "radius_sd_error",
          "cluster_size": 2
         },
         {
          "Cluster": 1,
          "Feature": "radius_worst",
          "cluster_size": 7
         },
         {
          "Cluster": 1,
          "Feature": "texture_mean",
          "cluster_size": 7
         },
         {
          "Cluster": 7,
          "Feature": "texture_sd_error",
          "cluster_size": 2
         },
         {
          "Cluster": 2,
          "Feature": "texture_worst",
          "cluster_size": 6
         },
         {
          "Cluster": 2,
          "Feature": "perimeter_mean",
          "cluster_size": 6
         },
         {
          "Cluster": 2,
          "Feature": "perimeter_sd_error",
          "cluster_size": 6
         },
         {
          "Cluster": -1,
          "Feature": "perimeter_worst",
          "cluster_size": 5
         },
         {
          "Cluster": 6,
          "Feature": "area_mean",
          "cluster_size": 2
         },
         {
          "Cluster": 4,
          "Feature": "area_sd_error",
          "cluster_size": 3
         },
         {
          "Cluster": -1,
          "Feature": "area_worst",
          "cluster_size": 5
         },
         {
          "Cluster": 4,
          "Feature": "smoothness_mean",
          "cluster_size": 3
         },
         {
          "Cluster": 4,
          "Feature": "smoothness_sd_error",
          "cluster_size": 3
         },
         {
          "Cluster": -1,
          "Feature": "smoothness_worst",
          "cluster_size": 5
         },
         {
          "Cluster": 3,
          "Feature": "compactness_mean",
          "cluster_size": 4
         },
         {
          "Cluster": 3,
          "Feature": "compactness_sd_error",
          "cluster_size": 4
         },
         {
          "Cluster": 3,
          "Feature": "compactness_worst",
          "cluster_size": 4
         },
         {
          "Cluster": -1,
          "Feature": "concavity_mean",
          "cluster_size": 5
         },
         {
          "Cluster": 3,
          "Feature": "concavity_sd_error",
          "cluster_size": 4
         },
         {
          "Cluster": 1,
          "Feature": "concavity_worst",
          "cluster_size": 7
         },
         {
          "Cluster": 5,
          "Feature": "concave_points_mean",
          "cluster_size": 2
         },
         {
          "Cluster": 1,
          "Feature": "concave_points_sd_error",
          "cluster_size": 7
         },
         {
          "Cluster": 1,
          "Feature": "concave_points_worst",
          "cluster_size": 7
         },
         {
          "Cluster": 7,
          "Feature": "symmetry_mean",
          "cluster_size": 2
         },
         {
          "Cluster": 2,
          "Feature": "symmetry_sd_error",
          "cluster_size": 6
         },
         {
          "Cluster": 2,
          "Feature": "symmetry_worst",
          "cluster_size": 6
         },
         {
          "Cluster": 2,
          "Feature": "fractal_dimension_mean",
          "cluster_size": 6
         },
         {
          "Cluster": -1,
          "Feature": "fractal_dimension_sd_error",
          "cluster_size": 5
         },
         {
          "Cluster": 6,
          "Feature": "fractal_dimension_worst",
          "cluster_size": 2
         }
        ],
        "data-f7c875f5d6671cc716082a39dc222cf4": [
         {
          "Count": 60,
          "corr_abs": 0
         },
         {
          "Count": 62,
          "corr_abs": 0.1
         },
         {
          "Count": 71,
          "corr_abs": 0.2
         },
         {
          "Count": 64,
          "corr_abs": 0.3
         },
         {
          "Count": 45,
          "corr_abs": 0.4
         },
         {
          "Count": 48,
          "corr_abs": 0.5
         },
         {
          "Count": 33,
          "corr_abs": 0.6
         },
         {
          "Count": 38,
          "corr_abs": 0.7
         },
         {
          "Count": 23,
          "corr_abs": 0.8
         },
         {
          "Count": 20,
          "corr_abs": 0.9
         },
         {
          "Count": 1,
          "corr_abs": 1
         }
        ]
       },
       "hconcat": [
        {
         "vconcat": [
          {
           "data": {
            "name": "data-766b395d38f026168cff9a5a35b63058"
           },
           "encoding": {
            "color": {
             "condition": {
              "field": "Cluster",
              "legend": null,
              "selection": "selector187",
              "type": "nominal"
             },
             "value": "lightgray"
            },
            "x": {
             "field": "X",
             "type": "quantitative"
            },
            "y": {
             "field": "Y",
             "type": "quantitative"
            }
           },
           "height": 500,
           "layer": [
            {
             "encoding": {
              "size": {
               "field": "target_corr",
               "legend": null,
               "scale": {
                "domain": [
                 0,
                 1
                ]
               },
               "type": "quantitative"
              }
             },
             "mark": "circle",
             "selection": {
              "selector188": {
               "bind": "scales",
               "encodings": [
                "x",
                "y"
               ],
               "type": "interval"
              }
             },
             "transform": [
              {
               "from": {
                "data": {
                 "name": "data-e96016336789f73d4c00f9dda5933608"
                },
                "fields": [
                 "cluster_size",
                 "Cluster"
                ],
                "key": "Feature"
               },
               "lookup": "Feature"
              }
             ]
            },
            {
             "encoding": {
              "text": {
               "field": "Feature",
               "type": "nominal"
              }
             },
             "mark": {
              "dx": 20,
              "dy": 10,
              "type": "text"
             },
             "transform": [
              {
               "from": {
                "data": {
                 "name": "data-e96016336789f73d4c00f9dda5933608"
                },
                "fields": [
                 "cluster_size",
                 "Cluster"
                ],
                "key": "Feature"
               },
               "lookup": "Feature"
              }
             ]
            },
            {
             "data": {
              "name": "data-d0484ac232f829d457b2b12a3dc1ae4a"
             },
             "encoding": {
              "detail": {
               "field": "key",
               "type": "nominal"
              },
              "strokeWidth": {
               "field": "corr_abs",
               "scale": {
                "domain": [
                 0,
                 1
                ],
                "range": [
                 0.3,
                 3
                ]
               },
               "type": "quantitative"
              }
             },
             "mark": "line",
             "transform": [
              {
               "filter": "(datum.corr_abs >= selector186.corr_abs)"
              },
              {
               "from": {
                "data": {
                 "name": "data-e96016336789f73d4c00f9dda5933608"
                },
                "fields": [
                 "cluster_size",
                 "Cluster"
                ],
                "key": "Feature"
               },
               "lookup": "Feature"
              }
             ]
            }
           ],
           "width": 800
          },
          {
           "data": {
            "name": "data-f7c875f5d6671cc716082a39dc222cf4"
           },
           "encoding": {
            "color": {
             "condition": {
              "test": "(datum.corr_abs >= selector186.corr_abs)",
              "value": "lightblue"
             },
             "value": "lightgray"
            },
            "x": {
             "field": "corr_abs",
             "type": "ordinal"
            },
            "y": {
             "axis": {
              "labelAngle": 0,
              "title": "Feature Pairs",
              "titleAngle": 0
             },
             "field": "Count",
             "type": "quantitative"
            }
           },
           "height": 100,
           "mark": "bar",
           "selection": {
            "selector186": {
             "fields": [
              "corr_abs"
             ],
             "init": {
              "corr_abs": 0.7
             },
             "type": "single"
            }
           },
           "title": "Select Correlation Threshold to Show Lines",
           "width": 800
          }
         ]
        },
        {
         "data": {
          "name": "data-e96016336789f73d4c00f9dda5933608"
         },
         "encoding": {
          "color": {
           "field": "Cluster",
           "legend": null,
           "type": "nominal"
          },
          "x": {
           "field": "cluster_size",
           "type": "quantitative"
          },
          "y": {
           "field": "Cluster",
           "type": "nominal"
          }
         },
         "mark": "bar",
         "selection": {
          "selector187": {
           "fields": [
            "Cluster"
           ],
           "type": "single"
          }
         },
         "width": 150
        }
       ]
      },
      "image/png": "[encoded data removed]",
      "text/plain": [
       "<VegaLite 3 object>\n",
       "\n",
       "If you see this message, it means the renderer has not been properly enabled\n",
       "for the frontend that you are using. For more information, see\n",
       "https://altair-viz.github.io/user_guide/troubleshooting.html\n"
      ]
     },
     "execution_count": 222,
     "metadata": {},
     "output_type": "execute_result"
    }
   ],
   "source": [
    "visualize_feature_correlation(breast_cancer_df, \"clusters\")"
   ]
  },
  {
   "cell_type": "markdown",
   "metadata": {},
   "source": [
    "### TO DO\n",
    "- ability to pass in your own clusters\n",
    "- give -1 cluster a name\n",
    "- melt clusters and turn to lookup\n",
    "- fix javascript\n",
    "- try bigger dataset"
   ]
  },
  {
   "cell_type": "code",
   "execution_count": null,
   "metadata": {},
   "outputs": [],
   "source": []
  }
 ],
 "metadata": {
  "kernelspec": {
   "display_name": "Python 3",
   "language": "python",
   "name": "python3"
  },
  "language_info": {
   "codemirror_mode": {
    "name": "ipython",
    "version": 3
   },
   "file_extension": ".py",
   "mimetype": "text/x-python",
   "name": "python",
   "nbconvert_exporter": "python",
   "pygments_lexer": "ipython3",
   "version": "3.7.3"
  }
 },
 "nbformat": 4,
 "nbformat_minor": 4
}
